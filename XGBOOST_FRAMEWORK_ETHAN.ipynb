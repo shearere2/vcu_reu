{
  "nbformat": 4,
  "nbformat_minor": 0,
  "metadata": {
    "colab": {
      "provenance": [],
      "include_colab_link": true
    },
    "kernelspec": {
      "name": "ir",
      "display_name": "R"
    },
    "language_info": {
      "name": "R"
    }
  },
  "cells": [
    {
      "cell_type": "markdown",
      "metadata": {
        "id": "view-in-github",
        "colab_type": "text"
      },
      "source": [
        "<a href=\"https://colab.research.google.com/github/shearere2/vcu_reu/blob/main/XGBOOST_FRAMEWORK_ETHAN.ipynb\" target=\"_parent\"><img src=\"https://colab.research.google.com/assets/colab-badge.svg\" alt=\"Open In Colab\"/></a>"
      ]
    },
    {
      "cell_type": "code",
      "source": [
        "install.packages('xgboost')"
      ],
      "metadata": {
        "colab": {
          "base_uri": "https://localhost:8080/"
        },
        "id": "0mV0m8cwFS9m",
        "outputId": "8d78de5b-877a-4387-8303-5a35785967c7"
      },
      "execution_count": 133,
      "outputs": [
        {
          "output_type": "stream",
          "name": "stderr",
          "text": [
            "Installing package into ‘/usr/local/lib/R/site-library’\n",
            "(as ‘lib’ is unspecified)\n",
            "\n"
          ]
        }
      ]
    },
    {
      "cell_type": "code",
      "source": [
        "install.packages('estimatr')"
      ],
      "metadata": {
        "colab": {
          "base_uri": "https://localhost:8080/"
        },
        "id": "DCH4k6IpCF1u",
        "outputId": "811ad9a9-8d6c-4b16-9374-bde7d5b5a9c4"
      },
      "execution_count": 134,
      "outputs": [
        {
          "output_type": "stream",
          "name": "stderr",
          "text": [
            "Installing package into ‘/usr/local/lib/R/site-library’\n",
            "(as ‘lib’ is unspecified)\n",
            "\n"
          ]
        }
      ]
    },
    {
      "cell_type": "code",
      "source": [
        "install.packages(\"dplyr\")"
      ],
      "metadata": {
        "colab": {
          "base_uri": "https://localhost:8080/"
        },
        "id": "CvX02ZSaARuc",
        "outputId": "96ac703b-be11-457c-bc2b-c24da617905b"
      },
      "execution_count": 135,
      "outputs": [
        {
          "output_type": "stream",
          "name": "stderr",
          "text": [
            "Installing package into ‘/usr/local/lib/R/site-library’\n",
            "(as ‘lib’ is unspecified)\n",
            "\n"
          ]
        }
      ]
    },
    {
      "cell_type": "code",
      "source": [
        "library(dplyr)"
      ],
      "metadata": {
        "id": "bD_mAj35ATCF"
      },
      "execution_count": 136,
      "outputs": []
    },
    {
      "cell_type": "code",
      "source": [
        "library(xgboost)"
      ],
      "metadata": {
        "id": "gDzzsHy0HlTa"
      },
      "execution_count": 137,
      "outputs": []
    },
    {
      "cell_type": "code",
      "source": [
        "library(estimatr)"
      ],
      "metadata": {
        "id": "ZRcufS67IKHp"
      },
      "execution_count": 138,
      "outputs": []
    },
    {
      "cell_type": "markdown",
      "source": [
        "# CISGENDER WOMEN SUBGROUP"
      ],
      "metadata": {
        "id": "5QdDDlf8OlpK"
      }
    },
    {
      "cell_type": "markdown",
      "source": [
        "### Using GPA as primary predictor"
      ],
      "metadata": {
        "id": "AVgiP8YlGzkb"
      }
    },
    {
      "cell_type": "code",
      "source": [
        "set.seed(2024)\n",
        "data.intake <- read.csv('gender_female.csv')\n",
        "rownames(data.intake) <- data.intake$record_id"
      ],
      "metadata": {
        "id": "lL_NKhqwOo3X"
      },
      "execution_count": 139,
      "outputs": []
    },
    {
      "cell_type": "code",
      "source": [
        "col_names <- colnames(data.intake)\n",
        "if (\"gpa_thresh3_0\" %in% col_names){\n",
        "  new_col_order <- c(\"gpa_thresh3_0\", col_names[col_names != \"gpa_thresh3_0\"])\n",
        "  data.intake <- data.intake[, new_col_order]}"
      ],
      "metadata": {
        "id": "lLWYGIBm3qN0"
      },
      "execution_count": 140,
      "outputs": []
    },
    {
      "cell_type": "code",
      "source": [
        "rownames(data.intake) <- data.intake$record_id\n",
        "data.intake$record_id <- NULL"
      ],
      "metadata": {
        "id": "SneJ2kqxO7gD"
      },
      "execution_count": 141,
      "outputs": []
    },
    {
      "cell_type": "code",
      "source": [
        "n <- nrow(data.intake)\n",
        "train_rows <- sample(1:n, 0.99 * n, replace = F)\n",
        "train.intake <- xgb.DMatrix(data.matrix(data.intake[train_rows, -1]),\n",
        "                            label = data.intake[train_rows, 1])\n",
        "test.intake <- xgb.DMatrix(data.matrix(data.intake[-train_rows, -1]),\n",
        "                            label = data.intake[-train_rows, 1])"
      ],
      "metadata": {
        "id": "YSixaQ7ZO8bM"
      },
      "execution_count": 142,
      "outputs": []
    },
    {
      "cell_type": "code",
      "source": [
        "params <- list(\n",
        "  objective = \"binary:logistic\",\n",
        "  learning_rate = 0.05,\n",
        "  subsample = 0.9,\n",
        "  colsample_bynode = 1,\n",
        "  max_depth = 10,\n",
        "  scale_pos_weight = 1\n",
        ")"
      ],
      "metadata": {
        "id": "_bcLpp71PBkm"
      },
      "execution_count": 143,
      "outputs": []
    },
    {
      "cell_type": "code",
      "source": [
        "fit_xgb <- xgb.train(\n",
        "  params,\n",
        "  data = train.intake,\n",
        "  watchlist = list(train = train.intake, test = test.intake),\n",
        "  eval.metric = \"error\",\n",
        "  early_stopping_rounds = 100,\n",
        "  print_every_n = 10,\n",
        "  nrounds = 10000\n",
        ")"
      ],
      "metadata": {
        "colab": {
          "base_uri": "https://localhost:8080/"
        },
        "id": "gyYMQB94PDxf",
        "outputId": "d3596efc-a83d-4b2c-ff74-91a85223277d"
      },
      "execution_count": 144,
      "outputs": [
        {
          "output_type": "stream",
          "name": "stdout",
          "text": [
            "[1]\ttrain-error:0.120536\ttest-error:1.000000 \n",
            "Multiple eval metrics are present. Will use test_error for early stopping.\n",
            "Will train until test_error hasn't improved in 100 rounds.\n",
            "\n",
            "[11]\ttrain-error:0.040179\ttest-error:1.000000 \n",
            "[21]\ttrain-error:0.026786\ttest-error:1.000000 \n",
            "[31]\ttrain-error:0.008929\ttest-error:1.000000 \n",
            "[41]\ttrain-error:0.004464\ttest-error:1.000000 \n",
            "[51]\ttrain-error:0.004464\ttest-error:1.000000 \n",
            "[61]\ttrain-error:0.000000\ttest-error:1.000000 \n",
            "[71]\ttrain-error:0.000000\ttest-error:1.000000 \n",
            "[81]\ttrain-error:0.000000\ttest-error:1.000000 \n",
            "[91]\ttrain-error:0.000000\ttest-error:1.000000 \n",
            "[101]\ttrain-error:0.000000\ttest-error:1.000000 \n",
            "Stopping. Best iteration:\n",
            "[1]\ttrain-error:0.120536\ttest-error:1.000000\n",
            "\n"
          ]
        }
      ]
    },
    {
      "cell_type": "code",
      "source": [
        "pred <- predict(fit_xgb, train.intake)"
      ],
      "metadata": {
        "id": "RhrbJoWCPGSs"
      },
      "execution_count": 145,
      "outputs": []
    },
    {
      "cell_type": "code",
      "source": [
        "dif <- dim(data.intake)[1] - length(pred)\n",
        "dif"
      ],
      "metadata": {
        "colab": {
          "base_uri": "https://localhost:8080/",
          "height": 34
        },
        "id": "Pf7GWR6vPIZF",
        "outputId": "764ec40c-37d0-454a-988f-f92a6f34fc0b"
      },
      "execution_count": 146,
      "outputs": [
        {
          "output_type": "display_data",
          "data": {
            "text/html": [
              "3"
            ],
            "text/markdown": "3",
            "text/latex": "3",
            "text/plain": [
              "[1] 3"
            ]
          },
          "metadata": {}
        }
      ]
    },
    {
      "cell_type": "code",
      "source": [
        "for (x in 1:dif) {\n",
        "  pred <- c(pred, mean(pred))\n",
        "}"
      ],
      "metadata": {
        "id": "mzGBl0SoPJ91"
      },
      "execution_count": 147,
      "outputs": []
    },
    {
      "cell_type": "code",
      "source": [
        "ipw <- ifelse(data.intake$gpa_thresh3_0==1, 1/pred, 1/(1-pred))"
      ],
      "metadata": {
        "id": "kUnruVr5SHC6"
      },
      "execution_count": 148,
      "outputs": []
    },
    {
      "cell_type": "code",
      "source": [
        "model <- lm_robust(mh_scale ~ gpa_thresh3_0, data=data.intake, weights=ipw, alpha=0.1)"
      ],
      "metadata": {
        "id": "hFWHV5LOPLkN"
      },
      "execution_count": 149,
      "outputs": []
    },
    {
      "cell_type": "code",
      "source": [
        "summary(model)"
      ],
      "metadata": {
        "colab": {
          "base_uri": "https://localhost:8080/",
          "height": 267
        },
        "id": "HFzjptcuPO1V",
        "outputId": "2edef6e1-1542-4135-c2b6-a26b3eaa7196"
      },
      "execution_count": 150,
      "outputs": [
        {
          "output_type": "display_data",
          "data": {
            "text/plain": [
              "\n",
              "Call:\n",
              "lm_robust(formula = mh_scale ~ gpa_thresh3_0, data = data.intake, \n",
              "    weights = ipw, alpha = 0.1)\n",
              "\n",
              "Weighted, Standard error type:  HC2 \n",
              "\n",
              "Coefficients:\n",
              "              Estimate Std. Error t value  Pr(>|t|) CI Lower CI Upper  DF\n",
              "(Intercept)     0.8323    0.04594  18.120 7.461e-46   0.7565  0.90822 225\n",
              "gpa_thresh3_0  -0.1896    0.08903  -2.129 3.433e-02  -0.3366 -0.04251 225\n",
              "\n",
              "Multiple R-squared:  0.01854 ,\tAdjusted R-squared:  0.01418 \n",
              "F-statistic: 4.533 on 1 and 225 DF,  p-value: 0.03433"
            ]
          },
          "metadata": {}
        }
      ]
    },
    {
      "cell_type": "markdown",
      "source": [
        "Using PTSD score as primary predictor"
      ],
      "metadata": {
        "id": "fB_8vzQSLlqY"
      }
    },
    {
      "cell_type": "code",
      "source": [
        "set.seed(2024)\n",
        "data.intake <- read.csv('gender_female.csv')\n",
        "rownames(data.intake) <- data.intake$record_id\n",
        "data.intake$record_id <- NULL\n",
        "data.intake <- data.intake %>%\n",
        "  mutate(ptsd_score = ifelse(ptsd_score >= 33, 1, 0))\n",
        "\n",
        "col_names <- colnames(data.intake)\n",
        "if (\"ptsd_score\" %in% col_names){\n",
        "  new_col_order <- c(\"ptsd_score\", col_names[col_names != \"ptsd_score\"])\n",
        "  data.intake <- data.intake[, new_col_order]}\n",
        "\n",
        "n <- nrow(data.intake)\n",
        "train_rows <- sample(1:n, 0.99 * n, replace = F)\n",
        "train.intake <- xgb.DMatrix(data.matrix(data.intake[train_rows, -1]),\n",
        "                            label = data.intake[train_rows, 1])\n",
        "test.intake <- xgb.DMatrix(data.matrix(data.intake[-train_rows, -1]),\n",
        "                            label = data.intake[-train_rows, 1])\n",
        "\n",
        "params <- list(\n",
        "  objective = \"binary:logistic\",\n",
        "  learning_rate = 0.05,\n",
        "  subsample = 0.9,\n",
        "  colsample_bynode = 1,\n",
        "  max_depth = 10,\n",
        "  scale_pos_weight = 1\n",
        ")\n",
        "\n",
        "fit_xgb <- xgb.train(\n",
        "  params,\n",
        "  data = train.intake,\n",
        "  watchlist = list(train = train.intake, test = test.intake),\n",
        "  eval.metric = \"error\",\n",
        "  early_stopping_rounds = 100,\n",
        "  print_every_n = 10,\n",
        "  nrounds = 10000\n",
        ")\n",
        "\n",
        "pred <- predict(fit_xgb, train.intake)\n",
        "dif <- dim(data.intake)[1] - length(pred)\n",
        "\n",
        "for (x in 1:dif) {\n",
        "  pred <- c(pred, mean(pred))\n",
        "}\n",
        "\n",
        "ipw <- ifelse(data.intake$ptsd_score==1, 1/pred, 1/(1-pred))\n",
        "model <- lm_robust(mh_scale ~ ptsd_score, data=data.intake, weights=ipw, alpha=0.1)\n",
        "summary(model)"
      ],
      "metadata": {
        "id": "FN5QBtbEAghJ",
        "colab": {
          "base_uri": "https://localhost:8080/",
          "height": 571
        },
        "outputId": "2dec7b15-2b2b-48cc-b27b-4328bcf67071"
      },
      "execution_count": 151,
      "outputs": [
        {
          "output_type": "stream",
          "name": "stdout",
          "text": [
            "[1]\ttrain-error:0.071429\ttest-error:0.666667 \n",
            "Multiple eval metrics are present. Will use test_error for early stopping.\n",
            "Will train until test_error hasn't improved in 100 rounds.\n",
            "\n",
            "[11]\ttrain-error:0.053571\ttest-error:0.000000 \n",
            "[21]\ttrain-error:0.044643\ttest-error:0.000000 \n",
            "[31]\ttrain-error:0.022321\ttest-error:0.333333 \n",
            "[41]\ttrain-error:0.013393\ttest-error:0.000000 \n",
            "[51]\ttrain-error:0.004464\ttest-error:0.000000 \n",
            "[61]\ttrain-error:0.004464\ttest-error:0.000000 \n",
            "[71]\ttrain-error:0.000000\ttest-error:0.000000 \n",
            "[81]\ttrain-error:0.000000\ttest-error:0.000000 \n",
            "[91]\ttrain-error:0.000000\ttest-error:0.000000 \n",
            "[101]\ttrain-error:0.000000\ttest-error:0.000000 \n",
            "Stopping. Best iteration:\n",
            "[5]\ttrain-error:0.049107\ttest-error:0.000000\n",
            "\n"
          ]
        },
        {
          "output_type": "display_data",
          "data": {
            "text/plain": [
              "\n",
              "Call:\n",
              "lm_robust(formula = mh_scale ~ ptsd_score, data = data.intake, \n",
              "    weights = ipw, alpha = 0.1)\n",
              "\n",
              "Weighted, Standard error type:  HC2 \n",
              "\n",
              "Coefficients:\n",
              "            Estimate Std. Error t value  Pr(>|t|) CI Lower CI Upper  DF\n",
              "(Intercept)   0.5297    0.03231   16.39 2.875e-40   0.4763   0.5831 225\n",
              "ptsd_score    0.8487    0.07343   11.56 1.457e-24   0.7274   0.9700 225\n",
              "\n",
              "Multiple R-squared:  0.4369 ,\tAdjusted R-squared:  0.4344 \n",
              "F-statistic: 133.6 on 1 and 225 DF,  p-value: < 2.2e-16"
            ]
          },
          "metadata": {}
        }
      ]
    },
    {
      "cell_type": "markdown",
      "source": [
        "Using covid_iso as primary predictor"
      ],
      "metadata": {
        "id": "4ZmVNYsaMbMO"
      }
    },
    {
      "cell_type": "code",
      "source": [
        "median(data.intake$covid_iso)"
      ],
      "metadata": {
        "colab": {
          "base_uri": "https://localhost:8080/",
          "height": 34
        },
        "id": "3oLIZmdXMqko",
        "outputId": "96a53706-10e4-418b-c700-bdb9966a7976"
      },
      "execution_count": 152,
      "outputs": [
        {
          "output_type": "display_data",
          "data": {
            "text/html": [
              "7"
            ],
            "text/markdown": "7",
            "text/latex": "7",
            "text/plain": [
              "[1] 7"
            ]
          },
          "metadata": {}
        }
      ]
    },
    {
      "cell_type": "code",
      "source": [
        "set.seed(2024)\n",
        "data.intake <- read.csv('gender_female.csv')\n",
        "rownames(data.intake) <- data.intake$record_id\n",
        "data.intake$record_id <- NULL\n",
        "data.intake <- data.intake %>%\n",
        "  mutate(covid_iso = ifelse(covid_iso > 7, 1, 0))\n",
        "\n",
        "col_names <- colnames(data.intake)\n",
        "if (\"covid_iso\" %in% col_names){\n",
        "  new_col_order <- c(\"covid_iso\", col_names[col_names != \"covid_iso\"])\n",
        "  data.intake <- data.intake[, new_col_order]}\n",
        "\n",
        "n <- nrow(data.intake)\n",
        "train_rows <- sample(1:n, 0.99 * n, replace = F)\n",
        "train.intake <- xgb.DMatrix(data.matrix(data.intake[train_rows, -1]),\n",
        "                            label = data.intake[train_rows, 1])\n",
        "test.intake <- xgb.DMatrix(data.matrix(data.intake[-train_rows, -1]),\n",
        "                            label = data.intake[-train_rows, 1])\n",
        "\n",
        "params <- list(\n",
        "  objective = \"binary:logistic\",\n",
        "  learning_rate = 0.05,\n",
        "  subsample = 0.9,\n",
        "  colsample_bynode = 1,\n",
        "  max_depth = 10,\n",
        "  scale_pos_weight = 1\n",
        ")\n",
        "\n",
        "fit_xgb <- xgb.train(\n",
        "  params,\n",
        "  data = train.intake,\n",
        "  watchlist = list(train = train.intake, test = test.intake),\n",
        "  eval.metric = \"error\",\n",
        "  early_stopping_rounds = 100,\n",
        "  print_every_n = 10,\n",
        "  nrounds = 10000\n",
        ")\n",
        "\n",
        "pred <- predict(fit_xgb, train.intake)\n",
        "dif <- dim(data.intake)[1] - length(pred)\n",
        "\n",
        "for (x in 1:dif) {\n",
        "  pred <- c(pred, mean(pred))\n",
        "}\n",
        "\n",
        "ipw <- ifelse(data.intake$covid_iso==1, 1/pred, 1/(1-pred))\n",
        "model <- lm_robust(mh_scale ~ covid_iso, data=data.intake, weights=ipw, alpha=0.1)\n",
        "summary(model)"
      ],
      "metadata": {
        "colab": {
          "base_uri": "https://localhost:8080/",
          "height": 571
        },
        "id": "9EJqJjqTMCrf",
        "outputId": "239b9ddd-84d3-4b80-c983-f05f398ac0fe"
      },
      "execution_count": 153,
      "outputs": [
        {
          "output_type": "stream",
          "name": "stdout",
          "text": [
            "[1]\ttrain-error:0.125000\ttest-error:0.333333 \n",
            "Multiple eval metrics are present. Will use test_error for early stopping.\n",
            "Will train until test_error hasn't improved in 100 rounds.\n",
            "\n",
            "[11]\ttrain-error:0.035714\ttest-error:0.666667 \n",
            "[21]\ttrain-error:0.008929\ttest-error:0.666667 \n",
            "[31]\ttrain-error:0.008929\ttest-error:0.666667 \n",
            "[41]\ttrain-error:0.004464\ttest-error:0.666667 \n",
            "[51]\ttrain-error:0.004464\ttest-error:0.666667 \n",
            "[61]\ttrain-error:0.000000\ttest-error:0.666667 \n",
            "[71]\ttrain-error:0.000000\ttest-error:0.666667 \n",
            "[81]\ttrain-error:0.000000\ttest-error:0.666667 \n",
            "[91]\ttrain-error:0.000000\ttest-error:0.666667 \n",
            "[101]\ttrain-error:0.000000\ttest-error:0.666667 \n",
            "Stopping. Best iteration:\n",
            "[1]\ttrain-error:0.125000\ttest-error:0.333333\n",
            "\n"
          ]
        },
        {
          "output_type": "display_data",
          "data": {
            "text/plain": [
              "\n",
              "Call:\n",
              "lm_robust(formula = mh_scale ~ covid_iso, data = data.intake, \n",
              "    weights = ipw, alpha = 0.1)\n",
              "\n",
              "Weighted, Standard error type:  HC2 \n",
              "\n",
              "Coefficients:\n",
              "            Estimate Std. Error t value  Pr(>|t|) CI Lower CI Upper  DF\n",
              "(Intercept)   0.6738    0.05108   13.19 8.195e-30   0.5895   0.7582 225\n",
              "covid_iso     0.2527    0.07873    3.21 1.522e-03   0.1227   0.3827 225\n",
              "\n",
              "Multiple R-squared:  0.04436 ,\tAdjusted R-squared:  0.04012 \n",
              "F-statistic:  10.3 on 1 and 225 DF,  p-value: 0.001522"
            ]
          },
          "metadata": {}
        }
      ]
    },
    {
      "cell_type": "markdown",
      "source": [
        "Using edu.i_count as predidctor"
      ],
      "metadata": {
        "id": "isvM1WhcOrH1"
      }
    },
    {
      "cell_type": "code",
      "source": [
        "set.seed(2024)\n",
        "data.intake <- read.csv('gender_female.csv')\n",
        "rownames(data.intake) <- data.intake$record_id\n",
        "data.intake$record_id <- NULL\n",
        "data.intake <- data.intake %>%\n",
        "  mutate(edu.i_count = ifelse(edu.i_count <= 2, 1, 0))\n",
        "\n",
        "col_names <- colnames(data.intake)\n",
        "if (\"edu.i_count\" %in% col_names){\n",
        "  new_col_order <- c(\"edu.i_count\", col_names[col_names != \"edu.i_count\"])\n",
        "  data.intake <- data.intake[, new_col_order]}\n",
        "\n",
        "n <- nrow(data.intake)\n",
        "train_rows <- sample(1:n, 0.99 * n, replace = F)\n",
        "train.intake <- xgb.DMatrix(data.matrix(data.intake[train_rows, -1]),\n",
        "                            label = data.intake[train_rows, 1])\n",
        "test.intake <- xgb.DMatrix(data.matrix(data.intake[-train_rows, -1]),\n",
        "                            label = data.intake[-train_rows, 1])\n",
        "\n",
        "params <- list(\n",
        "  objective = \"binary:logistic\",\n",
        "  learning_rate = 0.05,\n",
        "  subsample = 0.9,\n",
        "  colsample_bynode = 1,\n",
        "  max_depth = 10,\n",
        "  scale_pos_weight = 1\n",
        ")\n",
        "\n",
        "fit_xgb <- xgb.train(\n",
        "  params,\n",
        "  data = train.intake,\n",
        "  watchlist = list(train = train.intake, test = test.intake),\n",
        "  eval.metric = \"error\",\n",
        "  early_stopping_rounds = 100,\n",
        "  print_every_n = 10,\n",
        "  nrounds = 10000\n",
        ")\n",
        "\n",
        "pred <- predict(fit_xgb, train.intake)\n",
        "dif <- dim(data.intake)[1] - length(pred)\n",
        "\n",
        "for (x in 1:dif) {\n",
        "  pred <- c(pred, mean(pred))\n",
        "}\n",
        "\n",
        "ipw <- ifelse(data.intake$edu.i_count==1, 1/pred, 1/(1-pred))\n",
        "model <- lm_robust(mh_scale ~ edu.i_count, data=data.intake, weights=ipw, alpha=0.1)\n",
        "summary(model)"
      ],
      "metadata": {
        "colab": {
          "base_uri": "https://localhost:8080/",
          "height": 571
        },
        "id": "nEy6bo2bNiB1",
        "outputId": "bed5f602-83b3-407e-f764-25d14389e59f"
      },
      "execution_count": 154,
      "outputs": [
        {
          "output_type": "stream",
          "name": "stdout",
          "text": [
            "[1]\ttrain-error:0.075893\ttest-error:0.333333 \n",
            "Multiple eval metrics are present. Will use test_error for early stopping.\n",
            "Will train until test_error hasn't improved in 100 rounds.\n",
            "\n",
            "[11]\ttrain-error:0.044643\ttest-error:0.333333 \n",
            "[21]\ttrain-error:0.031250\ttest-error:0.333333 \n",
            "[31]\ttrain-error:0.022321\ttest-error:0.333333 \n",
            "[41]\ttrain-error:0.013393\ttest-error:0.333333 \n",
            "[51]\ttrain-error:0.004464\ttest-error:0.333333 \n",
            "[61]\ttrain-error:0.004464\ttest-error:0.333333 \n",
            "[71]\ttrain-error:0.004464\ttest-error:0.333333 \n",
            "[81]\ttrain-error:0.004464\ttest-error:0.333333 \n",
            "[91]\ttrain-error:0.004464\ttest-error:0.333333 \n",
            "[101]\ttrain-error:0.000000\ttest-error:0.333333 \n",
            "Stopping. Best iteration:\n",
            "[1]\ttrain-error:0.075893\ttest-error:0.333333\n",
            "\n"
          ]
        },
        {
          "output_type": "display_data",
          "data": {
            "text/plain": [
              "\n",
              "Call:\n",
              "lm_robust(formula = mh_scale ~ edu.i_count, data = data.intake, \n",
              "    weights = ipw, alpha = 0.1)\n",
              "\n",
              "Weighted, Standard error type:  HC2 \n",
              "\n",
              "Coefficients:\n",
              "            Estimate Std. Error t value  Pr(>|t|)  CI Lower CI Upper  DF\n",
              "(Intercept)   0.7062    0.05987  11.796 2.558e-25  0.607342   0.8051 225\n",
              "edu.i_count   0.1270    0.07917   1.604 1.102e-01 -0.003807   0.2577 225\n",
              "\n",
              "Multiple R-squared:  0.01061 ,\tAdjusted R-squared:  0.006208 \n",
              "F-statistic: 2.571 on 1 and 225 DF,  p-value: 0.1102"
            ]
          },
          "metadata": {}
        }
      ]
    },
    {
      "cell_type": "markdown",
      "source": [
        "# Cisgender Man Subgroup"
      ],
      "metadata": {
        "id": "mUDob-i_cthR"
      }
    },
    {
      "cell_type": "markdown",
      "source": [
        "GPA as primary predictor"
      ],
      "metadata": {
        "id": "tm5y1a-vcwpt"
      }
    },
    {
      "cell_type": "code",
      "source": [
        "set.seed(2024)\n",
        "data.intake <- read.csv('gender_male.csv')\n",
        "rownames(data.intake) <- data.intake$record_id\n",
        "data.intake$record_id <- NULL\n",
        "\n",
        "col_names <- colnames(data.intake)\n",
        "if (\"gpa_thresh3_0\" %in% col_names){\n",
        "  new_col_order <- c(\"gpa_thresh3_0\", col_names[col_names != \"gpa_thresh3_0\"])\n",
        "  data.intake <- data.intake[, new_col_order]}\n",
        "\n",
        "n <- nrow(data.intake)\n",
        "train_rows <- sample(1:n, 0.99 * n, replace = F)\n",
        "train.intake <- xgb.DMatrix(data.matrix(data.intake[train_rows, -1]),\n",
        "                            label = data.intake[train_rows, 1])\n",
        "test.intake <- xgb.DMatrix(data.matrix(data.intake[-train_rows, -1]),\n",
        "                            label = data.intake[-train_rows, 1])\n",
        "\n",
        "params <- list(\n",
        "  objective = \"binary:logistic\",\n",
        "  learning_rate = 0.05,\n",
        "  subsample = 0.9,\n",
        "  colsample_bynode = 1,\n",
        "  max_depth = 10,\n",
        "  scale_pos_weight = 1\n",
        ")\n",
        "\n",
        "fit_xgb <- xgb.train(\n",
        "  params,\n",
        "  data = train.intake,\n",
        "  watchlist = list(train = train.intake, test = test.intake),\n",
        "  eval.metric = \"error\",\n",
        "  early_stopping_rounds = 100,\n",
        "  print_every_n = 10,\n",
        "  nrounds = 10000\n",
        ")\n",
        "\n",
        "pred <- predict(fit_xgb, train.intake)\n",
        "dif <- dim(data.intake)[1] - length(pred)\n",
        "\n",
        "for (x in 1:dif) {\n",
        "  pred <- c(pred, mean(pred))\n",
        "}\n",
        "\n",
        "ipw <- ifelse(data.intake$gpa_thresh3_0==1, 1/pred, 1/(1-pred))\n",
        "model <- lm_robust(mh_scale ~ gpa_thresh3_0, data=data.intake, weights=ipw, alpha=0.1)\n",
        "summary(model)"
      ],
      "metadata": {
        "colab": {
          "base_uri": "https://localhost:8080/",
          "height": 571
        },
        "id": "n90zGO7EOabH",
        "outputId": "ccce3b44-c4bc-49b6-e8d9-9e3ff1c41145"
      },
      "execution_count": 155,
      "outputs": [
        {
          "output_type": "stream",
          "name": "stdout",
          "text": [
            "[1]\ttrain-error:0.188679\ttest-error:0.000000 \n",
            "Multiple eval metrics are present. Will use test_error for early stopping.\n",
            "Will train until test_error hasn't improved in 100 rounds.\n",
            "\n",
            "[11]\ttrain-error:0.094340\ttest-error:0.000000 \n",
            "[21]\ttrain-error:0.075472\ttest-error:0.000000 \n",
            "[31]\ttrain-error:0.037736\ttest-error:0.000000 \n",
            "[41]\ttrain-error:0.000000\ttest-error:0.000000 \n",
            "[51]\ttrain-error:0.000000\ttest-error:0.000000 \n",
            "[61]\ttrain-error:0.000000\ttest-error:0.000000 \n",
            "[71]\ttrain-error:0.000000\ttest-error:0.000000 \n",
            "[81]\ttrain-error:0.000000\ttest-error:0.000000 \n",
            "[91]\ttrain-error:0.000000\ttest-error:0.000000 \n",
            "[101]\ttrain-error:0.000000\ttest-error:0.000000 \n",
            "Stopping. Best iteration:\n",
            "[1]\ttrain-error:0.188679\ttest-error:0.000000\n",
            "\n"
          ]
        },
        {
          "output_type": "display_data",
          "data": {
            "text/plain": [
              "\n",
              "Call:\n",
              "lm_robust(formula = mh_scale ~ gpa_thresh3_0, data = data.intake, \n",
              "    weights = ipw, alpha = 0.1)\n",
              "\n",
              "Weighted, Standard error type:  HC2 \n",
              "\n",
              "Coefficients:\n",
              "              Estimate Std. Error t value  Pr(>|t|) CI Lower CI Upper DF\n",
              "(Intercept)    0.77227     0.1021   7.560 6.339e-10   0.6012   0.9433 52\n",
              "gpa_thresh3_0  0.07611     0.2213   0.344 7.323e-01  -0.2945   0.4467 52\n",
              "\n",
              "Multiple R-squared:  0.002269 ,\tAdjusted R-squared:  -0.01692 \n",
              "F-statistic: 0.1183 on 1 and 52 DF,  p-value: 0.7323"
            ]
          },
          "metadata": {}
        }
      ]
    },
    {
      "cell_type": "markdown",
      "source": [
        "PTSD"
      ],
      "metadata": {
        "id": "845l-QyQeIz7"
      }
    },
    {
      "cell_type": "code",
      "source": [
        "set.seed(2024)\n",
        "data.intake <- read.csv('gender_male.csv')\n",
        "rownames(data.intake) <- data.intake$record_id\n",
        "data.intake$record_id <- NULL\n",
        "data.intake <- data.intake %>%\n",
        "  mutate(ptsd_score = ifelse(ptsd_score >= 33, 1, 0))\n",
        "\n",
        "col_names <- colnames(data.intake)\n",
        "if (\"ptsd_score\" %in% col_names){\n",
        "  new_col_order <- c(\"ptsd_score\", col_names[col_names != \"ptsd_score\"])\n",
        "  data.intake <- data.intake[, new_col_order]}\n",
        "\n",
        "n <- nrow(data.intake)\n",
        "train_rows <- sample(1:n, 0.99 * n, replace = F)\n",
        "train.intake <- xgb.DMatrix(data.matrix(data.intake[train_rows, -1]),\n",
        "                            label = data.intake[train_rows, 1])\n",
        "test.intake <- xgb.DMatrix(data.matrix(data.intake[-train_rows, -1]),\n",
        "                            label = data.intake[-train_rows, 1])\n",
        "\n",
        "params <- list(\n",
        "  objective = \"binary:logistic\",\n",
        "  learning_rate = 0.05,\n",
        "  subsample = 0.9,\n",
        "  colsample_bynode = 1,\n",
        "  max_depth = 10,\n",
        "  scale_pos_weight = 1\n",
        ")\n",
        "\n",
        "fit_xgb <- xgb.train(\n",
        "  params,\n",
        "  data = train.intake,\n",
        "  watchlist = list(train = train.intake, test = test.intake),\n",
        "  eval.metric = \"error\",\n",
        "  early_stopping_rounds = 100,\n",
        "  print_every_n = 10,\n",
        "  nrounds = 10000\n",
        ")\n",
        "\n",
        "pred <- predict(fit_xgb, train.intake)\n",
        "dif <- dim(data.intake)[1] - length(pred)\n",
        "\n",
        "for (x in 1:dif) {\n",
        "  pred <- c(pred, mean(pred))\n",
        "}\n",
        "\n",
        "ipw <- ifelse(data.intake$ptsd_score==1, 1/pred, 1/(1-pred))\n",
        "model <- lm_robust(mh_scale ~ ptsd_score, data=data.intake, weights=ipw, alpha=0.1)\n",
        "summary(model)"
      ],
      "metadata": {
        "colab": {
          "base_uri": "https://localhost:8080/",
          "height": 571
        },
        "id": "Dhvgph6YdHhS",
        "outputId": "e16d79bd-d5aa-4bf0-994a-ba8ffa7afb27"
      },
      "execution_count": 156,
      "outputs": [
        {
          "output_type": "stream",
          "name": "stdout",
          "text": [
            "[1]\ttrain-error:0.075472\ttest-error:0.000000 \n",
            "Multiple eval metrics are present. Will use test_error for early stopping.\n",
            "Will train until test_error hasn't improved in 100 rounds.\n",
            "\n",
            "[11]\ttrain-error:0.056604\ttest-error:0.000000 \n",
            "[21]\ttrain-error:0.056604\ttest-error:0.000000 \n",
            "[31]\ttrain-error:0.056604\ttest-error:0.000000 \n",
            "[41]\ttrain-error:0.056604\ttest-error:0.000000 \n",
            "[51]\ttrain-error:0.037736\ttest-error:0.000000 \n",
            "[61]\ttrain-error:0.037736\ttest-error:0.000000 \n",
            "[71]\ttrain-error:0.018868\ttest-error:0.000000 \n",
            "[81]\ttrain-error:0.018868\ttest-error:0.000000 \n",
            "[91]\ttrain-error:0.018868\ttest-error:0.000000 \n",
            "[101]\ttrain-error:0.018868\ttest-error:0.000000 \n",
            "Stopping. Best iteration:\n",
            "[1]\ttrain-error:0.075472\ttest-error:0.000000\n",
            "\n"
          ]
        },
        {
          "output_type": "display_data",
          "data": {
            "text/plain": [
              "\n",
              "Call:\n",
              "lm_robust(formula = mh_scale ~ ptsd_score, data = data.intake, \n",
              "    weights = ipw, alpha = 0.1)\n",
              "\n",
              "Weighted, Standard error type:  HC2 \n",
              "\n",
              "Coefficients:\n",
              "            Estimate Std. Error t value  Pr(>|t|) CI Lower CI Upper DF\n",
              "(Intercept)   0.4615    0.05696   8.103 8.746e-11   0.3662   0.5569 52\n",
              "ptsd_score    1.1782    0.13625   8.647 1.225e-11   0.9500   1.4063 52\n",
              "\n",
              "Multiple R-squared:  0.6542 ,\tAdjusted R-squared:  0.6476 \n",
              "F-statistic: 74.78 on 1 and 52 DF,  p-value: 1.225e-11"
            ]
          },
          "metadata": {}
        }
      ]
    },
    {
      "cell_type": "markdown",
      "source": [
        "Covid_iso"
      ],
      "metadata": {
        "id": "h_o70LxxeV3b"
      }
    },
    {
      "cell_type": "code",
      "source": [
        "set.seed(2024)\n",
        "data.intake <- read.csv('gender_male.csv')\n",
        "rownames(data.intake) <- data.intake$record_id\n",
        "data.intake$record_id <- NULL\n",
        "data.intake <- data.intake %>%\n",
        "  mutate(covid_iso = ifelse(covid_iso > 7, 1, 0))\n",
        "\n",
        "col_names <- colnames(data.intake)\n",
        "if (\"covid_iso\" %in% col_names){\n",
        "  new_col_order <- c(\"covid_iso\", col_names[col_names != \"covid_iso\"])\n",
        "  data.intake <- data.intake[, new_col_order]}\n",
        "\n",
        "n <- nrow(data.intake)\n",
        "train_rows <- sample(1:n, 0.99 * n, replace = F)\n",
        "train.intake <- xgb.DMatrix(data.matrix(data.intake[train_rows, -1]),\n",
        "                            label = data.intake[train_rows, 1])\n",
        "test.intake <- xgb.DMatrix(data.matrix(data.intake[-train_rows, -1]),\n",
        "                            label = data.intake[-train_rows, 1])\n",
        "\n",
        "params <- list(\n",
        "  objective = \"binary:logistic\",\n",
        "  learning_rate = 0.05,\n",
        "  subsample = 0.9,\n",
        "  colsample_bynode = 1,\n",
        "  max_depth = 10,\n",
        "  scale_pos_weight = 1\n",
        ")\n",
        "\n",
        "fit_xgb <- xgb.train(\n",
        "  params,\n",
        "  data = train.intake,\n",
        "  watchlist = list(train = train.intake, test = test.intake),\n",
        "  eval.metric = \"error\",\n",
        "  early_stopping_rounds = 100,\n",
        "  print_every_n = 10,\n",
        "  nrounds = 10000\n",
        ")\n",
        "\n",
        "pred <- predict(fit_xgb, train.intake)\n",
        "dif <- dim(data.intake)[1] - length(pred)\n",
        "\n",
        "for (x in 1:dif) {\n",
        "  pred <- c(pred, mean(pred))\n",
        "}\n",
        "\n",
        "ipw <- ifelse(data.intake$covid_iso==1, 1/pred, 1/(1-pred))\n",
        "model <- lm_robust(mh_scale ~ covid_iso, data=data.intake, weights=ipw, alpha=0.1)\n",
        "summary(model)"
      ],
      "metadata": {
        "colab": {
          "base_uri": "https://localhost:8080/",
          "height": 571
        },
        "id": "__xvZayDeKxK",
        "outputId": "fe0e5e71-2b5f-4096-b7f1-b295fe92cd4f"
      },
      "execution_count": 157,
      "outputs": [
        {
          "output_type": "stream",
          "name": "stdout",
          "text": [
            "[1]\ttrain-error:0.150943\ttest-error:0.000000 \n",
            "Multiple eval metrics are present. Will use test_error for early stopping.\n",
            "Will train until test_error hasn't improved in 100 rounds.\n",
            "\n",
            "[11]\ttrain-error:0.037736\ttest-error:0.000000 \n",
            "[21]\ttrain-error:0.000000\ttest-error:0.000000 \n",
            "[31]\ttrain-error:0.000000\ttest-error:0.000000 \n",
            "[41]\ttrain-error:0.000000\ttest-error:0.000000 \n",
            "[51]\ttrain-error:0.000000\ttest-error:0.000000 \n",
            "[61]\ttrain-error:0.000000\ttest-error:0.000000 \n",
            "[71]\ttrain-error:0.000000\ttest-error:0.000000 \n",
            "[81]\ttrain-error:0.000000\ttest-error:0.000000 \n",
            "[91]\ttrain-error:0.000000\ttest-error:0.000000 \n",
            "[101]\ttrain-error:0.000000\ttest-error:0.000000 \n",
            "Stopping. Best iteration:\n",
            "[1]\ttrain-error:0.150943\ttest-error:0.000000\n",
            "\n"
          ]
        },
        {
          "output_type": "display_data",
          "data": {
            "text/plain": [
              "\n",
              "Call:\n",
              "lm_robust(formula = mh_scale ~ covid_iso, data = data.intake, \n",
              "    weights = ipw, alpha = 0.1)\n",
              "\n",
              "Weighted, Standard error type:  HC2 \n",
              "\n",
              "Coefficients:\n",
              "             Estimate Std. Error  t value  Pr(>|t|) CI Lower CI Upper DF\n",
              "(Intercept)  0.788195     0.1396  5.64450 6.972e-07   0.5543   1.0220 52\n",
              "covid_iso   -0.005881     0.1833 -0.03208 9.745e-01  -0.3129   0.3012 52\n",
              "\n",
              "Multiple R-squared:  1.999e-05 ,\tAdjusted R-squared:  -0.01921 \n",
              "F-statistic: 0.001029 on 1 and 52 DF,  p-value: 0.9745"
            ]
          },
          "metadata": {}
        }
      ]
    },
    {
      "cell_type": "code",
      "source": [
        "set.seed(2024)\n",
        "data.intake <- read.csv('gender_male.csv')\n",
        "rownames(data.intake) <- data.intake$record_id\n",
        "data.intake$record_id <- NULL\n",
        "data.intake <- data.intake %>%\n",
        "  mutate(edu.i_count = ifelse(edu.i_count <= 2, 1, 0))\n",
        "\n",
        "col_names <- colnames(data.intake)\n",
        "if (\"edu.i_count\" %in% col_names){\n",
        "  new_col_order <- c(\"edu.i_count\", col_names[col_names != \"edu.i_count\"])\n",
        "  data.intake <- data.intake[, new_col_order]}\n",
        "\n",
        "n <- nrow(data.intake)\n",
        "train_rows <- sample(1:n, 0.99 * n, replace = F)\n",
        "train.intake <- xgb.DMatrix(data.matrix(data.intake[train_rows, -1]),\n",
        "                            label = data.intake[train_rows, 1])\n",
        "test.intake <- xgb.DMatrix(data.matrix(data.intake[-train_rows, -1]),\n",
        "                            label = data.intake[-train_rows, 1])\n",
        "\n",
        "params <- list(\n",
        "  objective = \"binary:logistic\",\n",
        "  learning_rate = 0.05,\n",
        "  subsample = 0.9,\n",
        "  colsample_bynode = 1,\n",
        "  max_depth = 10,\n",
        "  scale_pos_weight = 1\n",
        ")\n",
        "\n",
        "fit_xgb <- xgb.train(\n",
        "  params,\n",
        "  data = train.intake,\n",
        "  watchlist = list(train = train.intake, test = test.intake),\n",
        "  eval.metric = \"error\",\n",
        "  early_stopping_rounds = 100,\n",
        "  print_every_n = 10,\n",
        "  nrounds = 10000\n",
        ")\n",
        "\n",
        "pred <- predict(fit_xgb, train.intake)\n",
        "dif <- dim(data.intake)[1] - length(pred)\n",
        "\n",
        "for (x in 1:dif) {\n",
        "  pred <- c(pred, mean(pred))\n",
        "}\n",
        "\n",
        "ipw <- ifelse(data.intake$edu.i_count==1, 1/pred, 1/(1-pred))\n",
        "model <- lm_robust(mh_scale ~ edu.i_count, data=data.intake, weights=ipw, alpha=0.1)\n",
        "summary(model)"
      ],
      "metadata": {
        "colab": {
          "base_uri": "https://localhost:8080/",
          "height": 571
        },
        "id": "yQUEQX3veXiR",
        "outputId": "2a8f9461-b183-4e85-e169-4410dd8ccef5"
      },
      "execution_count": 158,
      "outputs": [
        {
          "output_type": "stream",
          "name": "stdout",
          "text": [
            "[1]\ttrain-error:0.113208\ttest-error:1.000000 \n",
            "Multiple eval metrics are present. Will use test_error for early stopping.\n",
            "Will train until test_error hasn't improved in 100 rounds.\n",
            "\n",
            "[11]\ttrain-error:0.056604\ttest-error:1.000000 \n",
            "[21]\ttrain-error:0.037736\ttest-error:1.000000 \n",
            "[31]\ttrain-error:0.018868\ttest-error:1.000000 \n",
            "[41]\ttrain-error:0.018868\ttest-error:1.000000 \n",
            "[51]\ttrain-error:0.000000\ttest-error:1.000000 \n",
            "[61]\ttrain-error:0.000000\ttest-error:1.000000 \n",
            "[71]\ttrain-error:0.000000\ttest-error:1.000000 \n",
            "[81]\ttrain-error:0.000000\ttest-error:1.000000 \n",
            "[91]\ttrain-error:0.000000\ttest-error:1.000000 \n",
            "[101]\ttrain-error:0.000000\ttest-error:1.000000 \n",
            "Stopping. Best iteration:\n",
            "[1]\ttrain-error:0.113208\ttest-error:1.000000\n",
            "\n"
          ]
        },
        {
          "output_type": "display_data",
          "data": {
            "text/plain": [
              "\n",
              "Call:\n",
              "lm_robust(formula = mh_scale ~ edu.i_count, data = data.intake, \n",
              "    weights = ipw, alpha = 0.1)\n",
              "\n",
              "Weighted, Standard error type:  HC2 \n",
              "\n",
              "Coefficients:\n",
              "            Estimate Std. Error t value  Pr(>|t|) CI Lower CI Upper DF\n",
              "(Intercept)   0.5402     0.1106   4.883 1.035e-05   0.3549   0.7254 52\n",
              "edu.i_count   0.3989     0.1652   2.414 1.932e-02   0.1222   0.6757 52\n",
              "\n",
              "Multiple R-squared:  0.08883 ,\tAdjusted R-squared:  0.0713 \n",
              "F-statistic: 5.829 on 1 and 52 DF,  p-value: 0.01932"
            ]
          },
          "metadata": {}
        }
      ]
    },
    {
      "cell_type": "markdown",
      "source": [
        "# 18-20 subgroup"
      ],
      "metadata": {
        "id": "EZOLCt5XhaQW"
      }
    },
    {
      "cell_type": "markdown",
      "source": [
        "GPA"
      ],
      "metadata": {
        "id": "1nZT_XUxWupL"
      }
    },
    {
      "cell_type": "code",
      "source": [
        "set.seed(2024)\n",
        "data.intake <- read.csv('ages18_20.csv')\n",
        "rownames(data.intake) <- data.intake$record_id\n",
        "data.intake$record_id <- NULL\n",
        "\n",
        "col_names <- colnames(data.intake)\n",
        "if (\"gpa_thresh3_0\" %in% col_names){\n",
        "  new_col_order <- c(\"gpa_thresh3_0\", col_names[col_names != \"gpa_thresh3_0\"])\n",
        "  data.intake <- data.intake[, new_col_order]}\n",
        "\n",
        "n <- nrow(data.intake)\n",
        "train_rows <- sample(1:n, 0.99 * n, replace = F)\n",
        "train.intake <- xgb.DMatrix(data.matrix(data.intake[train_rows, -1]),\n",
        "                            label = data.intake[train_rows, 1])\n",
        "test.intake <- xgb.DMatrix(data.matrix(data.intake[-train_rows, -1]),\n",
        "                            label = data.intake[-train_rows, 1])\n",
        "\n",
        "params <- list(\n",
        "  objective = \"binary:logistic\",\n",
        "  learning_rate = 0.05,\n",
        "  subsample = 0.9,\n",
        "  colsample_bynode = 1,\n",
        "  max_depth = 10,\n",
        "  scale_pos_weight = 1\n",
        ")\n",
        "\n",
        "fit_xgb <- xgb.train(\n",
        "  params,\n",
        "  data = train.intake,\n",
        "  watchlist = list(train = train.intake, test = test.intake),\n",
        "  eval.metric = \"error\",\n",
        "  early_stopping_rounds = 100,\n",
        "  print_every_n = 10,\n",
        "  nrounds = 10000\n",
        ")\n",
        "\n",
        "pred <- predict(fit_xgb, train.intake)\n",
        "dif <- dim(data.intake)[1] - length(pred)\n",
        "\n",
        "for (x in 1:dif) {\n",
        "  pred <- c(pred, mean(pred))\n",
        "}\n",
        "\n",
        "ipw <- ifelse(data.intake$gpa_thresh3_0==1, 1/pred, 1/(1-pred))\n",
        "model <- lm_robust(mh_scale ~ gpa_thresh3_0, data=data.intake, weights=ipw, alpha=0.1)\n",
        "summary(model)"
      ],
      "metadata": {
        "colab": {
          "base_uri": "https://localhost:8080/",
          "height": 571
        },
        "outputId": "8219a5cb-7b9e-4299-9aaa-5c12526ad467",
        "id": "QC4K0Q_KWupM"
      },
      "execution_count": 159,
      "outputs": [
        {
          "output_type": "stream",
          "name": "stdout",
          "text": [
            "[1]\ttrain-error:0.072727\ttest-error:0.000000 \n",
            "Multiple eval metrics are present. Will use test_error for early stopping.\n",
            "Will train until test_error hasn't improved in 100 rounds.\n",
            "\n",
            "[11]\ttrain-error:0.090909\ttest-error:0.000000 \n",
            "[21]\ttrain-error:0.072727\ttest-error:0.000000 \n",
            "[31]\ttrain-error:0.072727\ttest-error:0.000000 \n",
            "[41]\ttrain-error:0.054545\ttest-error:0.000000 \n",
            "[51]\ttrain-error:0.036364\ttest-error:0.000000 \n",
            "[61]\ttrain-error:0.036364\ttest-error:0.000000 \n",
            "[71]\ttrain-error:0.036364\ttest-error:0.000000 \n",
            "[81]\ttrain-error:0.018182\ttest-error:0.000000 \n",
            "[91]\ttrain-error:0.018182\ttest-error:0.000000 \n",
            "[101]\ttrain-error:0.018182\ttest-error:0.000000 \n",
            "Stopping. Best iteration:\n",
            "[1]\ttrain-error:0.072727\ttest-error:0.000000\n",
            "\n"
          ]
        },
        {
          "output_type": "display_data",
          "data": {
            "text/plain": [
              "\n",
              "Call:\n",
              "lm_robust(formula = mh_scale ~ gpa_thresh3_0, data = data.intake, \n",
              "    weights = ipw, alpha = 0.1)\n",
              "\n",
              "Weighted, Standard error type:  HC2 \n",
              "\n",
              "Coefficients:\n",
              "              Estimate Std. Error t value  Pr(>|t|) CI Lower CI Upper DF\n",
              "(Intercept)     0.8894    0.09546   9.317 7.854e-13   0.7297   1.0492 54\n",
              "gpa_thresh3_0  -0.2728    0.24928  -1.095 2.786e-01  -0.6900   0.1443 54\n",
              "\n",
              "Multiple R-squared:  0.02219 ,\tAdjusted R-squared:  0.004079 \n",
              "F-statistic: 1.198 on 1 and 54 DF,  p-value: 0.2786"
            ]
          },
          "metadata": {}
        }
      ]
    },
    {
      "cell_type": "markdown",
      "source": [
        "ptsd"
      ],
      "metadata": {
        "id": "WxbhfCUFWupN"
      }
    },
    {
      "cell_type": "code",
      "source": [
        "set.seed(2024)\n",
        "data.intake <- read.csv('ages18_20.csv')\n",
        "rownames(data.intake) <- data.intake$record_id\n",
        "data.intake$record_id <- NULL\n",
        "data.intake <- data.intake %>%\n",
        "  mutate(ptsd_score = ifelse(ptsd_score >= 33, 1, 0))\n",
        "\n",
        "col_names <- colnames(data.intake)\n",
        "if (\"ptsd_score\" %in% col_names){\n",
        "  new_col_order <- c(\"ptsd_score\", col_names[col_names != \"ptsd_score\"])\n",
        "  data.intake <- data.intake[, new_col_order]}\n",
        "\n",
        "n <- nrow(data.intake)\n",
        "train_rows <- sample(1:n, 0.99 * n, replace = F)\n",
        "train.intake <- xgb.DMatrix(data.matrix(data.intake[train_rows, -1]),\n",
        "                            label = data.intake[train_rows, 1])\n",
        "test.intake <- xgb.DMatrix(data.matrix(data.intake[-train_rows, -1]),\n",
        "                            label = data.intake[-train_rows, 1])\n",
        "\n",
        "params <- list(\n",
        "  objective = \"binary:logistic\",\n",
        "  learning_rate = 0.05,\n",
        "  subsample = 0.9,\n",
        "  colsample_bynode = 1,\n",
        "  max_depth = 10,\n",
        "  scale_pos_weight = 1\n",
        ")\n",
        "\n",
        "fit_xgb <- xgb.train(\n",
        "  params,\n",
        "  data = train.intake,\n",
        "  watchlist = list(train = train.intake, test = test.intake),\n",
        "  eval.metric = \"error\",\n",
        "  early_stopping_rounds = 100,\n",
        "  print_every_n = 10,\n",
        "  nrounds = 10000\n",
        ")\n",
        "\n",
        "pred <- predict(fit_xgb, train.intake)\n",
        "dif <- dim(data.intake)[1] - length(pred)\n",
        "\n",
        "for (x in 1:dif) {\n",
        "  pred <- c(pred, mean(pred))\n",
        "}\n",
        "\n",
        "ipw <- ifelse(data.intake$ptsd_score==1, 1/pred, 1/(1-pred))\n",
        "model <- lm_robust(mh_scale ~ ptsd_score, data=data.intake, weights=ipw, alpha=0.1)\n",
        "summary(model)"
      ],
      "metadata": {
        "colab": {
          "base_uri": "https://localhost:8080/",
          "height": 571
        },
        "outputId": "e24a3ef1-ed10-48b6-c116-34c978bf8e31",
        "id": "RYd9cGFXWupN"
      },
      "execution_count": 160,
      "outputs": [
        {
          "output_type": "stream",
          "name": "stdout",
          "text": [
            "[1]\ttrain-error:0.127273\ttest-error:0.000000 \n",
            "Multiple eval metrics are present. Will use test_error for early stopping.\n",
            "Will train until test_error hasn't improved in 100 rounds.\n",
            "\n",
            "[11]\ttrain-error:0.090909\ttest-error:0.000000 \n",
            "[21]\ttrain-error:0.072727\ttest-error:0.000000 \n",
            "[31]\ttrain-error:0.054545\ttest-error:0.000000 \n",
            "[41]\ttrain-error:0.018182\ttest-error:0.000000 \n",
            "[51]\ttrain-error:0.000000\ttest-error:0.000000 \n",
            "[61]\ttrain-error:0.000000\ttest-error:0.000000 \n",
            "[71]\ttrain-error:0.000000\ttest-error:0.000000 \n",
            "[81]\ttrain-error:0.000000\ttest-error:0.000000 \n",
            "[91]\ttrain-error:0.000000\ttest-error:0.000000 \n",
            "[101]\ttrain-error:0.000000\ttest-error:0.000000 \n",
            "Stopping. Best iteration:\n",
            "[1]\ttrain-error:0.127273\ttest-error:0.000000\n",
            "\n"
          ]
        },
        {
          "output_type": "display_data",
          "data": {
            "text/plain": [
              "\n",
              "Call:\n",
              "lm_robust(formula = mh_scale ~ ptsd_score, data = data.intake, \n",
              "    weights = ipw, alpha = 0.1)\n",
              "\n",
              "Weighted, Standard error type:  HC2 \n",
              "\n",
              "Coefficients:\n",
              "            Estimate Std. Error t value  Pr(>|t|) CI Lower CI Upper DF\n",
              "(Intercept)   0.4649    0.06553   7.095 2.886e-09   0.3553   0.5746 54\n",
              "ptsd_score    0.9857    0.13515   7.294 1.373e-09   0.7596   1.2119 54\n",
              "\n",
              "Multiple R-squared:  0.5403 ,\tAdjusted R-squared:  0.5318 \n",
              "F-statistic:  53.2 on 1 and 54 DF,  p-value: 1.373e-09"
            ]
          },
          "metadata": {}
        }
      ]
    },
    {
      "cell_type": "markdown",
      "source": [
        "covid_iso"
      ],
      "metadata": {
        "id": "Ll-9vkWJWupN"
      }
    },
    {
      "cell_type": "code",
      "source": [
        "set.seed(2024)\n",
        "data.intake <- read.csv('ages18_20.csv')\n",
        "rownames(data.intake) <- data.intake$record_id\n",
        "data.intake$record_id <- NULL\n",
        "data.intake <- data.intake %>%\n",
        "  mutate(covid_iso = ifelse(covid_iso > 7, 1, 0))\n",
        "\n",
        "col_names <- colnames(data.intake)\n",
        "if (\"covid_iso\" %in% col_names){\n",
        "  new_col_order <- c(\"covid_iso\", col_names[col_names != \"covid_iso\"])\n",
        "  data.intake <- data.intake[, new_col_order]}\n",
        "\n",
        "n <- nrow(data.intake)\n",
        "train_rows <- sample(1:n, 0.99 * n, replace = F)\n",
        "train.intake <- xgb.DMatrix(data.matrix(data.intake[train_rows, -1]),\n",
        "                            label = data.intake[train_rows, 1])\n",
        "test.intake <- xgb.DMatrix(data.matrix(data.intake[-train_rows, -1]),\n",
        "                            label = data.intake[-train_rows, 1])\n",
        "\n",
        "params <- list(\n",
        "  objective = \"binary:logistic\",\n",
        "  learning_rate = 0.05,\n",
        "  subsample = 0.9,\n",
        "  colsample_bynode = 1,\n",
        "  max_depth = 10,\n",
        "  scale_pos_weight = 1\n",
        ")\n",
        "\n",
        "fit_xgb <- xgb.train(\n",
        "  params,\n",
        "  data = train.intake,\n",
        "  watchlist = list(train = train.intake, test = test.intake),\n",
        "  eval.metric = \"error\",\n",
        "  early_stopping_rounds = 100,\n",
        "  print_every_n = 10,\n",
        "  nrounds = 10000\n",
        ")\n",
        "\n",
        "pred <- predict(fit_xgb, train.intake)\n",
        "dif <- dim(data.intake)[1] - length(pred)\n",
        "\n",
        "for (x in 1:dif) {\n",
        "  pred <- c(pred, mean(pred))\n",
        "}\n",
        "\n",
        "ipw <- ifelse(data.intake$covid_iso==1, 1/pred, 1/(1-pred))\n",
        "model <- lm_robust(mh_scale ~ covid_iso, data=data.intake, weights=ipw, alpha=0.1)\n",
        "summary(model)"
      ],
      "metadata": {
        "colab": {
          "base_uri": "https://localhost:8080/",
          "height": 571
        },
        "id": "4G9D89aLWupO",
        "outputId": "a1e58e88-3b16-468c-f51a-6e2388d753e6"
      },
      "execution_count": 161,
      "outputs": [
        {
          "output_type": "stream",
          "name": "stdout",
          "text": [
            "[1]\ttrain-error:0.145455\ttest-error:1.000000 \n",
            "Multiple eval metrics are present. Will use test_error for early stopping.\n",
            "Will train until test_error hasn't improved in 100 rounds.\n",
            "\n",
            "[11]\ttrain-error:0.090909\ttest-error:0.000000 \n",
            "[21]\ttrain-error:0.072727\ttest-error:0.000000 \n",
            "[31]\ttrain-error:0.018182\ttest-error:0.000000 \n",
            "[41]\ttrain-error:0.018182\ttest-error:0.000000 \n",
            "[51]\ttrain-error:0.000000\ttest-error:0.000000 \n",
            "[61]\ttrain-error:0.000000\ttest-error:1.000000 \n",
            "[71]\ttrain-error:0.000000\ttest-error:1.000000 \n",
            "[81]\ttrain-error:0.000000\ttest-error:1.000000 \n",
            "[91]\ttrain-error:0.000000\ttest-error:1.000000 \n",
            "[101]\ttrain-error:0.000000\ttest-error:1.000000 \n",
            "Stopping. Best iteration:\n",
            "[8]\ttrain-error:0.090909\ttest-error:0.000000\n",
            "\n"
          ]
        },
        {
          "output_type": "display_data",
          "data": {
            "text/plain": [
              "\n",
              "Call:\n",
              "lm_robust(formula = mh_scale ~ covid_iso, data = data.intake, \n",
              "    weights = ipw, alpha = 0.1)\n",
              "\n",
              "Weighted, Standard error type:  HC2 \n",
              "\n",
              "Coefficients:\n",
              "            Estimate Std. Error t value  Pr(>|t|) CI Lower CI Upper DF\n",
              "(Intercept)   0.6881     0.1114   6.178 8.832e-08 0.501707   0.8745 54\n",
              "covid_iso     0.2956     0.1758   1.682 9.837e-02 0.001461   0.5898 54\n",
              "\n",
              "Multiple R-squared:  0.04901 ,\tAdjusted R-squared:  0.03139 \n",
              "F-statistic: 2.829 on 1 and 54 DF,  p-value: 0.09837"
            ]
          },
          "metadata": {}
        }
      ]
    },
    {
      "cell_type": "markdown",
      "source": [
        "max.emohelp"
      ],
      "metadata": {
        "id": "Z9oonhpwWupO"
      }
    },
    {
      "cell_type": "code",
      "source": [
        "set.seed(2024)\n",
        "data.intake <- read.csv('ages18_20.csv')\n",
        "rownames(data.intake) <- data.intake$record_id\n",
        "data.intake$record_id <- NULL\n",
        "data.intake <- data.intake %>%\n",
        "  mutate(max.emohelp = ifelse(max.emohelp >= 9, 1, 0))\n",
        "\n",
        "col_names <- colnames(data.intake)\n",
        "if (\"max.emohelp\" %in% col_names){\n",
        "  new_col_order <- c(\"max.emohelp\", col_names[col_names != \"max.emohelp\"])\n",
        "  data.intake <- data.intake[, new_col_order]}\n",
        "\n",
        "n <- nrow(data.intake)\n",
        "train_rows <- sample(1:n, 0.99 * n, replace = F)\n",
        "train.intake <- xgb.DMatrix(data.matrix(data.intake[train_rows, -1]),\n",
        "                            label = data.intake[train_rows, 1])\n",
        "test.intake <- xgb.DMatrix(data.matrix(data.intake[-train_rows, -1]),\n",
        "                            label = data.intake[-train_rows, 1])\n",
        "\n",
        "params <- list(\n",
        "  objective = \"binary:logistic\",\n",
        "  learning_rate = 0.05,\n",
        "  subsample = 0.9,\n",
        "  colsample_bynode = 1,\n",
        "  max_depth = 10,\n",
        "  scale_pos_weight = 1\n",
        ")\n",
        "\n",
        "fit_xgb <- xgb.train(\n",
        "  params,\n",
        "  data = train.intake,\n",
        "  watchlist = list(train = train.intake, test = test.intake),\n",
        "  eval.metric = \"error\",\n",
        "  early_stopping_rounds = 100,\n",
        "  print_every_n = 10,\n",
        "  nrounds = 10000\n",
        ")\n",
        "\n",
        "pred <- predict(fit_xgb, train.intake)\n",
        "dif <- dim(data.intake)[1] - length(pred)\n",
        "\n",
        "for (x in 1:dif) {\n",
        "  pred <- c(pred, mean(pred))\n",
        "}\n",
        "\n",
        "ipw <- ifelse(data.intake$max.emohelp==1, 1/pred, 1/(1-pred))\n",
        "model <- lm_robust(mh_scale ~ max.emohelp, data=data.intake, weights=ipw, alpha=0.1)\n",
        "summary(model)"
      ],
      "metadata": {
        "colab": {
          "base_uri": "https://localhost:8080/",
          "height": 571
        },
        "outputId": "0121983a-3a5d-42bb-d3ad-4097a23dc341",
        "id": "_mT0ji-nWupO"
      },
      "execution_count": 162,
      "outputs": [
        {
          "output_type": "stream",
          "name": "stdout",
          "text": [
            "[1]\ttrain-error:0.036364\ttest-error:0.000000 \n",
            "Multiple eval metrics are present. Will use test_error for early stopping.\n",
            "Will train until test_error hasn't improved in 100 rounds.\n",
            "\n",
            "[11]\ttrain-error:0.036364\ttest-error:0.000000 \n",
            "[21]\ttrain-error:0.036364\ttest-error:0.000000 \n",
            "[31]\ttrain-error:0.036364\ttest-error:0.000000 \n",
            "[41]\ttrain-error:0.000000\ttest-error:0.000000 \n",
            "[51]\ttrain-error:0.000000\ttest-error:0.000000 \n",
            "[61]\ttrain-error:0.000000\ttest-error:0.000000 \n",
            "[71]\ttrain-error:0.000000\ttest-error:0.000000 \n",
            "[81]\ttrain-error:0.000000\ttest-error:0.000000 \n",
            "[91]\ttrain-error:0.000000\ttest-error:0.000000 \n",
            "[101]\ttrain-error:0.000000\ttest-error:0.000000 \n",
            "Stopping. Best iteration:\n",
            "[1]\ttrain-error:0.036364\ttest-error:0.000000\n",
            "\n"
          ]
        },
        {
          "output_type": "display_data",
          "data": {
            "text/plain": [
              "\n",
              "Call:\n",
              "lm_robust(formula = mh_scale ~ max.emohelp, data = data.intake, \n",
              "    weights = ipw, alpha = 0.1)\n",
              "\n",
              "Weighted, Standard error type:  HC2 \n",
              "\n",
              "Coefficients:\n",
              "            Estimate Std. Error t value  Pr(>|t|) CI Lower CI Upper DF\n",
              "(Intercept)   1.0020     0.1637   6.120 1.095e-07   0.7280    1.276 54\n",
              "max.emohelp  -0.2014     0.1950  -1.033 3.064e-01  -0.5278    0.125 54\n",
              "\n",
              "Multiple R-squared:  0.01882 ,\tAdjusted R-squared:  0.0006496 \n",
              "F-statistic: 1.066 on 1 and 54 DF,  p-value: 0.3064"
            ]
          },
          "metadata": {}
        }
      ]
    },
    {
      "cell_type": "markdown",
      "source": [
        "#Ages 21-24"
      ],
      "metadata": {
        "id": "AunBP0OLjUye"
      }
    },
    {
      "cell_type": "markdown",
      "source": [
        "GPA"
      ],
      "metadata": {
        "id": "ODb8dmnFjWoo"
      }
    },
    {
      "cell_type": "code",
      "source": [
        "set.seed(2024)\n",
        "data.intake <- read.csv('ages21_24.csv')\n",
        "rownames(data.intake) <- data.intake$record_id\n",
        "data.intake$record_id <- NULL\n",
        "\n",
        "col_names <- colnames(data.intake)\n",
        "if (\"gpa_thresh3_0\" %in% col_names){\n",
        "  new_col_order <- c(\"gpa_thresh3_0\", col_names[col_names != \"gpa_thresh3_0\"])\n",
        "  data.intake <- data.intake[, new_col_order]}\n",
        "\n",
        "n <- nrow(data.intake)\n",
        "train_rows <- sample(1:n, 0.99 * n, replace = F)\n",
        "train.intake <- xgb.DMatrix(data.matrix(data.intake[train_rows, -1]),\n",
        "                            label = data.intake[train_rows, 1])\n",
        "test.intake <- xgb.DMatrix(data.matrix(data.intake[-train_rows, -1]),\n",
        "                            label = data.intake[-train_rows, 1])\n",
        "\n",
        "params <- list(\n",
        "  objective = \"binary:logistic\",\n",
        "  learning_rate = 0.05,\n",
        "  subsample = 0.9,\n",
        "  colsample_bynode = 1,\n",
        "  max_depth = 10,\n",
        "  scale_pos_weight = 1\n",
        ")\n",
        "\n",
        "fit_xgb <- xgb.train(\n",
        "  params,\n",
        "  data = train.intake,\n",
        "  watchlist = list(train = train.intake, test = test.intake),\n",
        "  eval.metric = \"error\",\n",
        "  early_stopping_rounds = 100,\n",
        "  print_every_n = 10,\n",
        "  nrounds = 10000\n",
        ")\n",
        "\n",
        "pred <- predict(fit_xgb, train.intake)\n",
        "dif <- dim(data.intake)[1] - length(pred)\n",
        "\n",
        "for (x in 1:dif) {\n",
        "  pred <- c(pred, mean(pred))\n",
        "}\n",
        "\n",
        "ipw <- ifelse(data.intake$gpa_thresh3_0==1, 1/pred, 1/(1-pred))\n",
        "model <- lm_robust(mh_scale ~ gpa_thresh3_0, data=data.intake, weights=ipw, alpha=0.1)\n",
        "summary(model)"
      ],
      "metadata": {
        "colab": {
          "base_uri": "https://localhost:8080/",
          "height": 571
        },
        "id": "pfnL7BfgjSAr",
        "outputId": "4a7e1688-5d74-4553-bdd6-0be78d92bc23"
      },
      "execution_count": 171,
      "outputs": [
        {
          "output_type": "stream",
          "name": "stdout",
          "text": [
            "[1]\ttrain-error:0.208791\ttest-error:0.000000 \n",
            "Multiple eval metrics are present. Will use test_error for early stopping.\n",
            "Will train until test_error hasn't improved in 100 rounds.\n",
            "\n",
            "[11]\ttrain-error:0.043956\ttest-error:0.000000 \n",
            "[21]\ttrain-error:0.032967\ttest-error:0.000000 \n",
            "[31]\ttrain-error:0.000000\ttest-error:0.000000 \n",
            "[41]\ttrain-error:0.000000\ttest-error:0.000000 \n",
            "[51]\ttrain-error:0.000000\ttest-error:0.000000 \n",
            "[61]\ttrain-error:0.000000\ttest-error:0.000000 \n",
            "[71]\ttrain-error:0.000000\ttest-error:0.000000 \n",
            "[81]\ttrain-error:0.000000\ttest-error:0.000000 \n",
            "[91]\ttrain-error:0.000000\ttest-error:0.000000 \n",
            "[101]\ttrain-error:0.000000\ttest-error:0.000000 \n",
            "Stopping. Best iteration:\n",
            "[1]\ttrain-error:0.208791\ttest-error:0.000000\n",
            "\n"
          ]
        },
        {
          "output_type": "display_data",
          "data": {
            "text/plain": [
              "\n",
              "Call:\n",
              "lm_robust(formula = mh_scale ~ gpa_thresh3_0, data = data.intake, \n",
              "    weights = ipw, alpha = 0.1)\n",
              "\n",
              "Weighted, Standard error type:  HC2 \n",
              "\n",
              "Coefficients:\n",
              "              Estimate Std. Error t value  Pr(>|t|) CI Lower CI Upper DF\n",
              "(Intercept)     0.9550    0.08725  10.946 3.169e-18   0.8100   1.1000 90\n",
              "gpa_thresh3_0  -0.3766    0.12949  -2.909 4.571e-03  -0.5919  -0.1614 90\n",
              "\n",
              "Multiple R-squared:  0.07475 ,\tAdjusted R-squared:  0.06447 \n",
              "F-statistic: 8.461 on 1 and 90 DF,  p-value: 0.004571"
            ]
          },
          "metadata": {}
        }
      ]
    },
    {
      "cell_type": "markdown",
      "source": [
        "ptsd"
      ],
      "metadata": {
        "id": "r1kiUeC_j054"
      }
    },
    {
      "cell_type": "code",
      "source": [
        "set.seed(2024)\n",
        "data.intake <- read.csv('ages21_24.csv')\n",
        "rownames(data.intake) <- data.intake$record_id\n",
        "data.intake$record_id <- NULL\n",
        "data.intake <- data.intake %>%\n",
        "  mutate(ptsd_score = ifelse(ptsd_score >= 33, 1, 0))\n",
        "\n",
        "col_names <- colnames(data.intake)\n",
        "if (\"ptsd_score\" %in% col_names){\n",
        "  new_col_order <- c(\"ptsd_score\", col_names[col_names != \"ptsd_score\"])\n",
        "  data.intake <- data.intake[, new_col_order]}\n",
        "\n",
        "n <- nrow(data.intake)\n",
        "train_rows <- sample(1:n, 0.99 * n, replace = F)\n",
        "train.intake <- xgb.DMatrix(data.matrix(data.intake[train_rows, -1]),\n",
        "                            label = data.intake[train_rows, 1])\n",
        "test.intake <- xgb.DMatrix(data.matrix(data.intake[-train_rows, -1]),\n",
        "                            label = data.intake[-train_rows, 1])\n",
        "\n",
        "params <- list(\n",
        "  objective = \"binary:logistic\",\n",
        "  learning_rate = 0.05,\n",
        "  subsample = 0.9,\n",
        "  colsample_bynode = 1,\n",
        "  max_depth = 10,\n",
        "  scale_pos_weight = 1\n",
        ")\n",
        "\n",
        "fit_xgb <- xgb.train(\n",
        "  params,\n",
        "  data = train.intake,\n",
        "  watchlist = list(train = train.intake, test = test.intake),\n",
        "  eval.metric = \"error\",\n",
        "  early_stopping_rounds = 100,\n",
        "  print_every_n = 10,\n",
        "  nrounds = 10000\n",
        ")\n",
        "\n",
        "pred <- predict(fit_xgb, train.intake)\n",
        "dif <- dim(data.intake)[1] - length(pred)\n",
        "\n",
        "for (x in 1:dif) {\n",
        "  pred <- c(pred, mean(pred))\n",
        "}\n",
        "\n",
        "ipw <- ifelse(data.intake$ptsd_score==1, 1/pred, 1/(1-pred))\n",
        "model <- lm_robust(mh_scale ~ ptsd_score, data=data.intake, weights=ipw, alpha=0.1)\n",
        "summary(model)"
      ],
      "metadata": {
        "colab": {
          "base_uri": "https://localhost:8080/",
          "height": 571
        },
        "id": "CDT_d14rjSAt",
        "outputId": "704eeca2-5e21-4b5b-8121-93d1c3210fd1"
      },
      "execution_count": 172,
      "outputs": [
        {
          "output_type": "stream",
          "name": "stdout",
          "text": [
            "[1]\ttrain-error:0.109890\ttest-error:0.000000 \n",
            "Multiple eval metrics are present. Will use test_error for early stopping.\n",
            "Will train until test_error hasn't improved in 100 rounds.\n",
            "\n",
            "[11]\ttrain-error:0.065934\ttest-error:0.000000 \n",
            "[21]\ttrain-error:0.032967\ttest-error:0.000000 \n",
            "[31]\ttrain-error:0.010989\ttest-error:0.000000 \n",
            "[41]\ttrain-error:0.010989\ttest-error:0.000000 \n",
            "[51]\ttrain-error:0.010989\ttest-error:0.000000 \n",
            "[61]\ttrain-error:0.010989\ttest-error:0.000000 \n",
            "[71]\ttrain-error:0.010989\ttest-error:0.000000 \n",
            "[81]\ttrain-error:0.010989\ttest-error:0.000000 \n",
            "[91]\ttrain-error:0.010989\ttest-error:0.000000 \n",
            "[101]\ttrain-error:0.010989\ttest-error:0.000000 \n",
            "Stopping. Best iteration:\n",
            "[1]\ttrain-error:0.109890\ttest-error:0.000000\n",
            "\n"
          ]
        },
        {
          "output_type": "display_data",
          "data": {
            "text/plain": [
              "\n",
              "Call:\n",
              "lm_robust(formula = mh_scale ~ ptsd_score, data = data.intake, \n",
              "    weights = ipw, alpha = 0.1)\n",
              "\n",
              "Weighted, Standard error type:  HC2 \n",
              "\n",
              "Coefficients:\n",
              "            Estimate Std. Error t value  Pr(>|t|) CI Lower CI Upper DF\n",
              "(Intercept)    0.485    0.05096   9.517 2.883e-15   0.4003   0.5697 90\n",
              "ptsd_score     1.028    0.10830   9.488 3.324e-15   0.8475   1.2075 90\n",
              "\n",
              "Multiple R-squared:  0.5498 ,\tAdjusted R-squared:  0.5448 \n",
              "F-statistic: 90.01 on 1 and 90 DF,  p-value: 3.324e-15"
            ]
          },
          "metadata": {}
        }
      ]
    },
    {
      "cell_type": "markdown",
      "source": [
        "covid_iso"
      ],
      "metadata": {
        "id": "B1L0QfcZVxXW"
      }
    },
    {
      "cell_type": "code",
      "source": [
        "set.seed(2024)\n",
        "data.intake <- read.csv('ages21_24.csv')\n",
        "rownames(data.intake) <- data.intake$record_id\n",
        "data.intake$record_id <- NULL\n",
        "data.intake <- data.intake %>%\n",
        "  mutate(covid_iso = ifelse(covid_iso > 7, 1, 0))\n",
        "\n",
        "col_names <- colnames(data.intake)\n",
        "if (\"covid_iso\" %in% col_names){\n",
        "  new_col_order <- c(\"covid_iso\", col_names[col_names != \"covid_iso\"])\n",
        "  data.intake <- data.intake[, new_col_order]}\n",
        "\n",
        "n <- nrow(data.intake)\n",
        "train_rows <- sample(1:n, 0.99 * n, replace = F)\n",
        "train.intake <- xgb.DMatrix(data.matrix(data.intake[train_rows, -1]),\n",
        "                            label = data.intake[train_rows, 1])\n",
        "test.intake <- xgb.DMatrix(data.matrix(data.intake[-train_rows, -1]),\n",
        "                            label = data.intake[-train_rows, 1])\n",
        "\n",
        "params <- list(\n",
        "  objective = \"binary:logistic\",\n",
        "  learning_rate = 0.05,\n",
        "  subsample = 0.9,\n",
        "  colsample_bynode = 1,\n",
        "  max_depth = 10,\n",
        "  scale_pos_weight = 1\n",
        ")\n",
        "\n",
        "fit_xgb <- xgb.train(\n",
        "  params,\n",
        "  data = train.intake,\n",
        "  watchlist = list(train = train.intake, test = test.intake),\n",
        "  eval.metric = \"error\",\n",
        "  early_stopping_rounds = 100,\n",
        "  print_every_n = 10,\n",
        "  nrounds = 10000\n",
        ")\n",
        "\n",
        "pred <- predict(fit_xgb, train.intake)\n",
        "dif <- dim(data.intake)[1] - length(pred)\n",
        "\n",
        "for (x in 1:dif) {\n",
        "  pred <- c(pred, mean(pred))\n",
        "}\n",
        "\n",
        "ipw <- ifelse(data.intake$covid_iso==1, 1/pred, 1/(1-pred))\n",
        "model <- lm_robust(mh_scale ~ covid_iso, data=data.intake, weights=ipw, alpha=0.1)\n",
        "summary(model)"
      ],
      "metadata": {
        "colab": {
          "base_uri": "https://localhost:8080/",
          "height": 571
        },
        "id": "JAdnQjW_Vnme",
        "outputId": "e66f1c3d-243c-491f-e509-d37bdab44b6e"
      },
      "execution_count": 173,
      "outputs": [
        {
          "output_type": "stream",
          "name": "stdout",
          "text": [
            "[1]\ttrain-error:0.186813\ttest-error:1.000000 \n",
            "Multiple eval metrics are present. Will use test_error for early stopping.\n",
            "Will train until test_error hasn't improved in 100 rounds.\n",
            "\n",
            "[11]\ttrain-error:0.043956\ttest-error:0.000000 \n",
            "[21]\ttrain-error:0.021978\ttest-error:0.000000 \n",
            "[31]\ttrain-error:0.010989\ttest-error:0.000000 \n",
            "[41]\ttrain-error:0.010989\ttest-error:0.000000 \n",
            "[51]\ttrain-error:0.000000\ttest-error:0.000000 \n",
            "[61]\ttrain-error:0.000000\ttest-error:0.000000 \n",
            "[71]\ttrain-error:0.000000\ttest-error:0.000000 \n",
            "[81]\ttrain-error:0.000000\ttest-error:0.000000 \n",
            "[91]\ttrain-error:0.000000\ttest-error:0.000000 \n",
            "[101]\ttrain-error:0.000000\ttest-error:0.000000 \n",
            "Stopping. Best iteration:\n",
            "[7]\ttrain-error:0.076923\ttest-error:0.000000\n",
            "\n"
          ]
        },
        {
          "output_type": "display_data",
          "data": {
            "text/plain": [
              "\n",
              "Call:\n",
              "lm_robust(formula = mh_scale ~ covid_iso, data = data.intake, \n",
              "    weights = ipw, alpha = 0.1)\n",
              "\n",
              "Weighted, Standard error type:  HC2 \n",
              "\n",
              "Coefficients:\n",
              "            Estimate Std. Error t value  Pr(>|t|) CI Lower CI Upper DF\n",
              "(Intercept)   0.7251     0.1039   6.976 4.957e-10  0.55235   0.8979 90\n",
              "covid_iso     0.2052     0.1372   1.496 1.381e-01 -0.02273   0.4332 90\n",
              "\n",
              "Multiple R-squared:  0.02481 ,\tAdjusted R-squared:  0.01397 \n",
              "F-statistic: 2.239 on 1 and 90 DF,  p-value: 0.1381"
            ]
          },
          "metadata": {}
        }
      ]
    },
    {
      "cell_type": "markdown",
      "source": [
        "max.emohelp"
      ],
      "metadata": {
        "id": "dWBEbgy1jymx"
      }
    },
    {
      "cell_type": "code",
      "source": [
        "set.seed(2024)\n",
        "data.intake <- read.csv('ages21_24.csv')\n",
        "rownames(data.intake) <- data.intake$record_id\n",
        "data.intake$record_id <- NULL\n",
        "data.intake <- data.intake %>%\n",
        "  mutate(max.emohelp = ifelse(max.emohelp >= 9, 1, 0))\n",
        "\n",
        "col_names <- colnames(data.intake)\n",
        "if (\"max.emohelp\" %in% col_names){\n",
        "  new_col_order <- c(\"max.emohelp\", col_names[col_names != \"max.emohelp\"])\n",
        "  data.intake <- data.intake[, new_col_order]}\n",
        "\n",
        "n <- nrow(data.intake)\n",
        "train_rows <- sample(1:n, 0.99 * n, replace = F)\n",
        "train.intake <- xgb.DMatrix(data.matrix(data.intake[train_rows, -1]),\n",
        "                            label = data.intake[train_rows, 1])\n",
        "test.intake <- xgb.DMatrix(data.matrix(data.intake[-train_rows, -1]),\n",
        "                            label = data.intake[-train_rows, 1])\n",
        "\n",
        "params <- list(\n",
        "  objective = \"binary:logistic\",\n",
        "  learning_rate = 0.05,\n",
        "  subsample = 0.9,\n",
        "  colsample_bynode = 1,\n",
        "  max_depth = 10,\n",
        "  scale_pos_weight = 1\n",
        ")\n",
        "\n",
        "fit_xgb <- xgb.train(\n",
        "  params,\n",
        "  data = train.intake,\n",
        "  watchlist = list(train = train.intake, test = test.intake),\n",
        "  eval.metric = \"error\",\n",
        "  early_stopping_rounds = 100,\n",
        "  print_every_n = 10,\n",
        "  nrounds = 10000\n",
        ")\n",
        "\n",
        "pred <- predict(fit_xgb, train.intake)\n",
        "dif <- dim(data.intake)[1] - length(pred)\n",
        "\n",
        "for (x in 1:dif) {\n",
        "  pred <- c(pred, mean(pred))\n",
        "}\n",
        "\n",
        "ipw <- ifelse(data.intake$max.emohelp==1, 1/pred, 1/(1-pred))\n",
        "model <- lm_robust(mh_scale ~ max.emohelp, data=data.intake, weights=ipw, alpha=0.1)\n",
        "summary(model)"
      ],
      "metadata": {
        "colab": {
          "base_uri": "https://localhost:8080/",
          "height": 571
        },
        "id": "AnoN2c2vjSAt",
        "outputId": "ecdd445a-29d5-4e74-cd72-ead0ef060853"
      },
      "execution_count": 174,
      "outputs": [
        {
          "output_type": "stream",
          "name": "stdout",
          "text": [
            "[1]\ttrain-error:0.032967\ttest-error:0.000000 \n",
            "Multiple eval metrics are present. Will use test_error for early stopping.\n",
            "Will train until test_error hasn't improved in 100 rounds.\n",
            "\n",
            "[11]\ttrain-error:0.032967\ttest-error:0.000000 \n",
            "[21]\ttrain-error:0.010989\ttest-error:0.000000 \n",
            "[31]\ttrain-error:0.010989\ttest-error:0.000000 \n",
            "[41]\ttrain-error:0.010989\ttest-error:0.000000 \n",
            "[51]\ttrain-error:0.010989\ttest-error:0.000000 \n",
            "[61]\ttrain-error:0.000000\ttest-error:0.000000 \n",
            "[71]\ttrain-error:0.000000\ttest-error:0.000000 \n",
            "[81]\ttrain-error:0.000000\ttest-error:0.000000 \n",
            "[91]\ttrain-error:0.000000\ttest-error:0.000000 \n",
            "[101]\ttrain-error:0.000000\ttest-error:0.000000 \n",
            "Stopping. Best iteration:\n",
            "[1]\ttrain-error:0.032967\ttest-error:0.000000\n",
            "\n"
          ]
        },
        {
          "output_type": "display_data",
          "data": {
            "text/plain": [
              "\n",
              "Call:\n",
              "lm_robust(formula = mh_scale ~ max.emohelp, data = data.intake, \n",
              "    weights = ipw, alpha = 0.1)\n",
              "\n",
              "Weighted, Standard error type:  HC2 \n",
              "\n",
              "Coefficients:\n",
              "            Estimate Std. Error t value  Pr(>|t|) CI Lower CI Upper DF\n",
              "(Intercept)   0.6529     0.0824   7.924 5.848e-12  0.51600   0.7899 90\n",
              "max.emohelp   0.2503     0.1217   2.056 4.263e-02  0.04802   0.4526 90\n",
              "\n",
              "Multiple R-squared:  0.03105 ,\tAdjusted R-squared:  0.02029 \n",
              "F-statistic: 4.229 on 1 and 90 DF,  p-value: 0.04263"
            ]
          },
          "metadata": {}
        }
      ]
    },
    {
      "cell_type": "markdown",
      "source": [
        "#25+"
      ],
      "metadata": {
        "id": "iSfaiY4yjtUO"
      }
    },
    {
      "cell_type": "markdown",
      "source": [
        "GPA"
      ],
      "metadata": {
        "id": "hPpHITXQWgDY"
      }
    },
    {
      "cell_type": "code",
      "source": [
        "set.seed(2024)\n",
        "data.intake <- read.csv('ages25_63.csv')\n",
        "rownames(data.intake) <- data.intake$record_id\n",
        "data.intake$record_id <- NULL\n",
        "\n",
        "col_names <- colnames(data.intake)\n",
        "if (\"gpa_thresh3_0\" %in% col_names){\n",
        "  new_col_order <- c(\"gpa_thresh3_0\", col_names[col_names != \"gpa_thresh3_0\"])\n",
        "  data.intake <- data.intake[, new_col_order]}\n",
        "\n",
        "n <- nrow(data.intake)\n",
        "train_rows <- sample(1:n, 0.99 * n, replace = F)\n",
        "train.intake <- xgb.DMatrix(data.matrix(data.intake[train_rows, -1]),\n",
        "                            label = data.intake[train_rows, 1])\n",
        "test.intake <- xgb.DMatrix(data.matrix(data.intake[-train_rows, -1]),\n",
        "                            label = data.intake[-train_rows, 1])\n",
        "\n",
        "params <- list(\n",
        "  objective = \"binary:logistic\",\n",
        "  learning_rate = 0.05,\n",
        "  subsample = 0.9,\n",
        "  colsample_bynode = 1,\n",
        "  max_depth = 10,\n",
        "  scale_pos_weight = 1\n",
        ")\n",
        "\n",
        "fit_xgb <- xgb.train(\n",
        "  params,\n",
        "  data = train.intake,\n",
        "  watchlist = list(train = train.intake, test = test.intake),\n",
        "  eval.metric = \"error\",\n",
        "  early_stopping_rounds = 100,\n",
        "  print_every_n = 10,\n",
        "  nrounds = 10000\n",
        ")\n",
        "\n",
        "pred <- predict(fit_xgb, train.intake)\n",
        "dif <- dim(data.intake)[1] - length(pred)\n",
        "\n",
        "for (x in 1:dif) {\n",
        "  pred <- c(pred, mean(pred))\n",
        "}\n",
        "\n",
        "ipw <- ifelse(data.intake$gpa_thresh3_0==1, 1/pred, 1/(1-pred))\n",
        "model <- lm_robust(mh_scale ~ gpa_thresh3_0, data=data.intake, weights=ipw, alpha=0.1)\n",
        "summary(model)"
      ],
      "metadata": {
        "colab": {
          "base_uri": "https://localhost:8080/",
          "height": 571
        },
        "outputId": "9b93be93-e150-4f3d-9139-f08adcfaa0d3",
        "id": "b26vrQ2KWgDn"
      },
      "execution_count": 175,
      "outputs": [
        {
          "output_type": "stream",
          "name": "stdout",
          "text": [
            "[1]\ttrain-error:0.114286\ttest-error:0.000000 \n",
            "Multiple eval metrics are present. Will use test_error for early stopping.\n",
            "Will train until test_error hasn't improved in 100 rounds.\n",
            "\n",
            "[11]\ttrain-error:0.085714\ttest-error:0.000000 \n",
            "[21]\ttrain-error:0.085714\ttest-error:0.000000 \n",
            "[31]\ttrain-error:0.085714\ttest-error:0.000000 \n",
            "[41]\ttrain-error:0.085714\ttest-error:0.000000 \n",
            "[51]\ttrain-error:0.085714\ttest-error:0.000000 \n",
            "[61]\ttrain-error:0.085714\ttest-error:0.000000 \n",
            "[71]\ttrain-error:0.028571\ttest-error:0.000000 \n",
            "[81]\ttrain-error:0.028571\ttest-error:0.000000 \n",
            "[91]\ttrain-error:0.000000\ttest-error:0.000000 \n",
            "[101]\ttrain-error:0.000000\ttest-error:0.000000 \n",
            "Stopping. Best iteration:\n",
            "[1]\ttrain-error:0.114286\ttest-error:0.000000\n",
            "\n"
          ]
        },
        {
          "output_type": "display_data",
          "data": {
            "text/plain": [
              "\n",
              "Call:\n",
              "lm_robust(formula = mh_scale ~ gpa_thresh3_0, data = data.intake, \n",
              "    weights = ipw, alpha = 0.1)\n",
              "\n",
              "Weighted, Standard error type:  HC2 \n",
              "\n",
              "Coefficients:\n",
              "              Estimate Std. Error t value  Pr(>|t|) CI Lower CI Upper DF\n",
              "(Intercept)     0.6724    0.08301   8.100 1.911e-09   0.5320   0.8127 34\n",
              "gpa_thresh3_0   0.3946    0.24495   1.611 1.164e-01  -0.0196   0.8088 34\n",
              "\n",
              "Multiple R-squared:  0.1078 ,\tAdjusted R-squared:  0.08153 \n",
              "F-statistic: 2.595 on 1 and 34 DF,  p-value: 0.1164"
            ]
          },
          "metadata": {}
        }
      ]
    },
    {
      "cell_type": "markdown",
      "source": [
        "ptsd"
      ],
      "metadata": {
        "id": "VzJ46JPlWgDo"
      }
    },
    {
      "cell_type": "code",
      "source": [
        "set.seed(2024)\n",
        "data.intake <- read.csv('ages25_63.csv')\n",
        "rownames(data.intake) <- data.intake$record_id\n",
        "data.intake$record_id <- NULL\n",
        "data.intake <- data.intake %>%\n",
        "  mutate(ptsd_score = ifelse(ptsd_score >= 33, 1, 0))\n",
        "\n",
        "col_names <- colnames(data.intake)\n",
        "if (\"ptsd_score\" %in% col_names){\n",
        "  new_col_order <- c(\"ptsd_score\", col_names[col_names != \"ptsd_score\"])\n",
        "  data.intake <- data.intake[, new_col_order]}\n",
        "\n",
        "n <- nrow(data.intake)\n",
        "train_rows <- sample(1:n, 0.99 * n, replace = F)\n",
        "train.intake <- xgb.DMatrix(data.matrix(data.intake[train_rows, -1]),\n",
        "                            label = data.intake[train_rows, 1])\n",
        "test.intake <- xgb.DMatrix(data.matrix(data.intake[-train_rows, -1]),\n",
        "                            label = data.intake[-train_rows, 1])\n",
        "\n",
        "params <- list(\n",
        "  objective = \"binary:logistic\",\n",
        "  learning_rate = 0.05,\n",
        "  subsample = 0.9,\n",
        "  colsample_bynode = 1,\n",
        "  max_depth = 10,\n",
        "  scale_pos_weight = 1\n",
        ")\n",
        "\n",
        "fit_xgb <- xgb.train(\n",
        "  params,\n",
        "  data = train.intake,\n",
        "  watchlist = list(train = train.intake, test = test.intake),\n",
        "  eval.metric = \"error\",\n",
        "  early_stopping_rounds = 100,\n",
        "  print_every_n = 10,\n",
        "  nrounds = 10000\n",
        ")\n",
        "\n",
        "pred <- predict(fit_xgb, train.intake)\n",
        "dif <- dim(data.intake)[1] - length(pred)\n",
        "\n",
        "for (x in 1:dif) {\n",
        "  pred <- c(pred, mean(pred))\n",
        "}\n",
        "\n",
        "ipw <- ifelse(data.intake$ptsd_score==1, 1/pred, 1/(1-pred))\n",
        "model <- lm_robust(mh_scale ~ ptsd_score, data=data.intake, weights=ipw, alpha=0.1)\n",
        "summary(model)"
      ],
      "metadata": {
        "colab": {
          "base_uri": "https://localhost:8080/",
          "height": 571
        },
        "outputId": "f0ec273b-b4e7-4449-9ebb-ed3058a1af50",
        "id": "7ZUmau_ZWgDo"
      },
      "execution_count": 176,
      "outputs": [
        {
          "output_type": "stream",
          "name": "stdout",
          "text": [
            "[1]\ttrain-error:0.085714\ttest-error:0.000000 \n",
            "Multiple eval metrics are present. Will use test_error for early stopping.\n",
            "Will train until test_error hasn't improved in 100 rounds.\n",
            "\n",
            "[11]\ttrain-error:0.085714\ttest-error:0.000000 \n",
            "[21]\ttrain-error:0.057143\ttest-error:0.000000 \n",
            "[31]\ttrain-error:0.028571\ttest-error:0.000000 \n",
            "[41]\ttrain-error:0.028571\ttest-error:0.000000 \n",
            "[51]\ttrain-error:0.028571\ttest-error:0.000000 \n",
            "[61]\ttrain-error:0.028571\ttest-error:0.000000 \n",
            "[71]\ttrain-error:0.028571\ttest-error:0.000000 \n",
            "[81]\ttrain-error:0.028571\ttest-error:0.000000 \n",
            "[91]\ttrain-error:0.028571\ttest-error:0.000000 \n",
            "[101]\ttrain-error:0.028571\ttest-error:0.000000 \n",
            "Stopping. Best iteration:\n",
            "[1]\ttrain-error:0.085714\ttest-error:0.000000\n",
            "\n"
          ]
        },
        {
          "output_type": "display_data",
          "data": {
            "text/plain": [
              "\n",
              "Call:\n",
              "lm_robust(formula = mh_scale ~ ptsd_score, data = data.intake, \n",
              "    weights = ipw, alpha = 0.1)\n",
              "\n",
              "Weighted, Standard error type:  HC2 \n",
              "\n",
              "Coefficients:\n",
              "            Estimate Std. Error t value  Pr(>|t|) CI Lower CI Upper DF\n",
              "(Intercept)   0.6747    0.08454   7.981 2.671e-09   0.5318   0.8177 34\n",
              "ptsd_score    0.5876    0.24014   2.447 1.972e-02   0.1816   0.9937 34\n",
              "\n",
              "Multiple R-squared:  0.1674 ,\tAdjusted R-squared:  0.1429 \n",
              "F-statistic: 5.988 on 1 and 34 DF,  p-value: 0.01972"
            ]
          },
          "metadata": {}
        }
      ]
    },
    {
      "cell_type": "markdown",
      "source": [
        "covid_iso"
      ],
      "metadata": {
        "id": "wTHYpyOqWgDo"
      }
    },
    {
      "cell_type": "code",
      "source": [
        "set.seed(2024)\n",
        "data.intake <- read.csv('ages25_63.csv')\n",
        "rownames(data.intake) <- data.intake$record_id\n",
        "data.intake$record_id <- NULL\n",
        "data.intake <- data.intake %>%\n",
        "  mutate(covid_iso = ifelse(covid_iso > 7, 1, 0))\n",
        "\n",
        "col_names <- colnames(data.intake)\n",
        "if (\"covid_iso\" %in% col_names){\n",
        "  new_col_order <- c(\"covid_iso\", col_names[col_names != \"covid_iso\"])\n",
        "  data.intake <- data.intake[, new_col_order]}\n",
        "\n",
        "n <- nrow(data.intake)\n",
        "train_rows <- sample(1:n, 0.99 * n, replace = F)\n",
        "train.intake <- xgb.DMatrix(data.matrix(data.intake[train_rows, -1]),\n",
        "                            label = data.intake[train_rows, 1])\n",
        "test.intake <- xgb.DMatrix(data.matrix(data.intake[-train_rows, -1]),\n",
        "                            label = data.intake[-train_rows, 1])\n",
        "\n",
        "params <- list(\n",
        "  objective = \"binary:logistic\",\n",
        "  learning_rate = 0.05,\n",
        "  subsample = 0.9,\n",
        "  colsample_bynode = 1,\n",
        "  max_depth = 10,\n",
        "  scale_pos_weight = 1\n",
        ")\n",
        "\n",
        "fit_xgb <- xgb.train(\n",
        "  params,\n",
        "  data = train.intake,\n",
        "  watchlist = list(train = train.intake, test = test.intake),\n",
        "  eval.metric = \"error\",\n",
        "  early_stopping_rounds = 100,\n",
        "  print_every_n = 10,\n",
        "  nrounds = 10000\n",
        ")\n",
        "\n",
        "pred <- predict(fit_xgb, train.intake)\n",
        "dif <- dim(data.intake)[1] - length(pred)\n",
        "\n",
        "for (x in 1:dif) {\n",
        "  pred <- c(pred, mean(pred))\n",
        "}\n",
        "\n",
        "ipw <- ifelse(data.intake$covid_iso==1, 1/pred, 1/(1-pred))\n",
        "model <- lm_robust(mh_scale ~ covid_iso, data=data.intake, weights=ipw, alpha=0.1)\n",
        "summary(model)"
      ],
      "metadata": {
        "colab": {
          "base_uri": "https://localhost:8080/",
          "height": 571
        },
        "id": "aCL-BkpSWgDo",
        "outputId": "9d5926a5-1cde-4dbd-d36c-2aa27211487f"
      },
      "execution_count": 177,
      "outputs": [
        {
          "output_type": "stream",
          "name": "stdout",
          "text": [
            "[1]\ttrain-error:0.114286\ttest-error:1.000000 \n",
            "Multiple eval metrics are present. Will use test_error for early stopping.\n",
            "Will train until test_error hasn't improved in 100 rounds.\n",
            "\n",
            "[11]\ttrain-error:0.057143\ttest-error:1.000000 \n",
            "[21]\ttrain-error:0.057143\ttest-error:1.000000 \n",
            "[31]\ttrain-error:0.057143\ttest-error:1.000000 \n",
            "[41]\ttrain-error:0.057143\ttest-error:1.000000 \n",
            "[51]\ttrain-error:0.057143\ttest-error:1.000000 \n",
            "[61]\ttrain-error:0.057143\ttest-error:1.000000 \n",
            "[71]\ttrain-error:0.057143\ttest-error:1.000000 \n",
            "[81]\ttrain-error:0.057143\ttest-error:1.000000 \n",
            "[91]\ttrain-error:0.057143\ttest-error:1.000000 \n",
            "[101]\ttrain-error:0.028571\ttest-error:1.000000 \n",
            "Stopping. Best iteration:\n",
            "[1]\ttrain-error:0.114286\ttest-error:1.000000\n",
            "\n"
          ]
        },
        {
          "output_type": "display_data",
          "data": {
            "text/plain": [
              "\n",
              "Call:\n",
              "lm_robust(formula = mh_scale ~ covid_iso, data = data.intake, \n",
              "    weights = ipw, alpha = 0.1)\n",
              "\n",
              "Weighted, Standard error type:  HC2 \n",
              "\n",
              "Coefficients:\n",
              "            Estimate Std. Error t value  Pr(>|t|) CI Lower CI Upper DF\n",
              "(Intercept)   0.6407    0.09552   6.708 1.053e-07   0.4792   0.8023 34\n",
              "covid_iso     0.4223    0.17899   2.359 2.419e-02   0.1196   0.7250 34\n",
              "\n",
              "Multiple R-squared:  0.142 ,\tAdjusted R-squared:  0.1168 \n",
              "F-statistic: 5.566 on 1 and 34 DF,  p-value: 0.02419"
            ]
          },
          "metadata": {}
        }
      ]
    },
    {
      "cell_type": "markdown",
      "source": [
        "max.emohelp"
      ],
      "metadata": {
        "id": "s12MdZBxWgDo"
      }
    },
    {
      "cell_type": "code",
      "source": [
        "set.seed(2024)\n",
        "data.intake <- read.csv('ages25_63.csv')\n",
        "rownames(data.intake) <- data.intake$record_id\n",
        "data.intake$record_id <- NULL\n",
        "data.intake <- data.intake %>%\n",
        "  mutate(max.emohelp = ifelse(max.emohelp >= 9, 1, 0))\n",
        "\n",
        "col_names <- colnames(data.intake)\n",
        "if (\"max.emohelp\" %in% col_names){\n",
        "  new_col_order <- c(\"max.emohelp\", col_names[col_names != \"max.emohelp\"])\n",
        "  data.intake <- data.intake[, new_col_order]}\n",
        "\n",
        "n <- nrow(data.intake)\n",
        "train_rows <- sample(1:n, 0.99 * n, replace = F)\n",
        "train.intake <- xgb.DMatrix(data.matrix(data.intake[train_rows, -1]),\n",
        "                            label = data.intake[train_rows, 1])\n",
        "test.intake <- xgb.DMatrix(data.matrix(data.intake[-train_rows, -1]),\n",
        "                            label = data.intake[-train_rows, 1])\n",
        "\n",
        "params <- list(\n",
        "  objective = \"binary:logistic\",\n",
        "  learning_rate = 0.05,\n",
        "  subsample = 0.9,\n",
        "  colsample_bynode = 1,\n",
        "  max_depth = 10,\n",
        "  scale_pos_weight = 1\n",
        ")\n",
        "\n",
        "fit_xgb <- xgb.train(\n",
        "  params,\n",
        "  data = train.intake,\n",
        "  watchlist = list(train = train.intake, test = test.intake),\n",
        "  eval.metric = \"error\",\n",
        "  early_stopping_rounds = 100,\n",
        "  print_every_n = 10,\n",
        "  nrounds = 10000\n",
        ")\n",
        "\n",
        "pred <- predict(fit_xgb, train.intake)\n",
        "dif <- dim(data.intake)[1] - length(pred)\n",
        "\n",
        "for (x in 1:dif) {\n",
        "  pred <- c(pred, mean(pred))\n",
        "}\n",
        "\n",
        "ipw <- ifelse(data.intake$max.emohelp==1, 1/pred, 1/(1-pred))\n",
        "model <- lm_robust(mh_scale ~ max.emohelp, data=data.intake, weights=ipw, alpha=0.1)\n",
        "summary(model)"
      ],
      "metadata": {
        "colab": {
          "base_uri": "https://localhost:8080/",
          "height": 571
        },
        "outputId": "a66a9bfe-e2e4-43fc-bf35-d83217fcfda0",
        "id": "F8M0nWGwWgDo"
      },
      "execution_count": 178,
      "outputs": [
        {
          "output_type": "stream",
          "name": "stdout",
          "text": [
            "[1]\ttrain-error:0.057143\ttest-error:0.000000 \n",
            "Multiple eval metrics are present. Will use test_error for early stopping.\n",
            "Will train until test_error hasn't improved in 100 rounds.\n",
            "\n",
            "[11]\ttrain-error:0.000000\ttest-error:0.000000 \n",
            "[21]\ttrain-error:0.000000\ttest-error:0.000000 \n",
            "[31]\ttrain-error:0.000000\ttest-error:0.000000 \n",
            "[41]\ttrain-error:0.000000\ttest-error:0.000000 \n",
            "[51]\ttrain-error:0.000000\ttest-error:0.000000 \n",
            "[61]\ttrain-error:0.000000\ttest-error:0.000000 \n",
            "[71]\ttrain-error:0.000000\ttest-error:0.000000 \n",
            "[81]\ttrain-error:0.000000\ttest-error:0.000000 \n",
            "[91]\ttrain-error:0.000000\ttest-error:0.000000 \n",
            "[101]\ttrain-error:0.000000\ttest-error:0.000000 \n",
            "Stopping. Best iteration:\n",
            "[1]\ttrain-error:0.057143\ttest-error:0.000000\n",
            "\n"
          ]
        },
        {
          "output_type": "display_data",
          "data": {
            "text/plain": [
              "\n",
              "Call:\n",
              "lm_robust(formula = mh_scale ~ max.emohelp, data = data.intake, \n",
              "    weights = ipw, alpha = 0.1)\n",
              "\n",
              "Weighted, Standard error type:  HC2 \n",
              "\n",
              "Coefficients:\n",
              "            Estimate Std. Error t value  Pr(>|t|) CI Lower CI Upper DF\n",
              "(Intercept)   1.0680     0.2316   4.611 5.463e-05   0.6763  1.45968 34\n",
              "max.emohelp  -0.3483     0.2485  -1.402 1.701e-01  -0.7686  0.07191 34\n",
              "\n",
              "Multiple R-squared:  0.04978 ,\tAdjusted R-squared:  0.02183 \n",
              "F-statistic: 1.964 on 1 and 34 DF,  p-value: 0.1701"
            ]
          },
          "metadata": {}
        }
      ]
    },
    {
      "cell_type": "markdown",
      "source": [
        "# WHITE"
      ],
      "metadata": {
        "id": "K0i701qG2HRm"
      }
    },
    {
      "cell_type": "markdown",
      "source": [
        "GPA"
      ],
      "metadata": {
        "id": "uiyoTZ5J2cqK"
      }
    },
    {
      "cell_type": "code",
      "source": [
        "set.seed(2024)\n",
        "data.intake <- read.csv('white.csv')\n",
        "rownames(data.intake) <- data.intake$record_id\n",
        "data.intake$record_id <- NULL\n",
        "\n",
        "col_names <- colnames(data.intake)\n",
        "if (\"gpa_thresh3_0\" %in% col_names){\n",
        "  new_col_order <- c(\"gpa_thresh3_0\", col_names[col_names != \"gpa_thresh3_0\"])\n",
        "  data.intake <- data.intake[, new_col_order]}\n",
        "\n",
        "n <- nrow(data.intake)\n",
        "train_rows <- sample(1:n, 0.99 * n, replace = F)\n",
        "train.intake <- xgb.DMatrix(data.matrix(data.intake[train_rows, -1]),\n",
        "                            label = data.intake[train_rows, 1])\n",
        "test.intake <- xgb.DMatrix(data.matrix(data.intake[-train_rows, -1]),\n",
        "                            label = data.intake[-train_rows, 1])\n",
        "\n",
        "params <- list(\n",
        "  objective = \"binary:logistic\",\n",
        "  learning_rate = 0.05,\n",
        "  subsample = 0.9,\n",
        "  colsample_bynode = 1,\n",
        "  max_depth = 10,\n",
        "  scale_pos_weight = 1\n",
        ")\n",
        "\n",
        "fit_xgb <- xgb.train(\n",
        "  params,\n",
        "  data = train.intake,\n",
        "  watchlist = list(train = train.intake, test = test.intake),\n",
        "  eval.metric = \"error\",\n",
        "  early_stopping_rounds = 100,\n",
        "  print_every_n = 10,\n",
        "  nrounds = 10000\n",
        ")\n",
        "\n",
        "pred <- predict(fit_xgb, train.intake)\n",
        "dif <- dim(data.intake)[1] - length(pred)\n",
        "\n",
        "for (x in 1:dif) {\n",
        "  pred <- c(pred, mean(pred))\n",
        "}\n",
        "\n",
        "ipw <- ifelse(data.intake$gpa_thresh3_0==1, 1/pred, 1/(1-pred))\n",
        "model <- lm_robust(mh_scale ~ gpa_thresh3_0, data=data.intake, weights=ipw, alpha=0.1)\n",
        "summary(model)"
      ],
      "metadata": {
        "colab": {
          "base_uri": "https://localhost:8080/",
          "height": 571
        },
        "id": "rZ5Xb6Qvs8XM",
        "outputId": "401da536-3314-4fd2-f521-8413c3377a61"
      },
      "execution_count": 94,
      "outputs": [
        {
          "output_type": "stream",
          "name": "stdout",
          "text": [
            "[1]\ttrain-error:0.136000\ttest-error:0.000000 \n",
            "Multiple eval metrics are present. Will use test_error for early stopping.\n",
            "Will train until test_error hasn't improved in 100 rounds.\n",
            "\n",
            "[11]\ttrain-error:0.088000\ttest-error:0.000000 \n",
            "[21]\ttrain-error:0.072000\ttest-error:0.000000 \n",
            "[31]\ttrain-error:0.032000\ttest-error:0.000000 \n",
            "[41]\ttrain-error:0.024000\ttest-error:0.000000 \n",
            "[51]\ttrain-error:0.016000\ttest-error:0.000000 \n",
            "[61]\ttrain-error:0.000000\ttest-error:0.000000 \n",
            "[71]\ttrain-error:0.000000\ttest-error:0.000000 \n",
            "[81]\ttrain-error:0.000000\ttest-error:0.000000 \n",
            "[91]\ttrain-error:0.000000\ttest-error:0.000000 \n",
            "[101]\ttrain-error:0.000000\ttest-error:0.000000 \n",
            "Stopping. Best iteration:\n",
            "[1]\ttrain-error:0.136000\ttest-error:0.000000\n",
            "\n"
          ]
        },
        {
          "output_type": "display_data",
          "data": {
            "text/plain": [
              "\n",
              "Call:\n",
              "lm_robust(formula = mh_scale ~ gpa_thresh3_0, data = data.intake, \n",
              "    weights = ipw, alpha = 0.1)\n",
              "\n",
              "Weighted, Standard error type:  HC2 \n",
              "\n",
              "Coefficients:\n",
              "              Estimate Std. Error t value  Pr(>|t|) CI Lower CI Upper  DF\n",
              "(Intercept)     0.7263    0.05539  13.111 3.066e-25   0.6345  0.81806 125\n",
              "gpa_thresh3_0  -0.1679    0.11962  -1.404 1.629e-01  -0.3661  0.03032 125\n",
              "\n",
              "Multiple R-squared:  0.01252 ,\tAdjusted R-squared:  0.004617 \n",
              "F-statistic:  1.97 on 1 and 125 DF,  p-value: 0.1629"
            ]
          },
          "metadata": {}
        }
      ]
    },
    {
      "cell_type": "markdown",
      "source": [
        "PTSD"
      ],
      "metadata": {
        "id": "QNWpjDib20wN"
      }
    },
    {
      "cell_type": "code",
      "source": [
        "set.seed(2024)\n",
        "data.intake <- read.csv('white.csv')\n",
        "rownames(data.intake) <- data.intake$record_id\n",
        "data.intake$record_id <- NULL\n",
        "data.intake <- data.intake %>%\n",
        "  mutate(ptsd_score = ifelse(ptsd_score >= 33, 1, 0))\n",
        "\n",
        "col_names <- colnames(data.intake)\n",
        "if (\"ptsd_score\" %in% col_names){\n",
        "  new_col_order <- c(\"ptsd_score\", col_names[col_names != \"ptsd_score\"])\n",
        "  data.intake <- data.intake[, new_col_order]}\n",
        "\n",
        "n <- nrow(data.intake)\n",
        "train_rows <- sample(1:n, 0.99 * n, replace = F)\n",
        "train.intake <- xgb.DMatrix(data.matrix(data.intake[train_rows, -1]),\n",
        "                            label = data.intake[train_rows, 1])\n",
        "test.intake <- xgb.DMatrix(data.matrix(data.intake[-train_rows, -1]),\n",
        "                            label = data.intake[-train_rows, 1])\n",
        "\n",
        "params <- list(\n",
        "  objective = \"binary:logistic\",\n",
        "  learning_rate = 0.05,\n",
        "  subsample = 0.9,\n",
        "  colsample_bynode = 1,\n",
        "  max_depth = 10,\n",
        "  scale_pos_weight = 1\n",
        ")\n",
        "\n",
        "fit_xgb <- xgb.train(\n",
        "  params,\n",
        "  data = train.intake,\n",
        "  watchlist = list(train = train.intake, test = test.intake),\n",
        "  eval.metric = \"error\",\n",
        "  early_stopping_rounds = 100,\n",
        "  print_every_n = 10,\n",
        "  nrounds = 10000\n",
        ")\n",
        "\n",
        "pred <- predict(fit_xgb, train.intake)\n",
        "dif <- dim(data.intake)[1] - length(pred)\n",
        "\n",
        "for (x in 1:dif) {\n",
        "  pred <- c(pred, mean(pred))\n",
        "}\n",
        "\n",
        "ipw <- ifelse(data.intake$ptsd_score==1, 1/pred, 1/(1-pred))\n",
        "model <- lm_robust(mh_scale ~ ptsd_score, data=data.intake, weights=ipw, alpha=0.1)\n",
        "summary(model)"
      ],
      "metadata": {
        "colab": {
          "base_uri": "https://localhost:8080/",
          "height": 571
        },
        "id": "McXxxwIh2s_v",
        "outputId": "efa87c8f-8fcf-4d27-ea73-05157cb22401"
      },
      "execution_count": 95,
      "outputs": [
        {
          "output_type": "stream",
          "name": "stdout",
          "text": [
            "[1]\ttrain-error:0.088000\ttest-error:0.000000 \n",
            "Multiple eval metrics are present. Will use test_error for early stopping.\n",
            "Will train until test_error hasn't improved in 100 rounds.\n",
            "\n",
            "[11]\ttrain-error:0.072000\ttest-error:0.000000 \n",
            "[21]\ttrain-error:0.056000\ttest-error:0.000000 \n",
            "[31]\ttrain-error:0.056000\ttest-error:0.000000 \n",
            "[41]\ttrain-error:0.040000\ttest-error:0.000000 \n",
            "[51]\ttrain-error:0.032000\ttest-error:0.000000 \n",
            "[61]\ttrain-error:0.024000\ttest-error:0.000000 \n",
            "[71]\ttrain-error:0.016000\ttest-error:0.000000 \n",
            "[81]\ttrain-error:0.008000\ttest-error:0.000000 \n",
            "[91]\ttrain-error:0.000000\ttest-error:0.000000 \n",
            "[101]\ttrain-error:0.000000\ttest-error:0.000000 \n",
            "Stopping. Best iteration:\n",
            "[1]\ttrain-error:0.088000\ttest-error:0.000000\n",
            "\n"
          ]
        },
        {
          "output_type": "display_data",
          "data": {
            "text/plain": [
              "\n",
              "Call:\n",
              "lm_robust(formula = mh_scale ~ ptsd_score, data = data.intake, \n",
              "    weights = ipw, alpha = 0.1)\n",
              "\n",
              "Weighted, Standard error type:  HC2 \n",
              "\n",
              "Coefficients:\n",
              "            Estimate Std. Error t value  Pr(>|t|) CI Lower CI Upper  DF\n",
              "(Intercept)   0.4809    0.03452  13.929 3.363e-27   0.4237   0.5381 125\n",
              "ptsd_score    0.9614    0.10196   9.429 2.859e-16   0.7924   1.1303 125\n",
              "\n",
              "Multiple R-squared:  0.5267 ,\tAdjusted R-squared:  0.5229 \n",
              "F-statistic: 88.91 on 1 and 125 DF,  p-value: 2.859e-16"
            ]
          },
          "metadata": {}
        }
      ]
    },
    {
      "cell_type": "markdown",
      "source": [
        "Age"
      ],
      "metadata": {
        "id": "QO-geTT_23j4"
      }
    },
    {
      "cell_type": "code",
      "source": [
        "set.seed(2024)\n",
        "data.intake <- read.csv('white.csv')\n",
        "rownames(data.intake) <- data.intake$record_id\n",
        "data.intake$record_id <- NULL\n",
        "data.intake <- data.intake %>%\n",
        "  mutate(age = ifelse(age < 21, 1, 0))\n",
        "\n",
        "col_names <- colnames(data.intake)\n",
        "if (\"age\" %in% col_names){\n",
        "  new_col_order <- c(\"age\", col_names[col_names != \"age\"])\n",
        "  data.intake <- data.intake[, new_col_order]}\n",
        "\n",
        "n <- nrow(data.intake)\n",
        "train_rows <- sample(1:n, 0.99 * n, replace = F)\n",
        "train.intake <- xgb.DMatrix(data.matrix(data.intake[train_rows, -1]),\n",
        "                            label = data.intake[train_rows, 1])\n",
        "test.intake <- xgb.DMatrix(data.matrix(data.intake[-train_rows, -1]),\n",
        "                            label = data.intake[-train_rows, 1])\n",
        "\n",
        "params <- list(\n",
        "  objective = \"binary:logistic\",\n",
        "  learning_rate = 0.05,\n",
        "  subsample = 0.9,\n",
        "  colsample_bynode = 1,\n",
        "  max_depth = 10,\n",
        "  scale_pos_weight = 1\n",
        ")\n",
        "\n",
        "fit_xgb <- xgb.train(\n",
        "  params,\n",
        "  data = train.intake,\n",
        "  watchlist = list(train = train.intake, test = test.intake),\n",
        "  eval.metric = \"error\",\n",
        "  early_stopping_rounds = 100,\n",
        "  print_every_n = 10,\n",
        "  nrounds = 10000\n",
        ")\n",
        "\n",
        "pred <- predict(fit_xgb, train.intake)\n",
        "dif <- dim(data.intake)[1] - length(pred)\n",
        "\n",
        "for (x in 1:dif) {\n",
        "  pred <- c(pred, mean(pred))\n",
        "}\n",
        "\n",
        "ipw <- ifelse(data.intake$age==1, 1/pred, 1/(1-pred))\n",
        "model <- lm_robust(mh_scale ~ age, data=data.intake, weights=ipw, alpha=0.1)\n",
        "summary(model)"
      ],
      "metadata": {
        "colab": {
          "base_uri": "https://localhost:8080/",
          "height": 571
        },
        "id": "7WcntYy829J2",
        "outputId": "3c3679de-5944-4d44-ff07-9fa35a2e8641"
      },
      "execution_count": 96,
      "outputs": [
        {
          "output_type": "stream",
          "name": "stdout",
          "text": [
            "[1]\ttrain-error:0.168000\ttest-error:0.500000 \n",
            "Multiple eval metrics are present. Will use test_error for early stopping.\n",
            "Will train until test_error hasn't improved in 100 rounds.\n",
            "\n",
            "[11]\ttrain-error:0.064000\ttest-error:0.500000 \n",
            "[21]\ttrain-error:0.008000\ttest-error:0.500000 \n",
            "[31]\ttrain-error:0.008000\ttest-error:0.500000 \n",
            "[41]\ttrain-error:0.000000\ttest-error:0.500000 \n",
            "[51]\ttrain-error:0.000000\ttest-error:0.500000 \n",
            "[61]\ttrain-error:0.000000\ttest-error:0.500000 \n",
            "[71]\ttrain-error:0.000000\ttest-error:0.500000 \n",
            "[81]\ttrain-error:0.000000\ttest-error:0.500000 \n",
            "[91]\ttrain-error:0.000000\ttest-error:0.500000 \n",
            "[101]\ttrain-error:0.000000\ttest-error:0.500000 \n",
            "Stopping. Best iteration:\n",
            "[3]\ttrain-error:0.120000\ttest-error:0.000000\n",
            "\n"
          ]
        },
        {
          "output_type": "display_data",
          "data": {
            "text/plain": [
              "\n",
              "Call:\n",
              "lm_robust(formula = mh_scale ~ age, data = data.intake, weights = ipw, \n",
              "    alpha = 0.1)\n",
              "\n",
              "Weighted, Standard error type:  HC2 \n",
              "\n",
              "Coefficients:\n",
              "            Estimate Std. Error t value  Pr(>|t|) CI Lower CI Upper  DF\n",
              "(Intercept)  0.74847    0.07434 10.0677 8.036e-18   0.6253   0.8717 125\n",
              "age         -0.07789    0.10113 -0.7702 4.426e-01  -0.2455   0.0897 125\n",
              "\n",
              "Multiple R-squared:  0.004728 ,\tAdjusted R-squared:  -0.003234 \n",
              "F-statistic: 0.5932 on 1 and 125 DF,  p-value: 0.4426"
            ]
          },
          "metadata": {}
        }
      ]
    },
    {
      "cell_type": "markdown",
      "source": [
        "edu_i.count"
      ],
      "metadata": {
        "id": "t_l5oF0X27ou"
      }
    },
    {
      "cell_type": "code",
      "source": [
        "set.seed(2024)\n",
        "data.intake <- read.csv('white.csv')\n",
        "rownames(data.intake) <- data.intake$record_id\n",
        "data.intake$record_id <- NULL\n",
        "data.intake <- data.intake %>%\n",
        "  mutate(edu.i_count = ifelse(edu.i_count <= 2, 1, 0))\n",
        "\n",
        "col_names <- colnames(data.intake)\n",
        "if (\"edu.i_count\" %in% col_names){\n",
        "  new_col_order <- c(\"edu.i_count\", col_names[col_names != \"edu.i_count\"])\n",
        "  data.intake <- data.intake[, new_col_order]}\n",
        "\n",
        "n <- nrow(data.intake)\n",
        "train_rows <- sample(1:n, 0.99 * n, replace = F)\n",
        "train.intake <- xgb.DMatrix(data.matrix(data.intake[train_rows, -1]),\n",
        "                            label = data.intake[train_rows, 1])\n",
        "test.intake <- xgb.DMatrix(data.matrix(data.intake[-train_rows, -1]),\n",
        "                            label = data.intake[-train_rows, 1])\n",
        "\n",
        "params <- list(\n",
        "  objective = \"binary:logistic\",\n",
        "  learning_rate = 0.05,\n",
        "  subsample = 0.9,\n",
        "  colsample_bynode = 1,\n",
        "  max_depth = 10,\n",
        "  scale_pos_weight = 1\n",
        ")\n",
        "\n",
        "fit_xgb <- xgb.train(\n",
        "  params,\n",
        "  data = train.intake,\n",
        "  watchlist = list(train = train.intake, test = test.intake),\n",
        "  eval.metric = \"error\",\n",
        "  early_stopping_rounds = 100,\n",
        "  print_every_n = 10,\n",
        "  nrounds = 10000\n",
        ")\n",
        "\n",
        "pred <- predict(fit_xgb, train.intake)\n",
        "dif <- dim(data.intake)[1] - length(pred)\n",
        "\n",
        "for (x in 1:dif) {\n",
        "  pred <- c(pred, mean(pred))\n",
        "}\n",
        "\n",
        "ipw <- ifelse(data.intake$edu.i_count==1, 1/pred, 1/(1-pred))\n",
        "model <- lm_robust(mh_scale ~ edu.i_count, data=data.intake, weights=ipw, alpha=0.1)\n",
        "summary(model)"
      ],
      "metadata": {
        "colab": {
          "base_uri": "https://localhost:8080/",
          "height": 571
        },
        "id": "AIOkFT5m22tS",
        "outputId": "5ae9b466-688f-4bfc-fb04-1d905832d20e"
      },
      "execution_count": 97,
      "outputs": [
        {
          "output_type": "stream",
          "name": "stdout",
          "text": [
            "[1]\ttrain-error:0.072000\ttest-error:0.500000 \n",
            "Multiple eval metrics are present. Will use test_error for early stopping.\n",
            "Will train until test_error hasn't improved in 100 rounds.\n",
            "\n",
            "[11]\ttrain-error:0.032000\ttest-error:0.500000 \n",
            "[21]\ttrain-error:0.016000\ttest-error:0.500000 \n",
            "[31]\ttrain-error:0.016000\ttest-error:0.500000 \n",
            "[41]\ttrain-error:0.016000\ttest-error:0.500000 \n",
            "[51]\ttrain-error:0.016000\ttest-error:0.500000 \n",
            "[61]\ttrain-error:0.008000\ttest-error:0.500000 \n",
            "[71]\ttrain-error:0.008000\ttest-error:0.500000 \n",
            "[81]\ttrain-error:0.000000\ttest-error:0.500000 \n",
            "[91]\ttrain-error:0.000000\ttest-error:0.500000 \n",
            "[101]\ttrain-error:0.000000\ttest-error:0.500000 \n",
            "Stopping. Best iteration:\n",
            "[1]\ttrain-error:0.072000\ttest-error:0.500000\n",
            "\n"
          ]
        },
        {
          "output_type": "display_data",
          "data": {
            "text/plain": [
              "\n",
              "Call:\n",
              "lm_robust(formula = mh_scale ~ edu.i_count, data = data.intake, \n",
              "    weights = ipw, alpha = 0.1)\n",
              "\n",
              "Weighted, Standard error type:  HC2 \n",
              "\n",
              "Coefficients:\n",
              "            Estimate Std. Error t value  Pr(>|t|) CI Lower CI Upper  DF\n",
              "(Intercept)   0.5813    0.07643   7.605 5.944e-12  0.45459   0.7079 125\n",
              "edu.i_count   0.1820    0.09964   1.827 7.011e-02  0.01691   0.3471 125\n",
              "\n",
              "Multiple R-squared:  0.0245 ,\tAdjusted R-squared:  0.01669 \n",
              "F-statistic: 3.337 on 1 and 125 DF,  p-value: 0.07011"
            ]
          },
          "metadata": {}
        }
      ]
    },
    {
      "cell_type": "markdown",
      "source": [
        "# ASIAN"
      ],
      "metadata": {
        "id": "9dyIxZeF3b6r"
      }
    },
    {
      "cell_type": "markdown",
      "source": [
        "GPA"
      ],
      "metadata": {
        "id": "-ykc1KkH3Ysl"
      }
    },
    {
      "cell_type": "code",
      "source": [
        "set.seed(2024)\n",
        "data.intake <- read.csv('asian.csv')\n",
        "rownames(data.intake) <- data.intake$record_id\n",
        "data.intake$record_id <- NULL\n",
        "\n",
        "col_names <- colnames(data.intake)\n",
        "if (\"gpa_thresh3_0\" %in% col_names){\n",
        "  new_col_order <- c(\"gpa_thresh3_0\", col_names[col_names != \"gpa_thresh3_0\"])\n",
        "  data.intake <- data.intake[, new_col_order]}\n",
        "\n",
        "n <- nrow(data.intake)\n",
        "train_rows <- sample(1:n, 0.99 * n, replace = F)\n",
        "train.intake <- xgb.DMatrix(data.matrix(data.intake[train_rows, -1]),\n",
        "                            label = data.intake[train_rows, 1])\n",
        "test.intake <- xgb.DMatrix(data.matrix(data.intake[-train_rows, -1]),\n",
        "                            label = data.intake[-train_rows, 1])\n",
        "\n",
        "params <- list(\n",
        "  objective = \"binary:logistic\",\n",
        "  learning_rate = 0.05,\n",
        "  subsample = 0.9,\n",
        "  colsample_bynode = 1,\n",
        "  max_depth = 10,\n",
        "  scale_pos_weight = 1\n",
        ")\n",
        "\n",
        "fit_xgb <- xgb.train(\n",
        "  params,\n",
        "  data = train.intake,\n",
        "  watchlist = list(train = train.intake, test = test.intake),\n",
        "  eval.metric = \"error\",\n",
        "  early_stopping_rounds = 100,\n",
        "  print_every_n = 10,\n",
        "  nrounds = 10000\n",
        ")\n",
        "\n",
        "pred <- predict(fit_xgb, train.intake)\n",
        "dif <- dim(data.intake)[1] - length(pred)\n",
        "\n",
        "for (x in 1:dif) {\n",
        "  pred <- c(pred, mean(pred))\n",
        "}\n",
        "\n",
        "ipw <- ifelse(data.intake$gpa_thresh3_0==1, 1/pred, 1/(1-pred))\n",
        "model <- lm_robust(mh_scale ~ gpa_thresh3_0, data=data.intake, weights=ipw, alpha=0.1)\n",
        "summary(model)"
      ],
      "metadata": {
        "colab": {
          "base_uri": "https://localhost:8080/",
          "height": 589
        },
        "outputId": "756b3f97-b9d4-4526-b1ed-e60999637493",
        "id": "JG-qC24V3Ysn"
      },
      "execution_count": 98,
      "outputs": [
        {
          "output_type": "stream",
          "name": "stdout",
          "text": [
            "[1]\ttrain-error:0.178571\ttest-error:1.000000 \n",
            "Multiple eval metrics are present. Will use test_error for early stopping.\n",
            "Will train until test_error hasn't improved in 100 rounds.\n",
            "\n",
            "[11]\ttrain-error:0.080357\ttest-error:1.000000 \n",
            "[21]\ttrain-error:0.026786\ttest-error:0.500000 \n",
            "[31]\ttrain-error:0.008929\ttest-error:0.500000 \n",
            "[41]\ttrain-error:0.000000\ttest-error:0.500000 \n",
            "[51]\ttrain-error:0.000000\ttest-error:0.500000 \n",
            "[61]\ttrain-error:0.000000\ttest-error:0.500000 \n",
            "[71]\ttrain-error:0.000000\ttest-error:0.500000 \n",
            "[81]\ttrain-error:0.000000\ttest-error:0.500000 \n",
            "[91]\ttrain-error:0.000000\ttest-error:0.500000 \n",
            "[101]\ttrain-error:0.000000\ttest-error:0.500000 \n",
            "[111]\ttrain-error:0.000000\ttest-error:0.500000 \n",
            "Stopping. Best iteration:\n",
            "[13]\ttrain-error:0.044643\ttest-error:0.500000\n",
            "\n"
          ]
        },
        {
          "output_type": "display_data",
          "data": {
            "text/plain": [
              "\n",
              "Call:\n",
              "lm_robust(formula = mh_scale ~ gpa_thresh3_0, data = data.intake, \n",
              "    weights = ipw, alpha = 0.1)\n",
              "\n",
              "Weighted, Standard error type:  HC2 \n",
              "\n",
              "Coefficients:\n",
              "              Estimate Std. Error t value  Pr(>|t|) CI Lower CI Upper  DF\n",
              "(Intercept)     0.9326    0.07315  12.750 1.514e-23   0.8113  1.05396 112\n",
              "gpa_thresh3_0  -0.2296    0.11797  -1.946 5.418e-02  -0.4252 -0.03389 112\n",
              "\n",
              "Multiple R-squared:  0.03446 ,\tAdjusted R-squared:  0.02584 \n",
              "F-statistic: 3.786 on 1 and 112 DF,  p-value: 0.05418"
            ]
          },
          "metadata": {}
        }
      ]
    },
    {
      "cell_type": "markdown",
      "source": [
        "PTSD"
      ],
      "metadata": {
        "id": "1x7irth83Yso"
      }
    },
    {
      "cell_type": "code",
      "source": [
        "set.seed(2024)\n",
        "data.intake <- read.csv('asian.csv')\n",
        "rownames(data.intake) <- data.intake$record_id\n",
        "data.intake$record_id <- NULL\n",
        "data.intake <- data.intake %>%\n",
        "  mutate(ptsd_score = ifelse(ptsd_score >= 33, 1, 0))\n",
        "\n",
        "col_names <- colnames(data.intake)\n",
        "if (\"ptsd_score\" %in% col_names){\n",
        "  new_col_order <- c(\"ptsd_score\", col_names[col_names != \"ptsd_score\"])\n",
        "  data.intake <- data.intake[, new_col_order]}\n",
        "\n",
        "n <- nrow(data.intake)\n",
        "train_rows <- sample(1:n, 0.99 * n, replace = F)\n",
        "train.intake <- xgb.DMatrix(data.matrix(data.intake[train_rows, -1]),\n",
        "                            label = data.intake[train_rows, 1])\n",
        "test.intake <- xgb.DMatrix(data.matrix(data.intake[-train_rows, -1]),\n",
        "                            label = data.intake[-train_rows, 1])\n",
        "\n",
        "params <- list(\n",
        "  objective = \"binary:logistic\",\n",
        "  learning_rate = 0.05,\n",
        "  subsample = 0.9,\n",
        "  colsample_bynode = 1,\n",
        "  max_depth = 10,\n",
        "  scale_pos_weight = 1\n",
        ")\n",
        "\n",
        "fit_xgb <- xgb.train(\n",
        "  params,\n",
        "  data = train.intake,\n",
        "  watchlist = list(train = train.intake, test = test.intake),\n",
        "  eval.metric = \"error\",\n",
        "  early_stopping_rounds = 100,\n",
        "  print_every_n = 10,\n",
        "  nrounds = 10000\n",
        ")\n",
        "\n",
        "pred <- predict(fit_xgb, train.intake)\n",
        "dif <- dim(data.intake)[1] - length(pred)\n",
        "\n",
        "for (x in 1:dif) {\n",
        "  pred <- c(pred, mean(pred))\n",
        "}\n",
        "\n",
        "ipw <- ifelse(data.intake$ptsd_score==1, 1/pred, 1/(1-pred))\n",
        "model <- lm_robust(mh_scale ~ ptsd_score, data=data.intake, weights=ipw, alpha=0.1)\n",
        "summary(model)"
      ],
      "metadata": {
        "colab": {
          "base_uri": "https://localhost:8080/",
          "height": 571
        },
        "outputId": "5b1d111b-2038-46fa-85ec-c8eec2bd4e95",
        "id": "CTcQCUH33Yso"
      },
      "execution_count": 99,
      "outputs": [
        {
          "output_type": "stream",
          "name": "stdout",
          "text": [
            "[1]\ttrain-error:0.107143\ttest-error:0.000000 \n",
            "Multiple eval metrics are present. Will use test_error for early stopping.\n",
            "Will train until test_error hasn't improved in 100 rounds.\n",
            "\n",
            "[11]\ttrain-error:0.062500\ttest-error:0.000000 \n",
            "[21]\ttrain-error:0.044643\ttest-error:0.000000 \n",
            "[31]\ttrain-error:0.026786\ttest-error:0.000000 \n",
            "[41]\ttrain-error:0.026786\ttest-error:0.000000 \n",
            "[51]\ttrain-error:0.026786\ttest-error:0.000000 \n",
            "[61]\ttrain-error:0.008929\ttest-error:0.000000 \n",
            "[71]\ttrain-error:0.008929\ttest-error:0.000000 \n",
            "[81]\ttrain-error:0.008929\ttest-error:0.000000 \n",
            "[91]\ttrain-error:0.008929\ttest-error:0.000000 \n",
            "[101]\ttrain-error:0.000000\ttest-error:0.000000 \n",
            "Stopping. Best iteration:\n",
            "[1]\ttrain-error:0.107143\ttest-error:0.000000\n",
            "\n"
          ]
        },
        {
          "output_type": "display_data",
          "data": {
            "text/plain": [
              "\n",
              "Call:\n",
              "lm_robust(formula = mh_scale ~ ptsd_score, data = data.intake, \n",
              "    weights = ipw, alpha = 0.1)\n",
              "\n",
              "Weighted, Standard error type:  HC2 \n",
              "\n",
              "Coefficients:\n",
              "            Estimate Std. Error t value  Pr(>|t|) CI Lower CI Upper  DF\n",
              "(Intercept)   0.5554    0.05267  10.546 1.786e-18   0.4681   0.6428 112\n",
              "ptsd_score    0.8038    0.10276   7.822 3.134e-12   0.6333   0.9742 112\n",
              "\n",
              "Multiple R-squared:  0.3836 ,\tAdjusted R-squared:  0.3781 \n",
              "F-statistic: 61.18 on 1 and 112 DF,  p-value: 3.134e-12"
            ]
          },
          "metadata": {}
        }
      ]
    },
    {
      "cell_type": "markdown",
      "source": [
        "Age"
      ],
      "metadata": {
        "id": "YrCJJPVO3Ysp"
      }
    },
    {
      "cell_type": "code",
      "source": [
        "set.seed(2024)\n",
        "data.intake <- read.csv('asian.csv')\n",
        "rownames(data.intake) <- data.intake$record_id\n",
        "data.intake$record_id <- NULL\n",
        "data.intake <- data.intake %>%\n",
        "  mutate(age = ifelse(age < 21, 1, 0))\n",
        "\n",
        "col_names <- colnames(data.intake)\n",
        "if (\"age\" %in% col_names){\n",
        "  new_col_order <- c(\"age\", col_names[col_names != \"age\"])\n",
        "  data.intake <- data.intake[, new_col_order]}\n",
        "\n",
        "n <- nrow(data.intake)\n",
        "train_rows <- sample(1:n, 0.99 * n, replace = F)\n",
        "train.intake <- xgb.DMatrix(data.matrix(data.intake[train_rows, -1]),\n",
        "                            label = data.intake[train_rows, 1])\n",
        "test.intake <- xgb.DMatrix(data.matrix(data.intake[-train_rows, -1]),\n",
        "                            label = data.intake[-train_rows, 1])\n",
        "\n",
        "params <- list(\n",
        "  objective = \"binary:logistic\",\n",
        "  learning_rate = 0.05,\n",
        "  subsample = 0.9,\n",
        "  colsample_bynode = 1,\n",
        "  max_depth = 10,\n",
        "  scale_pos_weight = 1\n",
        ")\n",
        "\n",
        "fit_xgb <- xgb.train(\n",
        "  params,\n",
        "  data = train.intake,\n",
        "  watchlist = list(train = train.intake, test = test.intake),\n",
        "  eval.metric = \"error\",\n",
        "  early_stopping_rounds = 100,\n",
        "  print_every_n = 10,\n",
        "  nrounds = 10000\n",
        ")\n",
        "\n",
        "pred <- predict(fit_xgb, train.intake)\n",
        "dif <- dim(data.intake)[1] - length(pred)\n",
        "\n",
        "for (x in 1:dif) {\n",
        "  pred <- c(pred, mean(pred))\n",
        "}\n",
        "\n",
        "ipw <- ifelse(data.intake$age==1, 1/pred, 1/(1-pred))\n",
        "model <- lm_robust(mh_scale ~ age, data=data.intake, weights=ipw, alpha=0.1)\n",
        "summary(model)"
      ],
      "metadata": {
        "colab": {
          "base_uri": "https://localhost:8080/",
          "height": 571
        },
        "outputId": "c6b07921-85df-449d-aae7-1c9ce9cfdef7",
        "id": "aBOa-0fO3Ysp"
      },
      "execution_count": 100,
      "outputs": [
        {
          "output_type": "stream",
          "name": "stdout",
          "text": [
            "[1]\ttrain-error:0.187500\ttest-error:0.500000 \n",
            "Multiple eval metrics are present. Will use test_error for early stopping.\n",
            "Will train until test_error hasn't improved in 100 rounds.\n",
            "\n",
            "[11]\ttrain-error:0.071429\ttest-error:0.000000 \n",
            "[21]\ttrain-error:0.035714\ttest-error:0.500000 \n",
            "[31]\ttrain-error:0.008929\ttest-error:0.500000 \n",
            "[41]\ttrain-error:0.000000\ttest-error:0.500000 \n",
            "[51]\ttrain-error:0.000000\ttest-error:0.500000 \n",
            "[61]\ttrain-error:0.000000\ttest-error:0.500000 \n",
            "[71]\ttrain-error:0.000000\ttest-error:0.500000 \n",
            "[81]\ttrain-error:0.000000\ttest-error:0.500000 \n",
            "[91]\ttrain-error:0.000000\ttest-error:0.500000 \n",
            "[101]\ttrain-error:0.000000\ttest-error:0.500000 \n",
            "Stopping. Best iteration:\n",
            "[2]\ttrain-error:0.142857\ttest-error:0.000000\n",
            "\n"
          ]
        },
        {
          "output_type": "display_data",
          "data": {
            "text/plain": [
              "\n",
              "Call:\n",
              "lm_robust(formula = mh_scale ~ age, data = data.intake, weights = ipw, \n",
              "    alpha = 0.1)\n",
              "\n",
              "Weighted, Standard error type:  HC2 \n",
              "\n",
              "Coefficients:\n",
              "            Estimate Std. Error t value  Pr(>|t|) CI Lower CI Upper  DF\n",
              "(Intercept)  0.90589     0.0900 10.0652 2.321e-17   0.7566  1.05516 112\n",
              "age         -0.09956     0.1193 -0.8349 4.056e-01  -0.2973  0.09823 112\n",
              "\n",
              "Multiple R-squared:  0.006271 ,\tAdjusted R-squared:  -0.002602 \n",
              "F-statistic: 0.697 on 1 and 112 DF,  p-value: 0.4056"
            ]
          },
          "metadata": {}
        }
      ]
    },
    {
      "cell_type": "markdown",
      "source": [
        "edu_i.count"
      ],
      "metadata": {
        "id": "ch_AG7X03Ysp"
      }
    },
    {
      "cell_type": "code",
      "source": [
        "set.seed(2024)\n",
        "data.intake <- read.csv('asian.csv')\n",
        "rownames(data.intake) <- data.intake$record_id\n",
        "data.intake$record_id <- NULL\n",
        "data.intake <- data.intake %>%\n",
        "  mutate(edu.i_count = ifelse(edu.i_count <= 2, 1, 0))\n",
        "\n",
        "col_names <- colnames(data.intake)\n",
        "if (\"edu.i_count\" %in% col_names){\n",
        "  new_col_order <- c(\"edu.i_count\", col_names[col_names != \"edu.i_count\"])\n",
        "  data.intake <- data.intake[, new_col_order]}\n",
        "\n",
        "n <- nrow(data.intake)\n",
        "train_rows <- sample(1:n, 0.99 * n, replace = F)\n",
        "train.intake <- xgb.DMatrix(data.matrix(data.intake[train_rows, -1]),\n",
        "                            label = data.intake[train_rows, 1])\n",
        "test.intake <- xgb.DMatrix(data.matrix(data.intake[-train_rows, -1]),\n",
        "                            label = data.intake[-train_rows, 1])\n",
        "\n",
        "params <- list(\n",
        "  objective = \"binary:logistic\",\n",
        "  learning_rate = 0.05,\n",
        "  subsample = 0.9,\n",
        "  colsample_bynode = 1,\n",
        "  max_depth = 10,\n",
        "  scale_pos_weight = 1\n",
        ")\n",
        "\n",
        "fit_xgb <- xgb.train(\n",
        "  params,\n",
        "  data = train.intake,\n",
        "  watchlist = list(train = train.intake, test = test.intake),\n",
        "  eval.metric = \"error\",\n",
        "  early_stopping_rounds = 100,\n",
        "  print_every_n = 10,\n",
        "  nrounds = 10000\n",
        ")\n",
        "\n",
        "pred <- predict(fit_xgb, train.intake)\n",
        "dif <- dim(data.intake)[1] - length(pred)\n",
        "\n",
        "for (x in 1:dif) {\n",
        "  pred <- c(pred, mean(pred))\n",
        "}\n",
        "\n",
        "ipw <- ifelse(data.intake$edu.i_count==1, 1/pred, 1/(1-pred))\n",
        "model <- lm_robust(mh_scale ~ edu.i_count, data=data.intake, weights=ipw, alpha=0.1)\n",
        "summary(model)"
      ],
      "metadata": {
        "colab": {
          "base_uri": "https://localhost:8080/",
          "height": 571
        },
        "outputId": "46f76ec9-d1a2-4207-ff40-2ccdc10f5dba",
        "id": "g7NpBv1a3Ysp"
      },
      "execution_count": 101,
      "outputs": [
        {
          "output_type": "stream",
          "name": "stdout",
          "text": [
            "[1]\ttrain-error:0.142857\ttest-error:0.000000 \n",
            "Multiple eval metrics are present. Will use test_error for early stopping.\n",
            "Will train until test_error hasn't improved in 100 rounds.\n",
            "\n",
            "[11]\ttrain-error:0.035714\ttest-error:0.000000 \n",
            "[21]\ttrain-error:0.026786\ttest-error:0.000000 \n",
            "[31]\ttrain-error:0.017857\ttest-error:0.000000 \n",
            "[41]\ttrain-error:0.008929\ttest-error:0.000000 \n",
            "[51]\ttrain-error:0.000000\ttest-error:0.000000 \n",
            "[61]\ttrain-error:0.000000\ttest-error:0.000000 \n",
            "[71]\ttrain-error:0.000000\ttest-error:0.000000 \n",
            "[81]\ttrain-error:0.000000\ttest-error:0.000000 \n",
            "[91]\ttrain-error:0.000000\ttest-error:0.000000 \n",
            "[101]\ttrain-error:0.000000\ttest-error:0.000000 \n",
            "Stopping. Best iteration:\n",
            "[1]\ttrain-error:0.142857\ttest-error:0.000000\n",
            "\n"
          ]
        },
        {
          "output_type": "display_data",
          "data": {
            "text/plain": [
              "\n",
              "Call:\n",
              "lm_robust(formula = mh_scale ~ edu.i_count, data = data.intake, \n",
              "    weights = ipw, alpha = 0.1)\n",
              "\n",
              "Weighted, Standard error type:  HC2 \n",
              "\n",
              "Coefficients:\n",
              "            Estimate Std. Error t value  Pr(>|t|) CI Lower CI Upper  DF\n",
              "(Intercept)   0.7573    0.08923   8.488 9.895e-14  0.60935   0.9053 112\n",
              "edu.i_count   0.1514    0.11822   1.281 2.030e-01 -0.04469   0.3475 112\n",
              "\n",
              "Multiple R-squared:  0.0138 ,\tAdjusted R-squared:  0.005 \n",
              "F-statistic:  1.64 on 1 and 112 DF,  p-value: 0.203"
            ]
          },
          "metadata": {}
        }
      ]
    },
    {
      "cell_type": "markdown",
      "source": [
        "# RACE OTHER"
      ],
      "metadata": {
        "id": "McoU2h443nDu"
      }
    },
    {
      "cell_type": "markdown",
      "source": [
        "GPA"
      ],
      "metadata": {
        "id": "VgEcWVG-3Z0l"
      }
    },
    {
      "cell_type": "code",
      "source": [
        "set.seed(2024)\n",
        "data.intake <- read.csv('race_other.csv')\n",
        "rownames(data.intake) <- data.intake$record_id\n",
        "data.intake$record_id <- NULL\n",
        "\n",
        "col_names <- colnames(data.intake)\n",
        "if (\"gpa_thresh3_0\" %in% col_names){\n",
        "  new_col_order <- c(\"gpa_thresh3_0\", col_names[col_names != \"gpa_thresh3_0\"])\n",
        "  data.intake <- data.intake[, new_col_order]}\n",
        "\n",
        "n <- nrow(data.intake)\n",
        "train_rows <- sample(1:n, 0.99 * n, replace = F)\n",
        "train.intake <- xgb.DMatrix(data.matrix(data.intake[train_rows, -1]),\n",
        "                            label = data.intake[train_rows, 1])\n",
        "test.intake <- xgb.DMatrix(data.matrix(data.intake[-train_rows, -1]),\n",
        "                            label = data.intake[-train_rows, 1])\n",
        "\n",
        "params <- list(\n",
        "  objective = \"binary:logistic\",\n",
        "  learning_rate = 0.05,\n",
        "  subsample = 0.9,\n",
        "  colsample_bynode = 1,\n",
        "  max_depth = 10,\n",
        "  scale_pos_weight = 1\n",
        ")\n",
        "\n",
        "fit_xgb <- xgb.train(\n",
        "  params,\n",
        "  data = train.intake,\n",
        "  watchlist = list(train = train.intake, test = test.intake),\n",
        "  eval.metric = \"error\",\n",
        "  early_stopping_rounds = 100,\n",
        "  print_every_n = 10,\n",
        "  nrounds = 10000\n",
        ")\n",
        "\n",
        "pred <- predict(fit_xgb, train.intake)\n",
        "dif <- dim(data.intake)[1] - length(pred)\n",
        "\n",
        "for (x in 1:dif) {\n",
        "  pred <- c(pred, mean(pred))\n",
        "}\n",
        "\n",
        "ipw <- ifelse(data.intake$gpa_thresh3_0==1, 1/pred, 1/(1-pred))\n",
        "model <- lm_robust(mh_scale ~ gpa_thresh3_0, data=data.intake, weights=ipw, alpha=0.1)\n",
        "summary(model)"
      ],
      "metadata": {
        "colab": {
          "base_uri": "https://localhost:8080/",
          "height": 571
        },
        "outputId": "4858644d-95ab-45a8-8f3d-60e08cb5b970",
        "id": "Z-9mvS3_3Z0m"
      },
      "execution_count": 102,
      "outputs": [
        {
          "output_type": "stream",
          "name": "stdout",
          "text": [
            "[1]\ttrain-error:0.150943\ttest-error:1.000000 \n",
            "Multiple eval metrics are present. Will use test_error for early stopping.\n",
            "Will train until test_error hasn't improved in 100 rounds.\n",
            "\n",
            "[11]\ttrain-error:0.150943\ttest-error:1.000000 \n",
            "[21]\ttrain-error:0.113208\ttest-error:0.000000 \n",
            "[31]\ttrain-error:0.094340\ttest-error:0.000000 \n",
            "[41]\ttrain-error:0.037736\ttest-error:0.000000 \n",
            "[51]\ttrain-error:0.018868\ttest-error:0.000000 \n",
            "[61]\ttrain-error:0.018868\ttest-error:0.000000 \n",
            "[71]\ttrain-error:0.018868\ttest-error:0.000000 \n",
            "[81]\ttrain-error:0.000000\ttest-error:1.000000 \n",
            "[91]\ttrain-error:0.000000\ttest-error:1.000000 \n",
            "[101]\ttrain-error:0.000000\ttest-error:1.000000 \n",
            "Stopping. Best iteration:\n",
            "[7]\ttrain-error:0.132075\ttest-error:0.000000\n",
            "\n"
          ]
        },
        {
          "output_type": "display_data",
          "data": {
            "text/plain": [
              "\n",
              "Call:\n",
              "lm_robust(formula = mh_scale ~ gpa_thresh3_0, data = data.intake, \n",
              "    weights = ipw, alpha = 0.1)\n",
              "\n",
              "Weighted, Standard error type:  HC2 \n",
              "\n",
              "Coefficients:\n",
              "              Estimate Std. Error t value  Pr(>|t|) CI Lower CI Upper DF\n",
              "(Intercept)    0.82820    0.09776  8.4715 2.307e-11   0.6645   0.9919 52\n",
              "gpa_thresh3_0  0.05455    0.25288  0.2157 8.301e-01  -0.3690   0.4780 52\n",
              "\n",
              "Multiple R-squared:  0.001247 ,\tAdjusted R-squared:  -0.01796 \n",
              "F-statistic: 0.04652 on 1 and 52 DF,  p-value: 0.8301"
            ]
          },
          "metadata": {}
        }
      ]
    },
    {
      "cell_type": "markdown",
      "source": [
        "PTSD"
      ],
      "metadata": {
        "id": "piiq5J_C3Z0n"
      }
    },
    {
      "cell_type": "code",
      "source": [
        "set.seed(2024)\n",
        "data.intake <- read.csv('race_other.csv')\n",
        "rownames(data.intake) <- data.intake$record_id\n",
        "data.intake$record_id <- NULL\n",
        "data.intake <- data.intake %>%\n",
        "  mutate(ptsd_score = ifelse(ptsd_score >= 33, 1, 0))\n",
        "\n",
        "col_names <- colnames(data.intake)\n",
        "if (\"ptsd_score\" %in% col_names){\n",
        "  new_col_order <- c(\"ptsd_score\", col_names[col_names != \"ptsd_score\"])\n",
        "  data.intake <- data.intake[, new_col_order]}\n",
        "\n",
        "n <- nrow(data.intake)\n",
        "train_rows <- sample(1:n, 0.99 * n, replace = F)\n",
        "train.intake <- xgb.DMatrix(data.matrix(data.intake[train_rows, -1]),\n",
        "                            label = data.intake[train_rows, 1])\n",
        "test.intake <- xgb.DMatrix(data.matrix(data.intake[-train_rows, -1]),\n",
        "                            label = data.intake[-train_rows, 1])\n",
        "\n",
        "params <- list(\n",
        "  objective = \"binary:logistic\",\n",
        "  learning_rate = 0.05,\n",
        "  subsample = 0.9,\n",
        "  colsample_bynode = 1,\n",
        "  max_depth = 10,\n",
        "  scale_pos_weight = 1\n",
        ")\n",
        "\n",
        "fit_xgb <- xgb.train(\n",
        "  params,\n",
        "  data = train.intake,\n",
        "  watchlist = list(train = train.intake, test = test.intake),\n",
        "  eval.metric = \"error\",\n",
        "  early_stopping_rounds = 100,\n",
        "  print_every_n = 10,\n",
        "  nrounds = 10000\n",
        ")\n",
        "\n",
        "pred <- predict(fit_xgb, train.intake)\n",
        "dif <- dim(data.intake)[1] - length(pred)\n",
        "\n",
        "for (x in 1:dif) {\n",
        "  pred <- c(pred, mean(pred))\n",
        "}\n",
        "\n",
        "ipw <- ifelse(data.intake$ptsd_score==1, 1/pred, 1/(1-pred))\n",
        "model <- lm_robust(mh_scale ~ ptsd_score, data=data.intake, weights=ipw, alpha=0.1)\n",
        "summary(model)"
      ],
      "metadata": {
        "colab": {
          "base_uri": "https://localhost:8080/",
          "height": 571
        },
        "outputId": "73eee63f-57d7-4f34-8e0a-dc9eded19475",
        "id": "UYyzZlLk3Z0n"
      },
      "execution_count": 103,
      "outputs": [
        {
          "output_type": "stream",
          "name": "stdout",
          "text": [
            "[1]\ttrain-error:0.094340\ttest-error:0.000000 \n",
            "Multiple eval metrics are present. Will use test_error for early stopping.\n",
            "Will train until test_error hasn't improved in 100 rounds.\n",
            "\n",
            "[11]\ttrain-error:0.018868\ttest-error:1.000000 \n",
            "[21]\ttrain-error:0.018868\ttest-error:1.000000 \n",
            "[31]\ttrain-error:0.000000\ttest-error:1.000000 \n",
            "[41]\ttrain-error:0.000000\ttest-error:1.000000 \n",
            "[51]\ttrain-error:0.000000\ttest-error:1.000000 \n",
            "[61]\ttrain-error:0.000000\ttest-error:1.000000 \n",
            "[71]\ttrain-error:0.000000\ttest-error:1.000000 \n",
            "[81]\ttrain-error:0.000000\ttest-error:1.000000 \n",
            "[91]\ttrain-error:0.000000\ttest-error:1.000000 \n",
            "[101]\ttrain-error:0.000000\ttest-error:1.000000 \n",
            "Stopping. Best iteration:\n",
            "[1]\ttrain-error:0.094340\ttest-error:0.000000\n",
            "\n"
          ]
        },
        {
          "output_type": "display_data",
          "data": {
            "text/plain": [
              "\n",
              "Call:\n",
              "lm_robust(formula = mh_scale ~ ptsd_score, data = data.intake, \n",
              "    weights = ipw, alpha = 0.1)\n",
              "\n",
              "Weighted, Standard error type:  HC2 \n",
              "\n",
              "Coefficients:\n",
              "            Estimate Std. Error t value  Pr(>|t|) CI Lower CI Upper DF\n",
              "(Intercept)   0.5190     0.0755   6.874 7.874e-09   0.3925   0.6454 52\n",
              "ptsd_score    0.9432     0.1372   6.875 7.842e-09   0.7134   1.1729 52\n",
              "\n",
              "Multiple R-squared:  0.4914 ,\tAdjusted R-squared:  0.4816 \n",
              "F-statistic: 47.26 on 1 and 52 DF,  p-value: 7.842e-09"
            ]
          },
          "metadata": {}
        }
      ]
    },
    {
      "cell_type": "markdown",
      "source": [
        "Age"
      ],
      "metadata": {
        "id": "rqkZks5V3Z0n"
      }
    },
    {
      "cell_type": "code",
      "source": [
        "set.seed(2024)\n",
        "data.intake <- read.csv('race_other.csv')\n",
        "rownames(data.intake) <- data.intake$record_id\n",
        "data.intake$record_id <- NULL\n",
        "data.intake <- data.intake %>%\n",
        "  mutate(age = ifelse(age < 21, 1, 0))\n",
        "\n",
        "col_names <- colnames(data.intake)\n",
        "if (\"age\" %in% col_names){\n",
        "  new_col_order <- c(\"age\", col_names[col_names != \"age\"])\n",
        "  data.intake <- data.intake[, new_col_order]}\n",
        "\n",
        "n <- nrow(data.intake)\n",
        "train_rows <- sample(1:n, 0.99 * n, replace = F)\n",
        "train.intake <- xgb.DMatrix(data.matrix(data.intake[train_rows, -1]),\n",
        "                            label = data.intake[train_rows, 1])\n",
        "test.intake <- xgb.DMatrix(data.matrix(data.intake[-train_rows, -1]),\n",
        "                            label = data.intake[-train_rows, 1])\n",
        "\n",
        "params <- list(\n",
        "  objective = \"binary:logistic\",\n",
        "  learning_rate = 0.05,\n",
        "  subsample = 0.9,\n",
        "  colsample_bynode = 1,\n",
        "  max_depth = 10,\n",
        "  scale_pos_weight = 1\n",
        ")\n",
        "\n",
        "fit_xgb <- xgb.train(\n",
        "  params,\n",
        "  data = train.intake,\n",
        "  watchlist = list(train = train.intake, test = test.intake),\n",
        "  eval.metric = \"error\",\n",
        "  early_stopping_rounds = 100,\n",
        "  print_every_n = 10,\n",
        "  nrounds = 10000\n",
        ")\n",
        "\n",
        "pred <- predict(fit_xgb, train.intake)\n",
        "dif <- dim(data.intake)[1] - length(pred)\n",
        "\n",
        "for (x in 1:dif) {\n",
        "  pred <- c(pred, mean(pred))\n",
        "}\n",
        "\n",
        "ipw <- ifelse(data.intake$age==1, 1/pred, 1/(1-pred))\n",
        "model <- lm_robust(mh_scale ~ age, data=data.intake, weights=ipw, alpha=0.1)\n",
        "summary(model)"
      ],
      "metadata": {
        "colab": {
          "base_uri": "https://localhost:8080/",
          "height": 571
        },
        "outputId": "a5ccca5a-4cfb-44e6-e4c5-92ee635cbcb6",
        "id": "AIYQ-5E83Z0o"
      },
      "execution_count": 104,
      "outputs": [
        {
          "output_type": "stream",
          "name": "stdout",
          "text": [
            "[1]\ttrain-error:0.150943\ttest-error:0.000000 \n",
            "Multiple eval metrics are present. Will use test_error for early stopping.\n",
            "Will train until test_error hasn't improved in 100 rounds.\n",
            "\n",
            "[11]\ttrain-error:0.037736\ttest-error:0.000000 \n",
            "[21]\ttrain-error:0.000000\ttest-error:0.000000 \n",
            "[31]\ttrain-error:0.000000\ttest-error:0.000000 \n",
            "[41]\ttrain-error:0.000000\ttest-error:0.000000 \n",
            "[51]\ttrain-error:0.000000\ttest-error:0.000000 \n",
            "[61]\ttrain-error:0.000000\ttest-error:0.000000 \n",
            "[71]\ttrain-error:0.000000\ttest-error:0.000000 \n",
            "[81]\ttrain-error:0.000000\ttest-error:0.000000 \n",
            "[91]\ttrain-error:0.000000\ttest-error:0.000000 \n",
            "[101]\ttrain-error:0.000000\ttest-error:0.000000 \n",
            "Stopping. Best iteration:\n",
            "[1]\ttrain-error:0.150943\ttest-error:0.000000\n",
            "\n"
          ]
        },
        {
          "output_type": "display_data",
          "data": {
            "text/plain": [
              "\n",
              "Call:\n",
              "lm_robust(formula = mh_scale ~ age, data = data.intake, weights = ipw, \n",
              "    alpha = 0.1)\n",
              "\n",
              "Weighted, Standard error type:  HC2 \n",
              "\n",
              "Coefficients:\n",
              "            Estimate Std. Error t value  Pr(>|t|) CI Lower CI Upper DF\n",
              "(Intercept) 0.828656     0.1575 5.26259 2.731e-06   0.5650   1.0924 52\n",
              "age         0.007848     0.1871 0.04194 9.667e-01  -0.3056   0.3212 52\n",
              "\n",
              "Multiple R-squared:  3.707e-05 ,\tAdjusted R-squared:  -0.01919 \n",
              "F-statistic: 0.001759 on 1 and 52 DF,  p-value: 0.9667"
            ]
          },
          "metadata": {}
        }
      ]
    },
    {
      "cell_type": "markdown",
      "source": [
        "edu_i.count"
      ],
      "metadata": {
        "id": "xsQdo2aL3Z0o"
      }
    },
    {
      "cell_type": "code",
      "source": [
        "set.seed(2024)\n",
        "data.intake <- read.csv('race_other.csv')\n",
        "rownames(data.intake) <- data.intake$record_id\n",
        "data.intake$record_id <- NULL\n",
        "data.intake <- data.intake %>%\n",
        "  mutate(edu.i_count = ifelse(edu.i_count <= 2, 1, 0))\n",
        "\n",
        "col_names <- colnames(data.intake)\n",
        "if (\"edu.i_count\" %in% col_names){\n",
        "  new_col_order <- c(\"edu.i_count\", col_names[col_names != \"edu.i_count\"])\n",
        "  data.intake <- data.intake[, new_col_order]}\n",
        "\n",
        "n <- nrow(data.intake)\n",
        "train_rows <- sample(1:n, 0.99 * n, replace = F)\n",
        "train.intake <- xgb.DMatrix(data.matrix(data.intake[train_rows, -1]),\n",
        "                            label = data.intake[train_rows, 1])\n",
        "test.intake <- xgb.DMatrix(data.matrix(data.intake[-train_rows, -1]),\n",
        "                            label = data.intake[-train_rows, 1])\n",
        "\n",
        "params <- list(\n",
        "  objective = \"binary:logistic\",\n",
        "  learning_rate = 0.05,\n",
        "  subsample = 0.9,\n",
        "  colsample_bynode = 1,\n",
        "  max_depth = 10,\n",
        "  scale_pos_weight = 1\n",
        ")\n",
        "\n",
        "fit_xgb <- xgb.train(\n",
        "  params,\n",
        "  data = train.intake,\n",
        "  watchlist = list(train = train.intake, test = test.intake),\n",
        "  eval.metric = \"error\",\n",
        "  early_stopping_rounds = 100,\n",
        "  print_every_n = 10,\n",
        "  nrounds = 10000\n",
        ")\n",
        "\n",
        "pred <- predict(fit_xgb, train.intake)\n",
        "dif <- dim(data.intake)[1] - length(pred)\n",
        "\n",
        "for (x in 1:dif) {\n",
        "  pred <- c(pred, mean(pred))\n",
        "}\n",
        "\n",
        "ipw <- ifelse(data.intake$edu.i_count==1, 1/pred, 1/(1-pred))\n",
        "model <- lm_robust(mh_scale ~ edu.i_count, data=data.intake, weights=ipw, alpha=0.1)\n",
        "summary(model)"
      ],
      "metadata": {
        "colab": {
          "base_uri": "https://localhost:8080/",
          "height": 571
        },
        "outputId": "e08660a7-a3dc-47b6-e61b-b3ffed9ac571",
        "id": "qWcfYJ0D3Z0p"
      },
      "execution_count": 105,
      "outputs": [
        {
          "output_type": "stream",
          "name": "stdout",
          "text": [
            "[1]\ttrain-error:0.094340\ttest-error:0.000000 \n",
            "Multiple eval metrics are present. Will use test_error for early stopping.\n",
            "Will train until test_error hasn't improved in 100 rounds.\n",
            "\n",
            "[11]\ttrain-error:0.056604\ttest-error:0.000000 \n",
            "[21]\ttrain-error:0.018868\ttest-error:0.000000 \n",
            "[31]\ttrain-error:0.018868\ttest-error:0.000000 \n",
            "[41]\ttrain-error:0.000000\ttest-error:0.000000 \n",
            "[51]\ttrain-error:0.000000\ttest-error:0.000000 \n",
            "[61]\ttrain-error:0.000000\ttest-error:0.000000 \n",
            "[71]\ttrain-error:0.000000\ttest-error:0.000000 \n",
            "[81]\ttrain-error:0.000000\ttest-error:0.000000 \n",
            "[91]\ttrain-error:0.000000\ttest-error:0.000000 \n",
            "[101]\ttrain-error:0.000000\ttest-error:0.000000 \n",
            "Stopping. Best iteration:\n",
            "[1]\ttrain-error:0.094340\ttest-error:0.000000\n",
            "\n"
          ]
        },
        {
          "output_type": "display_data",
          "data": {
            "text/plain": [
              "\n",
              "Call:\n",
              "lm_robust(formula = mh_scale ~ edu.i_count, data = data.intake, \n",
              "    weights = ipw, alpha = 0.1)\n",
              "\n",
              "Weighted, Standard error type:  HC2 \n",
              "\n",
              "Coefficients:\n",
              "            Estimate Std. Error t value  Pr(>|t|) CI Lower CI Upper DF\n",
              "(Intercept)   0.7442     0.1123  6.6247 1.963e-08   0.5561   0.9324 52\n",
              "edu.i_count   0.1349     0.1672  0.8065 4.236e-01  -0.1452   0.4149 52\n",
              "\n",
              "Multiple R-squared:  0.0108 ,\tAdjusted R-squared:  -0.008221 \n",
              "F-statistic: 0.6505 on 1 and 52 DF,  p-value: 0.4236"
            ]
          },
          "metadata": {}
        }
      ]
    },
    {
      "cell_type": "markdown",
      "source": [
        "#TESTING GPA WITH GREATER THAN 3.0 = 1 INSTEAD OF 0"
      ],
      "metadata": {
        "id": "68PMt8-SfS9h"
      }
    },
    {
      "cell_type": "code",
      "source": [
        "install.packages('dplyr')\n",
        "install.packages('estimatr')\n",
        "install.packages('xgboost')\n",
        "\n",
        "library(dplyr)\n",
        "library(estimatr)\n",
        "library(xgboost)"
      ],
      "metadata": {
        "colab": {
          "base_uri": "https://localhost:8080/"
        },
        "id": "eQiMuxkciGcQ",
        "outputId": "25bb13e9-cb22-48c8-e838-f8ce88a3dacf"
      },
      "execution_count": 3,
      "outputs": [
        {
          "output_type": "stream",
          "name": "stderr",
          "text": [
            "Installing package into ‘/usr/local/lib/R/site-library’\n",
            "(as ‘lib’ is unspecified)\n",
            "\n",
            "Installing package into ‘/usr/local/lib/R/site-library’\n",
            "(as ‘lib’ is unspecified)\n",
            "\n",
            "also installing the dependencies ‘Formula’, ‘Rcpp’, ‘RcppEigen’\n",
            "\n",
            "\n",
            "Installing package into ‘/usr/local/lib/R/site-library’\n",
            "(as ‘lib’ is unspecified)\n",
            "\n",
            "\n",
            "Attaching package: ‘dplyr’\n",
            "\n",
            "\n",
            "The following objects are masked from ‘package:stats’:\n",
            "\n",
            "    filter, lag\n",
            "\n",
            "\n",
            "The following objects are masked from ‘package:base’:\n",
            "\n",
            "    intersect, setdiff, setequal, union\n",
            "\n",
            "\n",
            "\n",
            "Attaching package: ‘xgboost’\n",
            "\n",
            "\n",
            "The following object is masked from ‘package:dplyr’:\n",
            "\n",
            "    slice\n",
            "\n",
            "\n"
          ]
        }
      ]
    },
    {
      "cell_type": "code",
      "source": [
        "set.seed(2024)\n",
        "data.intake <- read.csv('numeric_GPA3_0_first.csv')\n",
        "data.intake$gpa_thresh3_0 = 1 - data.intake$gpa_thresh3_0\n",
        "rownames(data.intake) <- data.intake$record_id\n",
        "data.intake$record_id <- NULL\n",
        "\n",
        "col_names <- colnames(data.intake)\n",
        "if (\"gpa_thresh3_0\" %in% col_names){\n",
        "  new_col_order <- c(\"gpa_thresh3_0\", col_names[col_names != \"gpa_thresh3_0\"])\n",
        "  data.intake <- data.intake[, new_col_order]}\n",
        "\n",
        "n <- nrow(data.intake)\n",
        "train_rows <- sample(1:n, 0.99 * n, replace = F)\n",
        "train.intake <- xgb.DMatrix(data.matrix(data.intake[train_rows, -1]),\n",
        "                            label = data.intake[train_rows, 1])\n",
        "test.intake <- xgb.DMatrix(data.matrix(data.intake[-train_rows, -1]),\n",
        "                            label = data.intake[-train_rows, 1])\n",
        "\n",
        "params <- list(\n",
        "  objective = \"binary:logistic\",\n",
        "  learning_rate = 0.05,\n",
        "  subsample = 0.9,\n",
        "  colsample_bynode = 1,\n",
        "  max_depth = 10,\n",
        "  scale_pos_weight = 1\n",
        ")\n",
        "\n",
        "fit_xgb <- xgb.train(\n",
        "  params,\n",
        "  data = train.intake,\n",
        "  watchlist = list(train = train.intake, test = test.intake),\n",
        "  eval.metric = \"error\",\n",
        "  early_stopping_rounds = 100,\n",
        "  print_every_n = 10,\n",
        "  nrounds = 10000\n",
        ")\n",
        "\n",
        "pred <- predict(fit_xgb, train.intake)\n",
        "dif <- dim(data.intake)[1] - length(pred)\n",
        "\n",
        "for (x in 1:dif) {\n",
        "  pred <- c(pred, mean(pred))\n",
        "}\n",
        "\n",
        "ipw <- ifelse(data.intake$gpa_thresh3_0==1, 1/pred, 1/(1-pred))\n",
        "model <- lm_robust(mh_scale ~ gpa_thresh3_0, data=data.intake, weights=ipw, alpha=0.1)\n",
        "summary(model)"
      ],
      "metadata": {
        "colab": {
          "base_uri": "https://localhost:8080/",
          "height": 571
        },
        "id": "bNoAnsuu388a",
        "outputId": "c62944b8-1ad3-403f-824e-e70cfeb8e9b1"
      },
      "execution_count": 7,
      "outputs": [
        {
          "output_type": "stream",
          "name": "stdout",
          "text": [
            "[1]\ttrain-error:0.133562\ttest-error:0.333333 \n",
            "Multiple eval metrics are present. Will use test_error for early stopping.\n",
            "Will train until test_error hasn't improved in 100 rounds.\n",
            "\n",
            "[11]\ttrain-error:0.061644\ttest-error:0.333333 \n",
            "[21]\ttrain-error:0.023973\ttest-error:0.333333 \n",
            "[31]\ttrain-error:0.013699\ttest-error:0.333333 \n",
            "[41]\ttrain-error:0.003425\ttest-error:0.333333 \n",
            "[51]\ttrain-error:0.000000\ttest-error:0.333333 \n",
            "[61]\ttrain-error:0.000000\ttest-error:0.333333 \n",
            "[71]\ttrain-error:0.000000\ttest-error:0.333333 \n",
            "[81]\ttrain-error:0.000000\ttest-error:0.333333 \n",
            "[91]\ttrain-error:0.000000\ttest-error:0.333333 \n",
            "[101]\ttrain-error:0.000000\ttest-error:0.333333 \n",
            "Stopping. Best iteration:\n",
            "[1]\ttrain-error:0.133562\ttest-error:0.333333\n",
            "\n"
          ]
        },
        {
          "output_type": "display_data",
          "data": {
            "text/plain": [
              "\n",
              "Call:\n",
              "lm_robust(formula = mh_scale ~ gpa_thresh3_0, data = data.intake, \n",
              "    weights = ipw, alpha = 0.1)\n",
              "\n",
              "Weighted, Standard error type:  HC2 \n",
              "\n",
              "Coefficients:\n",
              "              Estimate Std. Error t value  Pr(>|t|) CI Lower CI Upper  DF\n",
              "(Intercept)     0.6769    0.06827   9.915 3.589e-20 0.564276   0.7896 293\n",
              "gpa_thresh3_0   0.1377    0.07960   1.729 8.481e-02 0.006305   0.2690 293\n",
              "\n",
              "Multiple R-squared:  0.009545 ,\tAdjusted R-squared:  0.006165 \n",
              "F-statistic:  2.99 on 1 and 293 DF,  p-value: 0.08481"
            ]
          },
          "metadata": {}
        }
      ]
    },
    {
      "cell_type": "code",
      "source": [
        "set.seed(2024)\n",
        "data.intake <- read.csv('ages18_20.csv')\n",
        "data.intake$gpa_thresh3_0 = 1 - data.intake$gpa_thresh3_0\n",
        "rownames(data.intake) <- data.intake$record_id\n",
        "data.intake$record_id <- NULL\n",
        "\n",
        "col_names <- colnames(data.intake)\n",
        "if (\"gpa_thresh3_0\" %in% col_names){\n",
        "  new_col_order <- c(\"gpa_thresh3_0\", col_names[col_names != \"gpa_thresh3_0\"])\n",
        "  data.intake <- data.intake[, new_col_order]}\n",
        "\n",
        "n <- nrow(data.intake)\n",
        "train_rows <- sample(1:n, 0.99 * n, replace = F)\n",
        "train.intake <- xgb.DMatrix(data.matrix(data.intake[train_rows, -1]),\n",
        "                            label = data.intake[train_rows, 1])\n",
        "test.intake <- xgb.DMatrix(data.matrix(data.intake[-train_rows, -1]),\n",
        "                            label = data.intake[-train_rows, 1])\n",
        "\n",
        "params <- list(\n",
        "  objective = \"binary:logistic\",\n",
        "  learning_rate = 0.05,\n",
        "  subsample = 0.9,\n",
        "  colsample_bynode = 1,\n",
        "  max_depth = 10,\n",
        "  scale_pos_weight = 1\n",
        ")\n",
        "\n",
        "fit_xgb <- xgb.train(\n",
        "  params,\n",
        "  data = train.intake,\n",
        "  watchlist = list(train = train.intake, test = test.intake),\n",
        "  eval.metric = \"error\",\n",
        "  early_stopping_rounds = 100,\n",
        "  print_every_n = 10,\n",
        "  nrounds = 10000\n",
        ")\n",
        "\n",
        "pred <- predict(fit_xgb, train.intake)\n",
        "dif <- dim(data.intake)[1] - length(pred)\n",
        "\n",
        "for (x in 1:dif) {\n",
        "  pred <- c(pred, mean(pred))\n",
        "}\n",
        "\n",
        "ipw <- ifelse(data.intake$gpa_thresh3_0==1, 1/pred, 1/(1-pred))\n",
        "model <- lm_robust(mh_scale ~ gpa_thresh3_0, data=data.intake, weights=ipw, alpha=0.1)\n",
        "summary(model)"
      ],
      "metadata": {
        "colab": {
          "base_uri": "https://localhost:8080/",
          "height": 571
        },
        "id": "kFwC0q78h65e",
        "outputId": "bdb74bd7-fedb-4282-f5ce-5272bb5432bb"
      },
      "execution_count": 8,
      "outputs": [
        {
          "output_type": "stream",
          "name": "stdout",
          "text": [
            "[1]\ttrain-error:0.072727\ttest-error:0.000000 \n",
            "Multiple eval metrics are present. Will use test_error for early stopping.\n",
            "Will train until test_error hasn't improved in 100 rounds.\n",
            "\n",
            "[11]\ttrain-error:0.090909\ttest-error:0.000000 \n",
            "[21]\ttrain-error:0.072727\ttest-error:0.000000 \n",
            "[31]\ttrain-error:0.072727\ttest-error:0.000000 \n",
            "[41]\ttrain-error:0.054545\ttest-error:0.000000 \n",
            "[51]\ttrain-error:0.036364\ttest-error:0.000000 \n",
            "[61]\ttrain-error:0.036364\ttest-error:0.000000 \n",
            "[71]\ttrain-error:0.036364\ttest-error:0.000000 \n",
            "[81]\ttrain-error:0.018182\ttest-error:0.000000 \n",
            "[91]\ttrain-error:0.018182\ttest-error:0.000000 \n",
            "[101]\ttrain-error:0.018182\ttest-error:0.000000 \n",
            "Stopping. Best iteration:\n",
            "[1]\ttrain-error:0.072727\ttest-error:0.000000\n",
            "\n"
          ]
        },
        {
          "output_type": "display_data",
          "data": {
            "text/plain": [
              "\n",
              "Call:\n",
              "lm_robust(formula = mh_scale ~ gpa_thresh3_0, data = data.intake, \n",
              "    weights = ipw, alpha = 0.1)\n",
              "\n",
              "Weighted, Standard error type:  HC2 \n",
              "\n",
              "Coefficients:\n",
              "              Estimate Std. Error t value Pr(>|t|) CI Lower CI Upper DF\n",
              "(Intercept)     0.6166     0.2303   2.678 0.009804   0.2312    1.002 54\n",
              "gpa_thresh3_0   0.2728     0.2493   1.095 0.278583  -0.1443    0.690 54\n",
              "\n",
              "Multiple R-squared:  0.02219 ,\tAdjusted R-squared:  0.004079 \n",
              "F-statistic: 1.198 on 1 and 54 DF,  p-value: 0.2786"
            ]
          },
          "metadata": {}
        }
      ]
    },
    {
      "cell_type": "code",
      "source": [
        "set.seed(2024)\n",
        "data.intake <- read.csv('ages21_24.csv')\n",
        "data.intake$gpa_thresh3_0 = 1 - data.intake$gpa_thresh3_0\n",
        "rownames(data.intake) <- data.intake$record_id\n",
        "data.intake$record_id <- NULL\n",
        "\n",
        "col_names <- colnames(data.intake)\n",
        "if (\"gpa_thresh3_0\" %in% col_names){\n",
        "  new_col_order <- c(\"gpa_thresh3_0\", col_names[col_names != \"gpa_thresh3_0\"])\n",
        "  data.intake <- data.intake[, new_col_order]}\n",
        "\n",
        "n <- nrow(data.intake)\n",
        "train_rows <- sample(1:n, 0.99 * n, replace = F)\n",
        "train.intake <- xgb.DMatrix(data.matrix(data.intake[train_rows, -1]),\n",
        "                            label = data.intake[train_rows, 1])\n",
        "test.intake <- xgb.DMatrix(data.matrix(data.intake[-train_rows, -1]),\n",
        "                            label = data.intake[-train_rows, 1])\n",
        "\n",
        "params <- list(\n",
        "  objective = \"binary:logistic\",\n",
        "  learning_rate = 0.05,\n",
        "  subsample = 0.9,\n",
        "  colsample_bynode = 1,\n",
        "  max_depth = 10,\n",
        "  scale_pos_weight = 1\n",
        ")\n",
        "\n",
        "fit_xgb <- xgb.train(\n",
        "  params,\n",
        "  data = train.intake,\n",
        "  watchlist = list(train = train.intake, test = test.intake),\n",
        "  eval.metric = \"error\",\n",
        "  early_stopping_rounds = 100,\n",
        "  print_every_n = 10,\n",
        "  nrounds = 10000\n",
        ")\n",
        "\n",
        "pred <- predict(fit_xgb, train.intake)\n",
        "dif <- dim(data.intake)[1] - length(pred)\n",
        "\n",
        "for (x in 1:dif) {\n",
        "  pred <- c(pred, mean(pred))\n",
        "}\n",
        "\n",
        "ipw <- ifelse(data.intake$gpa_thresh3_0==1, 1/pred, 1/(1-pred))\n",
        "model <- lm_robust(mh_scale ~ gpa_thresh3_0, data=data.intake, weights=ipw, alpha=0.1)\n",
        "summary(model)"
      ],
      "metadata": {
        "colab": {
          "base_uri": "https://localhost:8080/",
          "height": 571
        },
        "id": "q3rGwJvHlMKh",
        "outputId": "735c8237-0a3e-4aa8-b94e-443b6f10b067"
      },
      "execution_count": 9,
      "outputs": [
        {
          "output_type": "stream",
          "name": "stdout",
          "text": [
            "[1]\ttrain-error:0.208791\ttest-error:1.000000 \n",
            "Multiple eval metrics are present. Will use test_error for early stopping.\n",
            "Will train until test_error hasn't improved in 100 rounds.\n",
            "\n",
            "[11]\ttrain-error:0.043956\ttest-error:0.000000 \n",
            "[21]\ttrain-error:0.032967\ttest-error:0.000000 \n",
            "[31]\ttrain-error:0.000000\ttest-error:0.000000 \n",
            "[41]\ttrain-error:0.000000\ttest-error:0.000000 \n",
            "[51]\ttrain-error:0.000000\ttest-error:0.000000 \n",
            "[61]\ttrain-error:0.000000\ttest-error:0.000000 \n",
            "[71]\ttrain-error:0.000000\ttest-error:0.000000 \n",
            "[81]\ttrain-error:0.000000\ttest-error:0.000000 \n",
            "[91]\ttrain-error:0.000000\ttest-error:0.000000 \n",
            "[101]\ttrain-error:0.000000\ttest-error:0.000000 \n",
            "Stopping. Best iteration:\n",
            "[3]\ttrain-error:0.120879\ttest-error:0.000000\n",
            "\n"
          ]
        },
        {
          "output_type": "display_data",
          "data": {
            "text/plain": [
              "\n",
              "Call:\n",
              "lm_robust(formula = mh_scale ~ gpa_thresh3_0, data = data.intake, \n",
              "    weights = ipw, alpha = 0.1)\n",
              "\n",
              "Weighted, Standard error type:  HC2 \n",
              "\n",
              "Coefficients:\n",
              "              Estimate Std. Error t value  Pr(>|t|) CI Lower CI Upper DF\n",
              "(Intercept)     0.5771    0.09595   6.014 3.820e-08   0.4176   0.7365 90\n",
              "gpa_thresh3_0   0.3751    0.12920   2.904 4.641e-03   0.1604   0.5899 90\n",
              "\n",
              "Multiple R-squared:  0.07633 ,\tAdjusted R-squared:  0.06607 \n",
              "F-statistic:  8.43 on 1 and 90 DF,  p-value: 0.004641"
            ]
          },
          "metadata": {}
        }
      ]
    },
    {
      "cell_type": "code",
      "source": [
        "set.seed(2024)\n",
        "data.intake <- read.csv('ages25_63.csv')\n",
        "data.intake$gpa_thresh3_0 = 1 - data.intake$gpa_thresh3_0\n",
        "rownames(data.intake) <- data.intake$record_id\n",
        "data.intake$record_id <- NULL\n",
        "\n",
        "col_names <- colnames(data.intake)\n",
        "if (\"gpa_thresh3_0\" %in% col_names){\n",
        "  new_col_order <- c(\"gpa_thresh3_0\", col_names[col_names != \"gpa_thresh3_0\"])\n",
        "  data.intake <- data.intake[, new_col_order]}\n",
        "\n",
        "n <- nrow(data.intake)\n",
        "train_rows <- sample(1:n, 0.99 * n, replace = F)\n",
        "train.intake <- xgb.DMatrix(data.matrix(data.intake[train_rows, -1]),\n",
        "                            label = data.intake[train_rows, 1])\n",
        "test.intake <- xgb.DMatrix(data.matrix(data.intake[-train_rows, -1]),\n",
        "                            label = data.intake[-train_rows, 1])\n",
        "\n",
        "params <- list(\n",
        "  objective = \"binary:logistic\",\n",
        "  learning_rate = 0.05,\n",
        "  subsample = 0.9,\n",
        "  colsample_bynode = 1,\n",
        "  max_depth = 10,\n",
        "  scale_pos_weight = 1\n",
        ")\n",
        "\n",
        "fit_xgb <- xgb.train(\n",
        "  params,\n",
        "  data = train.intake,\n",
        "  watchlist = list(train = train.intake, test = test.intake),\n",
        "  eval.metric = \"error\",\n",
        "  early_stopping_rounds = 100,\n",
        "  print_every_n = 10,\n",
        "  nrounds = 10000\n",
        ")\n",
        "\n",
        "pred <- predict(fit_xgb, train.intake)\n",
        "dif <- dim(data.intake)[1] - length(pred)\n",
        "\n",
        "for (x in 1:dif) {\n",
        "  pred <- c(pred, mean(pred))\n",
        "}\n",
        "\n",
        "ipw <- ifelse(data.intake$gpa_thresh3_0==1, 1/pred, 1/(1-pred))\n",
        "model <- lm_robust(mh_scale ~ gpa_thresh3_0, data=data.intake, weights=ipw, alpha=0.1)\n",
        "summary(model)"
      ],
      "metadata": {
        "colab": {
          "base_uri": "https://localhost:8080/",
          "height": 571
        },
        "id": "FkolK55RlOYC",
        "outputId": "0ea9d1da-5847-4206-ee54-ded1d1359ec7"
      },
      "execution_count": 18,
      "outputs": [
        {
          "output_type": "stream",
          "name": "stdout",
          "text": [
            "[1]\ttrain-error:0.114286\ttest-error:0.000000 \n",
            "Multiple eval metrics are present. Will use test_error for early stopping.\n",
            "Will train until test_error hasn't improved in 100 rounds.\n",
            "\n",
            "[11]\ttrain-error:0.085714\ttest-error:0.000000 \n",
            "[21]\ttrain-error:0.085714\ttest-error:0.000000 \n",
            "[31]\ttrain-error:0.085714\ttest-error:0.000000 \n",
            "[41]\ttrain-error:0.085714\ttest-error:0.000000 \n",
            "[51]\ttrain-error:0.085714\ttest-error:0.000000 \n",
            "[61]\ttrain-error:0.085714\ttest-error:0.000000 \n",
            "[71]\ttrain-error:0.028571\ttest-error:0.000000 \n",
            "[81]\ttrain-error:0.028571\ttest-error:0.000000 \n",
            "[91]\ttrain-error:0.000000\ttest-error:0.000000 \n",
            "[101]\ttrain-error:0.000000\ttest-error:0.000000 \n",
            "Stopping. Best iteration:\n",
            "[1]\ttrain-error:0.114286\ttest-error:0.000000\n",
            "\n"
          ]
        },
        {
          "output_type": "display_data",
          "data": {
            "text/plain": [
              "\n",
              "Call:\n",
              "lm_robust(formula = mh_scale ~ gpa_thresh3_0, data = data.intake, \n",
              "    weights = ipw, alpha = 0.1)\n",
              "\n",
              "Weighted, Standard error type:  HC2 \n",
              "\n",
              "Coefficients:\n",
              "              Estimate Std. Error t value  Pr(>|t|) CI Lower CI Upper DF\n",
              "(Intercept)     1.0670     0.2305   4.630 0.0000516   0.6773   1.4567 34\n",
              "gpa_thresh3_0  -0.3946     0.2450  -1.611 0.1164445  -0.8088   0.0196 34\n",
              "\n",
              "Multiple R-squared:  0.1078 ,\tAdjusted R-squared:  0.08153 \n",
              "F-statistic: 2.595 on 1 and 34 DF,  p-value: 0.1164"
            ]
          },
          "metadata": {}
        }
      ]
    },
    {
      "cell_type": "code",
      "source": [
        "set.seed(2024)\n",
        "data.intake <- read.csv('asian.csv')\n",
        "data.intake$gpa_thresh3_0 = 1 - data.intake$gpa_thresh3_0\n",
        "rownames(data.intake) <- data.intake$record_id\n",
        "data.intake$record_id <- NULL\n",
        "\n",
        "col_names <- colnames(data.intake)\n",
        "if (\"gpa_thresh3_0\" %in% col_names){\n",
        "  new_col_order <- c(\"gpa_thresh3_0\", col_names[col_names != \"gpa_thresh3_0\"])\n",
        "  data.intake <- data.intake[, new_col_order]}\n",
        "\n",
        "n <- nrow(data.intake)\n",
        "train_rows <- sample(1:n, 0.99 * n, replace = F)\n",
        "train.intake <- xgb.DMatrix(data.matrix(data.intake[train_rows, -1]),\n",
        "                            label = data.intake[train_rows, 1])\n",
        "test.intake <- xgb.DMatrix(data.matrix(data.intake[-train_rows, -1]),\n",
        "                            label = data.intake[-train_rows, 1])\n",
        "\n",
        "params <- list(\n",
        "  objective = \"binary:logistic\",\n",
        "  learning_rate = 0.05,\n",
        "  subsample = 0.9,\n",
        "  colsample_bynode = 1,\n",
        "  max_depth = 10,\n",
        "  scale_pos_weight = 1\n",
        ")\n",
        "\n",
        "fit_xgb <- xgb.train(\n",
        "  params,\n",
        "  data = train.intake,\n",
        "  watchlist = list(train = train.intake, test = test.intake),\n",
        "  eval.metric = \"error\",\n",
        "  early_stopping_rounds = 100,\n",
        "  print_every_n = 10,\n",
        "  nrounds = 10000\n",
        ")\n",
        "\n",
        "pred <- predict(fit_xgb, train.intake)\n",
        "dif <- dim(data.intake)[1] - length(pred)\n",
        "\n",
        "for (x in 1:dif) {\n",
        "  pred <- c(pred, mean(pred))\n",
        "}\n",
        "\n",
        "ipw <- ifelse(data.intake$gpa_thresh3_0==1, 1/pred, 1/(1-pred))\n",
        "model <- lm_robust(mh_scale ~ gpa_thresh3_0, data=data.intake, weights=ipw, alpha=0.1)\n",
        "summary(model)"
      ],
      "metadata": {
        "colab": {
          "base_uri": "https://localhost:8080/",
          "height": 589
        },
        "id": "jLN9RRNQlTdq",
        "outputId": "014fcaa2-120d-4c91-e45c-8f01812f54b6"
      },
      "execution_count": 19,
      "outputs": [
        {
          "output_type": "stream",
          "name": "stdout",
          "text": [
            "[1]\ttrain-error:0.196429\ttest-error:1.000000 \n",
            "Multiple eval metrics are present. Will use test_error for early stopping.\n",
            "Will train until test_error hasn't improved in 100 rounds.\n",
            "\n",
            "[11]\ttrain-error:0.080357\ttest-error:1.000000 \n",
            "[21]\ttrain-error:0.026786\ttest-error:0.500000 \n",
            "[31]\ttrain-error:0.008929\ttest-error:0.500000 \n",
            "[41]\ttrain-error:0.000000\ttest-error:0.500000 \n",
            "[51]\ttrain-error:0.000000\ttest-error:0.500000 \n",
            "[61]\ttrain-error:0.000000\ttest-error:0.500000 \n",
            "[71]\ttrain-error:0.000000\ttest-error:0.500000 \n",
            "[81]\ttrain-error:0.000000\ttest-error:0.500000 \n",
            "[91]\ttrain-error:0.000000\ttest-error:0.500000 \n",
            "[101]\ttrain-error:0.000000\ttest-error:0.500000 \n",
            "[111]\ttrain-error:0.000000\ttest-error:0.500000 \n",
            "Stopping. Best iteration:\n",
            "[13]\ttrain-error:0.044643\ttest-error:0.500000\n",
            "\n"
          ]
        },
        {
          "output_type": "display_data",
          "data": {
            "text/plain": [
              "\n",
              "Call:\n",
              "lm_robust(formula = mh_scale ~ gpa_thresh3_0, data = data.intake, \n",
              "    weights = ipw, alpha = 0.1)\n",
              "\n",
              "Weighted, Standard error type:  HC2 \n",
              "\n",
              "Coefficients:\n",
              "              Estimate Std. Error t value  Pr(>|t|) CI Lower CI Upper  DF\n",
              "(Intercept)     0.7031    0.09256   7.596 9.931e-12  0.54957   0.8566 112\n",
              "gpa_thresh3_0   0.2296    0.11797   1.946 5.418e-02  0.03389   0.4252 112\n",
              "\n",
              "Multiple R-squared:  0.03446 ,\tAdjusted R-squared:  0.02584 \n",
              "F-statistic: 3.786 on 1 and 112 DF,  p-value: 0.05418"
            ]
          },
          "metadata": {}
        }
      ]
    },
    {
      "cell_type": "code",
      "source": [
        "set.seed(2024)\n",
        "data.intake <- read.csv('white.csv')\n",
        "data.intake$gpa_thresh3_0 = 1 - data.intake$gpa_thresh3_0\n",
        "rownames(data.intake) <- data.intake$record_id\n",
        "data.intake$record_id <- NULL\n",
        "\n",
        "col_names <- colnames(data.intake)\n",
        "if (\"gpa_thresh3_0\" %in% col_names){\n",
        "  new_col_order <- c(\"gpa_thresh3_0\", col_names[col_names != \"gpa_thresh3_0\"])\n",
        "  data.intake <- data.intake[, new_col_order]}\n",
        "\n",
        "n <- nrow(data.intake)\n",
        "train_rows <- sample(1:n, 0.99 * n, replace = F)\n",
        "train.intake <- xgb.DMatrix(data.matrix(data.intake[train_rows, -1]),\n",
        "                            label = data.intake[train_rows, 1])\n",
        "test.intake <- xgb.DMatrix(data.matrix(data.intake[-train_rows, -1]),\n",
        "                            label = data.intake[-train_rows, 1])\n",
        "\n",
        "params <- list(\n",
        "  objective = \"binary:logistic\",\n",
        "  learning_rate = 0.05,\n",
        "  subsample = 0.9,\n",
        "  colsample_bynode = 1,\n",
        "  max_depth = 10,\n",
        "  scale_pos_weight = 1\n",
        ")\n",
        "\n",
        "fit_xgb <- xgb.train(\n",
        "  params,\n",
        "  data = train.intake,\n",
        "  watchlist = list(train = train.intake, test = test.intake),\n",
        "  eval.metric = \"error\",\n",
        "  early_stopping_rounds = 100,\n",
        "  print_every_n = 10,\n",
        "  nrounds = 10000\n",
        ")\n",
        "\n",
        "pred <- predict(fit_xgb, train.intake)\n",
        "dif <- dim(data.intake)[1] - length(pred)\n",
        "\n",
        "for (x in 1:dif) {\n",
        "  pred <- c(pred, mean(pred))\n",
        "}\n",
        "\n",
        "ipw <- ifelse(data.intake$gpa_thresh3_0==1, 1/pred, 1/(1-pred))\n",
        "model <- lm_robust(mh_scale ~ gpa_thresh3_0, data=data.intake, weights=ipw, alpha=0.1)\n",
        "summary(model)"
      ],
      "metadata": {
        "colab": {
          "base_uri": "https://localhost:8080/",
          "height": 571
        },
        "id": "SOL7lnD7lVvN",
        "outputId": "c46415ea-9821-4b30-e81a-b4a0e66d15f1"
      },
      "execution_count": 20,
      "outputs": [
        {
          "output_type": "stream",
          "name": "stdout",
          "text": [
            "[1]\ttrain-error:0.136000\ttest-error:0.000000 \n",
            "Multiple eval metrics are present. Will use test_error for early stopping.\n",
            "Will train until test_error hasn't improved in 100 rounds.\n",
            "\n",
            "[11]\ttrain-error:0.072000\ttest-error:0.000000 \n",
            "[21]\ttrain-error:0.072000\ttest-error:0.000000 \n",
            "[31]\ttrain-error:0.040000\ttest-error:0.000000 \n",
            "[41]\ttrain-error:0.016000\ttest-error:0.000000 \n",
            "[51]\ttrain-error:0.008000\ttest-error:0.000000 \n",
            "[61]\ttrain-error:0.000000\ttest-error:0.000000 \n",
            "[71]\ttrain-error:0.000000\ttest-error:0.000000 \n",
            "[81]\ttrain-error:0.000000\ttest-error:0.000000 \n",
            "[91]\ttrain-error:0.000000\ttest-error:0.000000 \n",
            "[101]\ttrain-error:0.000000\ttest-error:0.000000 \n",
            "Stopping. Best iteration:\n",
            "[1]\ttrain-error:0.136000\ttest-error:0.000000\n",
            "\n"
          ]
        },
        {
          "output_type": "display_data",
          "data": {
            "text/plain": [
              "\n",
              "Call:\n",
              "lm_robust(formula = mh_scale ~ gpa_thresh3_0, data = data.intake, \n",
              "    weights = ipw, alpha = 0.1)\n",
              "\n",
              "Weighted, Standard error type:  HC2 \n",
              "\n",
              "Coefficients:\n",
              "              Estimate Std. Error t value  Pr(>|t|) CI Lower CI Upper  DF\n",
              "(Intercept)     0.5584     0.1060   5.267 5.877e-07  0.38267   0.7341 125\n",
              "gpa_thresh3_0   0.1679     0.1196   1.404 1.629e-01 -0.03032   0.3661 125\n",
              "\n",
              "Multiple R-squared:  0.01252 ,\tAdjusted R-squared:  0.004617 \n",
              "F-statistic:  1.97 on 1 and 125 DF,  p-value: 0.1629"
            ]
          },
          "metadata": {}
        }
      ]
    },
    {
      "cell_type": "code",
      "source": [
        "set.seed(2024)\n",
        "data.intake <- read.csv('race_other.csv')\n",
        "data.intake$gpa_thresh3_0 = 1 - data.intake$gpa_thresh3_0\n",
        "rownames(data.intake) <- data.intake$record_id\n",
        "data.intake$record_id <- NULL\n",
        "\n",
        "col_names <- colnames(data.intake)\n",
        "if (\"gpa_thresh3_0\" %in% col_names){\n",
        "  new_col_order <- c(\"gpa_thresh3_0\", col_names[col_names != \"gpa_thresh3_0\"])\n",
        "  data.intake <- data.intake[, new_col_order]}\n",
        "\n",
        "n <- nrow(data.intake)\n",
        "train_rows <- sample(1:n, 0.99 * n, replace = F)\n",
        "train.intake <- xgb.DMatrix(data.matrix(data.intake[train_rows, -1]),\n",
        "                            label = data.intake[train_rows, 1])\n",
        "test.intake <- xgb.DMatrix(data.matrix(data.intake[-train_rows, -1]),\n",
        "                            label = data.intake[-train_rows, 1])\n",
        "\n",
        "params <- list(\n",
        "  objective = \"binary:logistic\",\n",
        "  learning_rate = 0.05,\n",
        "  subsample = 0.9,\n",
        "  colsample_bynode = 1,\n",
        "  max_depth = 10,\n",
        "  scale_pos_weight = 1\n",
        ")\n",
        "\n",
        "fit_xgb <- xgb.train(\n",
        "  params,\n",
        "  data = train.intake,\n",
        "  watchlist = list(train = train.intake, test = test.intake),\n",
        "  eval.metric = \"error\",\n",
        "  early_stopping_rounds = 100,\n",
        "  print_every_n = 10,\n",
        "  nrounds = 10000\n",
        ")\n",
        "\n",
        "pred <- predict(fit_xgb, train.intake)\n",
        "dif <- dim(data.intake)[1] - length(pred)\n",
        "\n",
        "for (x in 1:dif) {\n",
        "  pred <- c(pred, mean(pred))\n",
        "}\n",
        "\n",
        "ipw <- ifelse(data.intake$gpa_thresh3_0==1, 1/pred, 1/(1-pred))\n",
        "model <- lm_robust(mh_scale ~ gpa_thresh3_0, data=data.intake, weights=ipw, alpha=0.1)\n",
        "summary(model)"
      ],
      "metadata": {
        "colab": {
          "base_uri": "https://localhost:8080/",
          "height": 571
        },
        "id": "LNrhy3j9lXc8",
        "outputId": "885778c6-b54a-4fc2-fda6-ad4802e4a7e8"
      },
      "execution_count": 21,
      "outputs": [
        {
          "output_type": "stream",
          "name": "stdout",
          "text": [
            "[1]\ttrain-error:0.169811\ttest-error:1.000000 \n",
            "Multiple eval metrics are present. Will use test_error for early stopping.\n",
            "Will train until test_error hasn't improved in 100 rounds.\n",
            "\n",
            "[11]\ttrain-error:0.150943\ttest-error:1.000000 \n",
            "[21]\ttrain-error:0.113208\ttest-error:0.000000 \n",
            "[31]\ttrain-error:0.094340\ttest-error:0.000000 \n",
            "[41]\ttrain-error:0.037736\ttest-error:0.000000 \n",
            "[51]\ttrain-error:0.018868\ttest-error:0.000000 \n",
            "[61]\ttrain-error:0.018868\ttest-error:0.000000 \n",
            "[71]\ttrain-error:0.018868\ttest-error:0.000000 \n",
            "[81]\ttrain-error:0.000000\ttest-error:1.000000 \n",
            "[91]\ttrain-error:0.000000\ttest-error:1.000000 \n",
            "[101]\ttrain-error:0.000000\ttest-error:1.000000 \n",
            "Stopping. Best iteration:\n",
            "[7]\ttrain-error:0.132075\ttest-error:0.000000\n",
            "\n"
          ]
        },
        {
          "output_type": "display_data",
          "data": {
            "text/plain": [
              "\n",
              "Call:\n",
              "lm_robust(formula = mh_scale ~ gpa_thresh3_0, data = data.intake, \n",
              "    weights = ipw, alpha = 0.1)\n",
              "\n",
              "Weighted, Standard error type:  HC2 \n",
              "\n",
              "Coefficients:\n",
              "              Estimate Std. Error t value  Pr(>|t|) CI Lower CI Upper DF\n",
              "(Intercept)    0.88274     0.2332  3.7850 0.0003994   0.4922    1.273 52\n",
              "gpa_thresh3_0 -0.05455     0.2529 -0.2157 0.8300716  -0.4780    0.369 52\n",
              "\n",
              "Multiple R-squared:  0.001247 ,\tAdjusted R-squared:  -0.01796 \n",
              "F-statistic: 0.04652 on 1 and 52 DF,  p-value: 0.8301"
            ]
          },
          "metadata": {}
        }
      ]
    },
    {
      "cell_type": "code",
      "source": [
        "set.seed(2024)\n",
        "data.intake <- read.csv('gender_female.csv')\n",
        "data.intake$gpa_thresh3_0 = 1 - data.intake$gpa_thresh3_0\n",
        "rownames(data.intake) <- data.intake$record_id\n",
        "data.intake$record_id <- NULL\n",
        "\n",
        "col_names <- colnames(data.intake)\n",
        "if (\"gpa_thresh3_0\" %in% col_names){\n",
        "  new_col_order <- c(\"gpa_thresh3_0\", col_names[col_names != \"gpa_thresh3_0\"])\n",
        "  data.intake <- data.intake[, new_col_order]}\n",
        "\n",
        "n <- nrow(data.intake)\n",
        "train_rows <- sample(1:n, 0.99 * n, replace = F)\n",
        "train.intake <- xgb.DMatrix(data.matrix(data.intake[train_rows, -1]),\n",
        "                            label = data.intake[train_rows, 1])\n",
        "test.intake <- xgb.DMatrix(data.matrix(data.intake[-train_rows, -1]),\n",
        "                            label = data.intake[-train_rows, 1])\n",
        "\n",
        "params <- list(\n",
        "  objective = \"binary:logistic\",\n",
        "  learning_rate = 0.05,\n",
        "  subsample = 0.9,\n",
        "  colsample_bynode = 1,\n",
        "  max_depth = 10,\n",
        "  scale_pos_weight = 1\n",
        ")\n",
        "\n",
        "fit_xgb <- xgb.train(\n",
        "  params,\n",
        "  data = train.intake,\n",
        "  watchlist = list(train = train.intake, test = test.intake),\n",
        "  eval.metric = \"error\",\n",
        "  early_stopping_rounds = 100,\n",
        "  print_every_n = 10,\n",
        "  nrounds = 10000\n",
        ")\n",
        "\n",
        "pred <- predict(fit_xgb, train.intake)\n",
        "dif <- dim(data.intake)[1] - length(pred)\n",
        "\n",
        "for (x in 1:dif) {\n",
        "  pred <- c(pred, mean(pred))\n",
        "}\n",
        "\n",
        "ipw <- ifelse(data.intake$gpa_thresh3_0==1, 1/pred, 1/(1-pred))\n",
        "model <- lm_robust(mh_scale ~ gpa_thresh3_0, data=data.intake, weights=ipw, alpha=0.1)\n",
        "summary(model)"
      ],
      "metadata": {
        "colab": {
          "base_uri": "https://localhost:8080/",
          "height": 571
        },
        "id": "w4Glym8mlbaX",
        "outputId": "5c5334a8-8cbd-401d-b4d6-8544948a38d1"
      },
      "execution_count": 22,
      "outputs": [
        {
          "output_type": "stream",
          "name": "stdout",
          "text": [
            "[1]\ttrain-error:0.120536\ttest-error:1.000000 \n",
            "Multiple eval metrics are present. Will use test_error for early stopping.\n",
            "Will train until test_error hasn't improved in 100 rounds.\n",
            "\n",
            "[11]\ttrain-error:0.040179\ttest-error:1.000000 \n",
            "[21]\ttrain-error:0.026786\ttest-error:1.000000 \n",
            "[31]\ttrain-error:0.008929\ttest-error:1.000000 \n",
            "[41]\ttrain-error:0.004464\ttest-error:1.000000 \n",
            "[51]\ttrain-error:0.004464\ttest-error:1.000000 \n",
            "[61]\ttrain-error:0.000000\ttest-error:1.000000 \n",
            "[71]\ttrain-error:0.000000\ttest-error:1.000000 \n",
            "[81]\ttrain-error:0.000000\ttest-error:1.000000 \n",
            "[91]\ttrain-error:0.000000\ttest-error:1.000000 \n",
            "[101]\ttrain-error:0.000000\ttest-error:1.000000 \n",
            "Stopping. Best iteration:\n",
            "[1]\ttrain-error:0.120536\ttest-error:1.000000\n",
            "\n"
          ]
        },
        {
          "output_type": "display_data",
          "data": {
            "text/plain": [
              "\n",
              "Call:\n",
              "lm_robust(formula = mh_scale ~ gpa_thresh3_0, data = data.intake, \n",
              "    weights = ipw, alpha = 0.1)\n",
              "\n",
              "Weighted, Standard error type:  HC2 \n",
              "\n",
              "Coefficients:\n",
              "              Estimate Std. Error t value  Pr(>|t|) CI Lower CI Upper  DF\n",
              "(Intercept)     0.6428    0.07627   8.428 4.206e-15  0.51682   0.7688 225\n",
              "gpa_thresh3_0   0.1896    0.08903   2.129 3.433e-02  0.04251   0.3366 225\n",
              "\n",
              "Multiple R-squared:  0.01854 ,\tAdjusted R-squared:  0.01418 \n",
              "F-statistic: 4.533 on 1 and 225 DF,  p-value: 0.03433"
            ]
          },
          "metadata": {}
        }
      ]
    },
    {
      "cell_type": "code",
      "source": [
        "set.seed(2024)\n",
        "data.intake <- read.csv('gender_male.csv')\n",
        "data.intake$gpa_thresh3_0 = 1 - data.intake$gpa_thresh3_0\n",
        "rownames(data.intake) <- data.intake$record_id\n",
        "data.intake$record_id <- NULL\n",
        "\n",
        "col_names <- colnames(data.intake)\n",
        "if (\"gpa_thresh3_0\" %in% col_names){\n",
        "  new_col_order <- c(\"gpa_thresh3_0\", col_names[col_names != \"gpa_thresh3_0\"])\n",
        "  data.intake <- data.intake[, new_col_order]}\n",
        "\n",
        "n <- nrow(data.intake)\n",
        "train_rows <- sample(1:n, 0.99 * n, replace = F)\n",
        "train.intake <- xgb.DMatrix(data.matrix(data.intake[train_rows, -1]),\n",
        "                            label = data.intake[train_rows, 1])\n",
        "test.intake <- xgb.DMatrix(data.matrix(data.intake[-train_rows, -1]),\n",
        "                            label = data.intake[-train_rows, 1])\n",
        "\n",
        "params <- list(\n",
        "  objective = \"binary:logistic\",\n",
        "  learning_rate = 0.05,\n",
        "  subsample = 0.9,\n",
        "  colsample_bynode = 1,\n",
        "  max_depth = 10,\n",
        "  scale_pos_weight = 1\n",
        ")\n",
        "\n",
        "fit_xgb <- xgb.train(\n",
        "  params,\n",
        "  data = train.intake,\n",
        "  watchlist = list(train = train.intake, test = test.intake),\n",
        "  eval.metric = \"error\",\n",
        "  early_stopping_rounds = 100,\n",
        "  print_every_n = 10,\n",
        "  nrounds = 10000\n",
        ")\n",
        "\n",
        "pred <- predict(fit_xgb, train.intake)\n",
        "dif <- dim(data.intake)[1] - length(pred)\n",
        "\n",
        "for (x in 1:dif) {\n",
        "  pred <- c(pred, mean(pred))\n",
        "}\n",
        "\n",
        "ipw <- ifelse(data.intake$gpa_thresh3_0==1, 1/pred, 1/(1-pred))\n",
        "model <- lm_robust(mh_scale ~ gpa_thresh3_0, data=data.intake, weights=ipw, alpha=0.1)\n",
        "summary(model)"
      ],
      "metadata": {
        "colab": {
          "base_uri": "https://localhost:8080/",
          "height": 571
        },
        "id": "Mm76HbXmld3K",
        "outputId": "adfaee2c-a427-480d-bbff-4e72b6ade89e"
      },
      "execution_count": 23,
      "outputs": [
        {
          "output_type": "stream",
          "name": "stdout",
          "text": [
            "[1]\ttrain-error:0.188679\ttest-error:0.000000 \n",
            "Multiple eval metrics are present. Will use test_error for early stopping.\n",
            "Will train until test_error hasn't improved in 100 rounds.\n",
            "\n",
            "[11]\ttrain-error:0.094340\ttest-error:0.000000 \n",
            "[21]\ttrain-error:0.075472\ttest-error:0.000000 \n",
            "[31]\ttrain-error:0.037736\ttest-error:0.000000 \n",
            "[41]\ttrain-error:0.000000\ttest-error:0.000000 \n",
            "[51]\ttrain-error:0.000000\ttest-error:0.000000 \n",
            "[61]\ttrain-error:0.000000\ttest-error:0.000000 \n",
            "[71]\ttrain-error:0.000000\ttest-error:0.000000 \n",
            "[81]\ttrain-error:0.000000\ttest-error:0.000000 \n",
            "[91]\ttrain-error:0.000000\ttest-error:0.000000 \n",
            "[101]\ttrain-error:0.000000\ttest-error:0.000000 \n",
            "Stopping. Best iteration:\n",
            "[1]\ttrain-error:0.188679\ttest-error:0.000000\n",
            "\n"
          ]
        },
        {
          "output_type": "display_data",
          "data": {
            "text/plain": [
              "\n",
              "Call:\n",
              "lm_robust(formula = mh_scale ~ gpa_thresh3_0, data = data.intake, \n",
              "    weights = ipw, alpha = 0.1)\n",
              "\n",
              "Weighted, Standard error type:  HC2 \n",
              "\n",
              "Coefficients:\n",
              "              Estimate Std. Error t value Pr(>|t|) CI Lower CI Upper DF\n",
              "(Intercept)    0.84838     0.1963   4.322  0.00007   0.5197   1.1771 52\n",
              "gpa_thresh3_0 -0.07611     0.2213  -0.344  0.73227  -0.4467   0.2945 52\n",
              "\n",
              "Multiple R-squared:  0.002269 ,\tAdjusted R-squared:  -0.01692 \n",
              "F-statistic: 0.1183 on 1 and 52 DF,  p-value: 0.7323"
            ]
          },
          "metadata": {}
        }
      ]
    },
    {
      "cell_type": "code",
      "source": [
        "set.seed(2024)\n",
        "data.intake <- read.csv('highptsd_score.csv')\n",
        "data.intake$gpa_thresh3_0 = 1 - data.intake$gpa_thresh3_0\n",
        "rownames(data.intake) <- data.intake$record_id\n",
        "data.intake$record_id <- NULL\n",
        "\n",
        "col_names <- colnames(data.intake)\n",
        "if (\"gpa_thresh3_0\" %in% col_names){\n",
        "  new_col_order <- c(\"gpa_thresh3_0\", col_names[col_names != \"gpa_thresh3_0\"])\n",
        "  data.intake <- data.intake[, new_col_order]}\n",
        "\n",
        "n <- nrow(data.intake)\n",
        "train_rows <- sample(1:n, 0.99 * n, replace = F)\n",
        "train.intake <- xgb.DMatrix(data.matrix(data.intake[train_rows, -1]),\n",
        "                            label = data.intake[train_rows, 1])\n",
        "test.intake <- xgb.DMatrix(data.matrix(data.intake[-train_rows, -1]),\n",
        "                            label = data.intake[-train_rows, 1])\n",
        "\n",
        "params <- list(\n",
        "  objective = \"binary:logistic\",\n",
        "  learning_rate = 0.05,\n",
        "  subsample = 0.9,\n",
        "  colsample_bynode = 1,\n",
        "  max_depth = 10,\n",
        "  scale_pos_weight = 1\n",
        ")\n",
        "\n",
        "fit_xgb <- xgb.train(\n",
        "  params,\n",
        "  data = train.intake,\n",
        "  watchlist = list(train = train.intake, test = test.intake),\n",
        "  eval.metric = \"error\",\n",
        "  early_stopping_rounds = 100,\n",
        "  print_every_n = 10,\n",
        "  nrounds = 10000\n",
        ")\n",
        "\n",
        "pred <- predict(fit_xgb, train.intake)\n",
        "dif <- dim(data.intake)[1] - length(pred)\n",
        "\n",
        "for (x in 1:dif) {\n",
        "  pred <- c(pred, mean(pred))\n",
        "}\n",
        "\n",
        "ipw <- ifelse(data.intake$gpa_thresh3_0==1, 1/pred, 1/(1-pred))\n",
        "model <- lm_robust(mh_scale ~ gpa_thresh3_0, data=data.intake, weights=ipw, alpha=0.1)\n",
        "summary(model)"
      ],
      "metadata": {
        "colab": {
          "base_uri": "https://localhost:8080/",
          "height": 571
        },
        "id": "HqvG5H-ylfs-",
        "outputId": "7302c569-94b8-4af1-b8fe-f4cc3c235e72"
      },
      "execution_count": 24,
      "outputs": [
        {
          "output_type": "stream",
          "name": "stdout",
          "text": [
            "[1]\ttrain-error:0.147727\ttest-error:1.000000 \n",
            "Multiple eval metrics are present. Will use test_error for early stopping.\n",
            "Will train until test_error hasn't improved in 100 rounds.\n",
            "\n",
            "[11]\ttrain-error:0.034091\ttest-error:0.000000 \n",
            "[21]\ttrain-error:0.045455\ttest-error:0.000000 \n",
            "[31]\ttrain-error:0.034091\ttest-error:0.000000 \n",
            "[41]\ttrain-error:0.022727\ttest-error:1.000000 \n",
            "[51]\ttrain-error:0.022727\ttest-error:1.000000 \n",
            "[61]\ttrain-error:0.011364\ttest-error:1.000000 \n",
            "[71]\ttrain-error:0.011364\ttest-error:1.000000 \n",
            "[81]\ttrain-error:0.011364\ttest-error:1.000000 \n",
            "[91]\ttrain-error:0.000000\ttest-error:1.000000 \n",
            "[101]\ttrain-error:0.000000\ttest-error:1.000000 \n",
            "Stopping. Best iteration:\n",
            "[2]\ttrain-error:0.090909\ttest-error:0.000000\n",
            "\n"
          ]
        },
        {
          "output_type": "display_data",
          "data": {
            "text/plain": [
              "\n",
              "Call:\n",
              "lm_robust(formula = mh_scale ~ gpa_thresh3_0, data = data.intake, \n",
              "    weights = ipw, alpha = 0.1)\n",
              "\n",
              "Weighted, Standard error type:  HC2 \n",
              "\n",
              "Coefficients:\n",
              "              Estimate Std. Error t value  Pr(>|t|) CI Lower CI Upper DF\n",
              "(Intercept)     1.2096     0.1051  11.510 3.589e-19  1.03486   1.3843 87\n",
              "gpa_thresh3_0   0.2476     0.1234   2.008 4.780e-02  0.04255   0.4527 87\n",
              "\n",
              "Multiple R-squared:  0.03716 ,\tAdjusted R-squared:  0.0261 \n",
              "F-statistic:  4.03 on 1 and 87 DF,  p-value: 0.0478"
            ]
          },
          "metadata": {}
        }
      ]
    },
    {
      "cell_type": "code",
      "source": [
        "set.seed(2024)\n",
        "data.intake <- read.csv('lowptsd_score.csv')\n",
        "data.intake$gpa_thresh3_0 = 1 - data.intake$gpa_thresh3_0\n",
        "rownames(data.intake) <- data.intake$record_id\n",
        "data.intake$record_id <- NULL\n",
        "\n",
        "col_names <- colnames(data.intake)\n",
        "if (\"gpa_thresh3_0\" %in% col_names){\n",
        "  new_col_order <- c(\"gpa_thresh3_0\", col_names[col_names != \"gpa_thresh3_0\"])\n",
        "  data.intake <- data.intake[, new_col_order]}\n",
        "\n",
        "n <- nrow(data.intake)\n",
        "train_rows <- sample(1:n, 0.99 * n, replace = F)\n",
        "train.intake <- xgb.DMatrix(data.matrix(data.intake[train_rows, -1]),\n",
        "                            label = data.intake[train_rows, 1])\n",
        "test.intake <- xgb.DMatrix(data.matrix(data.intake[-train_rows, -1]),\n",
        "                            label = data.intake[-train_rows, 1])\n",
        "\n",
        "params <- list(\n",
        "  objective = \"binary:logistic\",\n",
        "  learning_rate = 0.05,\n",
        "  subsample = 0.9,\n",
        "  colsample_bynode = 1,\n",
        "  max_depth = 10,\n",
        "  scale_pos_weight = 1\n",
        ")\n",
        "\n",
        "fit_xgb <- xgb.train(\n",
        "  params,\n",
        "  data = train.intake,\n",
        "  watchlist = list(train = train.intake, test = test.intake),\n",
        "  eval.metric = \"error\",\n",
        "  early_stopping_rounds = 100,\n",
        "  print_every_n = 10,\n",
        "  nrounds = 10000\n",
        ")\n",
        "\n",
        "pred <- predict(fit_xgb, train.intake)\n",
        "dif <- dim(data.intake)[1] - length(pred)\n",
        "\n",
        "for (x in 1:dif) {\n",
        "  pred <- c(pred, mean(pred))\n",
        "}\n",
        "\n",
        "ipw <- ifelse(data.intake$gpa_thresh3_0==1, 1/pred, 1/(1-pred))\n",
        "model <- lm_robust(mh_scale ~ gpa_thresh3_0, data=data.intake, weights=ipw, alpha=0.1)\n",
        "summary(model)"
      ],
      "metadata": {
        "colab": {
          "base_uri": "https://localhost:8080/",
          "height": 571
        },
        "id": "MSF1p148ljKU",
        "outputId": "a8f7ad4c-8a42-44c1-b0fe-b1e683c01e27"
      },
      "execution_count": 25,
      "outputs": [
        {
          "output_type": "stream",
          "name": "stdout",
          "text": [
            "[1]\ttrain-error:0.123153\ttest-error:0.000000 \n",
            "Multiple eval metrics are present. Will use test_error for early stopping.\n",
            "Will train until test_error hasn't improved in 100 rounds.\n",
            "\n",
            "[11]\ttrain-error:0.064039\ttest-error:0.333333 \n",
            "[21]\ttrain-error:0.039409\ttest-error:0.333333 \n",
            "[31]\ttrain-error:0.014778\ttest-error:0.000000 \n",
            "[41]\ttrain-error:0.014778\ttest-error:0.333333 \n",
            "[51]\ttrain-error:0.009852\ttest-error:0.333333 \n",
            "[61]\ttrain-error:0.000000\ttest-error:0.333333 \n",
            "[71]\ttrain-error:0.000000\ttest-error:0.333333 \n",
            "[81]\ttrain-error:0.000000\ttest-error:0.333333 \n",
            "[91]\ttrain-error:0.000000\ttest-error:0.333333 \n",
            "[101]\ttrain-error:0.000000\ttest-error:0.333333 \n",
            "Stopping. Best iteration:\n",
            "[1]\ttrain-error:0.123153\ttest-error:0.000000\n",
            "\n"
          ]
        },
        {
          "output_type": "display_data",
          "data": {
            "text/plain": [
              "\n",
              "Call:\n",
              "lm_robust(formula = mh_scale ~ gpa_thresh3_0, data = data.intake, \n",
              "    weights = ipw, alpha = 0.1)\n",
              "\n",
              "Weighted, Standard error type:  HC2 \n",
              "\n",
              "Coefficients:\n",
              "              Estimate Std. Error t value  Pr(>|t|) CI Lower CI Upper  DF\n",
              "(Intercept)    0.48945    0.06771  7.2285 9.601e-12   0.3776   0.6013 204\n",
              "gpa_thresh3_0  0.03063    0.07398  0.4141 6.793e-01  -0.0916   0.1529 204\n",
              "\n",
              "Multiple R-squared:  0.001114 ,\tAdjusted R-squared:  -0.003783 \n",
              "F-statistic: 0.1715 on 1 and 204 DF,  p-value: 0.6793"
            ]
          },
          "metadata": {}
        }
      ]
    },
    {
      "cell_type": "code",
      "source": [],
      "metadata": {
        "id": "u5X46wVSln0q"
      },
      "execution_count": 26,
      "outputs": []
    }
  ]
}