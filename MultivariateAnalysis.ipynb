{
  "nbformat": 4,
  "nbformat_minor": 0,
  "metadata": {
    "colab": {
      "provenance": [],
      "authorship_tag": "ABX9TyNijI+v/xws/jY2TuZkr1Cy",
      "include_colab_link": true
    },
    "kernelspec": {
      "name": "ir",
      "display_name": "R"
    },
    "language_info": {
      "name": "R"
    }
  },
  "cells": [
    {
      "cell_type": "markdown",
      "metadata": {
        "id": "view-in-github",
        "colab_type": "text"
      },
      "source": [
        "<a href=\"https://colab.research.google.com/github/shearere2/vcu_reu/blob/main/MultivariateAnalysis.ipynb\" target=\"_parent\"><img src=\"https://colab.research.google.com/assets/colab-badge.svg\" alt=\"Open In Colab\"/></a>"
      ]
    },
    {
      "cell_type": "code",
      "source": [
        "set.seed(2024)"
      ],
      "metadata": {
        "id": "acCukRpy-bfn"
      },
      "execution_count": 1,
      "outputs": []
    },
    {
      "cell_type": "code",
      "execution_count": 2,
      "metadata": {
        "id": "c9ruZTe0AT1G"
      },
      "outputs": [],
      "source": [
        "df <- read.csv('numeric_GPA3_0_first.csv')"
      ]
    },
    {
      "cell_type": "code",
      "source": [
        "rownames(df) <- df$record_id\n",
        "df$record_id <- NULL"
      ],
      "metadata": {
        "id": "hEG1Q1YVAiep"
      },
      "execution_count": 3,
      "outputs": []
    },
    {
      "cell_type": "code",
      "source": [
        "model <- lm(mh_scale ~ ., data=df)"
      ],
      "metadata": {
        "id": "kSNi4jNSAjOc"
      },
      "execution_count": 4,
      "outputs": []
    },
    {
      "cell_type": "code",
      "source": [
        "summary(model)"
      ],
      "metadata": {
        "colab": {
          "base_uri": "https://localhost:8080/",
          "height": 1000
        },
        "id": "4AQxf4VkBCoJ",
        "outputId": "56f8b5ed-e3b1-4825-96f7-d3a89c6b0452"
      },
      "execution_count": 5,
      "outputs": [
        {
          "output_type": "display_data",
          "data": {
            "text/plain": [
              "\n",
              "Call:\n",
              "lm(formula = mh_scale ~ ., data = df)\n",
              "\n",
              "Residuals:\n",
              "     Min       1Q   Median       3Q      Max \n",
              "-0.93932 -0.23373 -0.04575  0.21450  1.26100 \n",
              "\n",
              "Coefficients: (1 not defined because of singularities)\n",
              "                     Estimate Std. Error t value Pr(>|t|)    \n",
              "(Intercept)        -0.3382874  0.3274851  -1.033   0.3026    \n",
              "gpa_thresh3_0      -0.0408383  0.0577911  -0.707   0.4805    \n",
              "role_family         0.0474521  0.1493061   0.318   0.7509    \n",
              "role_friend         0.0420229  0.1090714   0.385   0.7004    \n",
              "role_sigother       0.2200164  0.1582393   1.390   0.1657    \n",
              "role_other         -0.3635745  0.1914989  -1.899   0.0588 .  \n",
              "has_mother         -0.0588530  0.0656543  -0.896   0.3709    \n",
              "has_father          0.0300239  0.0594394   0.505   0.6139    \n",
              "stem_notstem        0.0210454  0.0510419   0.412   0.6805    \n",
              "edu.r_count         0.0667709  0.0479111   1.394   0.1647    \n",
              "edu.i_count        -0.0729902  0.0333363  -2.190   0.0295 *  \n",
              "emo.r_count         0.0323859  0.0287205   1.128   0.2606    \n",
              "emo.i_count         0.0041073  0.0336413   0.122   0.9029    \n",
              "has_r.edu.family    0.0290558  0.1660082   0.175   0.8612    \n",
              "has_i.edu.family    0.0670466  0.1756046   0.382   0.7029    \n",
              "has_r.emo.family    0.0183029  0.1483756   0.123   0.9019    \n",
              "has_i.emo.family    0.0110949  0.1076497   0.103   0.9180    \n",
              "has_r.edu.friend   -0.0630685  0.1465596  -0.430   0.6673    \n",
              "has_i.edu.friend   -0.0520935  0.1604757  -0.325   0.7458    \n",
              "has_r.emo.friend   -0.0140099  0.1340295  -0.105   0.9168    \n",
              "has_i.emo.friend           NA         NA      NA       NA    \n",
              "has_r.edu.so        0.0045663  0.1307079   0.035   0.9722    \n",
              "has_i.edu.so        0.1351643  0.1397000   0.968   0.3342    \n",
              "has_r.emo.so       -0.0022615  0.1572062  -0.014   0.9885    \n",
              "has_i.emo.so       -0.2858381  0.2005712  -1.425   0.1554    \n",
              "has_r.edu.other     0.4724121  0.3699147   1.277   0.2028    \n",
              "has_i.edu.other    -0.1852443  0.4594888  -0.403   0.6872    \n",
              "has_r.emo.other     0.0284431  0.2675505   0.106   0.9154    \n",
              "has_i.emo.other     0.6073766  0.2631515   2.308   0.0218 *  \n",
              "prime_count        -0.0276551  0.0536919  -0.515   0.6070    \n",
              "gender             -0.0504384  0.0469842  -1.074   0.2841    \n",
              "max.eduhelp        -0.0108824  0.0177408  -0.613   0.5402    \n",
              "max2.eduhelp       -0.0076914  0.0112328  -0.685   0.4942    \n",
              "max.emohelp         0.0044554  0.0508165   0.088   0.9302    \n",
              "max2.emohelp        0.0056706  0.0168069   0.337   0.7361    \n",
              "max.eduhelp.close   0.0058454  0.0147298   0.397   0.6918    \n",
              "max.emohelp.close  -0.0075538  0.0472826  -0.160   0.8732    \n",
              "n4.closeness        0.0003225  0.0380020   0.008   0.9932    \n",
              "n3.closeness        0.0019378  0.0395414   0.049   0.9610    \n",
              "n2orless.closeness -0.0046989  0.0340630  -0.138   0.8904    \n",
              "race                0.0127294  0.0337586   0.377   0.7065    \n",
              "acpers             -0.0323193  0.0286081  -1.130   0.2597    \n",
              "colearn            -0.0218942  0.0379281  -0.577   0.5643    \n",
              "hours              -0.0015707  0.0023832  -0.659   0.5105    \n",
              "covid_mh            0.0296719  0.0140013   2.119   0.0351 *  \n",
              "covid_iso          -0.0054608  0.0116243  -0.470   0.6389    \n",
              "covid_edu           0.0114831  0.0120046   0.957   0.3398    \n",
              "ptsd_score          0.0263976  0.0018122  14.566   <2e-16 ***\n",
              "trauma_sum          0.0195421  0.0130475   1.498   0.1355    \n",
              "ss_friend           0.0132757  0.0310348   0.428   0.6692    \n",
              "ss_family          -0.0048080  0.0256042  -0.188   0.8512    \n",
              "ss_sigother        -0.0185752  0.0277109  -0.670   0.5033    \n",
              "ss_community        0.0466436  0.0313699   1.487   0.1384    \n",
              "age                 0.0042086  0.0023816   1.767   0.0785 .  \n",
              "first_gen           0.0169315  0.0737589   0.230   0.8186    \n",
              "---\n",
              "Signif. codes:  0 ‘***’ 0.001 ‘**’ 0.01 ‘*’ 0.05 ‘.’ 0.1 ‘ ’ 1\n",
              "\n",
              "Residual standard error: 0.3909 on 241 degrees of freedom\n",
              "Multiple R-squared:  0.6582,\tAdjusted R-squared:  0.5831 \n",
              "F-statistic: 8.758 on 53 and 241 DF,  p-value: < 2.2e-16\n"
            ]
          },
          "metadata": {}
        }
      ]
    },
    {
      "cell_type": "markdown",
      "source": [
        "Multivariate analysis with different subgroups"
      ],
      "metadata": {
        "id": "LADQ2EiIMH8U"
      }
    },
    {
      "cell_type": "code",
      "source": [
        "set.seed(2024)\n",
        "df <- read.csv('lowptsd_score.csv') # Change file\n",
        "df$ptsd_score <- NULL # Change variable (don't include subgroup variable)\n",
        "rownames(df) <- df$record_id\n",
        "df$record_id <- NULL\n",
        "model <- lm(mh_scale ~ ., data=df)\n",
        "summary(model)"
      ],
      "metadata": {
        "colab": {
          "base_uri": "https://localhost:8080/",
          "height": 1000
        },
        "id": "22ev8dEUBDgn",
        "outputId": "a7dbb40b-6a7d-44c0-b8f9-1c195c60f8e5"
      },
      "execution_count": 8,
      "outputs": [
        {
          "output_type": "display_data",
          "data": {
            "text/plain": [
              "\n",
              "Call:\n",
              "lm(formula = mh_scale ~ ., data = df)\n",
              "\n",
              "Residuals:\n",
              "     Min       1Q   Median       3Q      Max \n",
              "-0.71523 -0.23977 -0.03324  0.22481  1.03949 \n",
              "\n",
              "Coefficients: (1 not defined because of singularities)\n",
              "                    Estimate Std. Error t value Pr(>|t|)  \n",
              "(Intercept)         0.687577   0.371221   1.852   0.0659 .\n",
              "gpa_thresh3_0      -0.011061   0.069821  -0.158   0.8743  \n",
              "role_family         0.139837   0.177105   0.790   0.4310  \n",
              "role_friend         0.011952   0.131690   0.091   0.9278  \n",
              "role_sigother       0.119490   0.206921   0.577   0.5645  \n",
              "role_other         -0.018386   0.244602  -0.075   0.9402  \n",
              "has_mother         -0.091175   0.075807  -1.203   0.2309  \n",
              "has_father          0.005566   0.069940   0.080   0.9367  \n",
              "stem_notstem       -0.029949   0.060270  -0.497   0.6200  \n",
              "edu.r_count         0.016154   0.055872   0.289   0.7729  \n",
              "edu.i_count        -0.014314   0.043056  -0.332   0.7400  \n",
              "emo.r_count         0.002208   0.035010   0.063   0.9498  \n",
              "emo.i_count         0.035909   0.041806   0.859   0.3917  \n",
              "has_r.edu.family   -0.092617   0.203733  -0.455   0.6500  \n",
              "has_i.edu.family    0.109288   0.208658   0.524   0.6012  \n",
              "has_r.emo.family   -0.063588   0.180626  -0.352   0.7253  \n",
              "has_i.emo.family    0.114329   0.133364   0.857   0.3926  \n",
              "has_r.edu.friend    0.157913   0.178328   0.886   0.3773  \n",
              "has_i.edu.friend   -0.106400   0.188230  -0.565   0.5727  \n",
              "has_r.emo.friend   -0.025509   0.172562  -0.148   0.8827  \n",
              "has_i.emo.friend          NA         NA      NA       NA  \n",
              "has_r.edu.so       -0.150295   0.159750  -0.941   0.3483  \n",
              "has_i.edu.so        0.190129   0.173022   1.099   0.2736  \n",
              "has_r.emo.so        0.237552   0.181057   1.312   0.1915  \n",
              "has_i.emo.so       -0.416080   0.246882  -1.685   0.0940 .\n",
              "has_r.edu.other     0.168707   0.480916   0.351   0.7262  \n",
              "has_i.edu.other     0.005953   0.626637   0.009   0.9924  \n",
              "has_r.emo.other    -0.240625   0.330432  -0.728   0.4676  \n",
              "has_i.emo.other     0.531706   0.341535   1.557   0.1216  \n",
              "prime_count        -0.010128   0.066509  -0.152   0.8792  \n",
              "gender             -0.108195   0.058985  -1.834   0.0686 .\n",
              "max.eduhelp        -0.026074   0.021117  -1.235   0.2188  \n",
              "max2.eduhelp       -0.002946   0.013903  -0.212   0.8325  \n",
              "max.emohelp         0.010796   0.057525   0.188   0.8514  \n",
              "max2.emohelp       -0.012701   0.020591  -0.617   0.5383  \n",
              "max.eduhelp.close   0.005038   0.016922   0.298   0.7663  \n",
              "max.emohelp.close  -0.019357   0.053550  -0.361   0.7182  \n",
              "n4.closeness       -0.024722   0.045070  -0.549   0.5841  \n",
              "n3.closeness       -0.030052   0.046468  -0.647   0.5188  \n",
              "n2orless.closeness -0.021946   0.037897  -0.579   0.5634  \n",
              "race                0.074761   0.040254   1.857   0.0652 .\n",
              "acpers             -0.090879   0.036948  -2.460   0.0150 *\n",
              "colearn            -0.012807   0.045714  -0.280   0.7797  \n",
              "hours               0.002672   0.002935   0.910   0.3641  \n",
              "covid_mh            0.027110   0.016903   1.604   0.1108  \n",
              "covid_iso           0.025599   0.014247   1.797   0.0743 .\n",
              "covid_edu           0.022855   0.013515   1.691   0.0928 .\n",
              "trauma_sum         -0.027199   0.015256  -1.783   0.0766 .\n",
              "ss_friend          -0.035008   0.039187  -0.893   0.3731  \n",
              "ss_family           0.002631   0.032165   0.082   0.9349  \n",
              "ss_sigother         0.022742   0.034398   0.661   0.5095  \n",
              "ss_community        0.044202   0.037693   1.173   0.2427  \n",
              "age                 0.003700   0.002721   1.360   0.1759  \n",
              "first_gen          -0.061951   0.086274  -0.718   0.4738  \n",
              "---\n",
              "Signif. codes:  0 ‘***’ 0.001 ‘**’ 0.01 ‘*’ 0.05 ‘.’ 0.1 ‘ ’ 1\n",
              "\n",
              "Residual standard error: 0.3776 on 153 degrees of freedom\n",
              "Multiple R-squared:  0.3386,\tAdjusted R-squared:  0.1138 \n",
              "F-statistic: 1.506 on 52 and 153 DF,  p-value: 0.02908\n"
            ]
          },
          "metadata": {}
        }
      ]
    },
    {
      "cell_type": "code",
      "source": [
        "set.seed(2024)\n",
        "df <- read.csv('gender_female.csv') # Change file\n",
        "df$gender <- NULL # Change variable (don't include subgroup variable)\n",
        "rownames(df) <- df$record_id\n",
        "df$record_id <- NULL\n",
        "model <- lm(mh_scale ~ ., data=df)\n",
        "summary(model)"
      ],
      "metadata": {
        "colab": {
          "base_uri": "https://localhost:8080/",
          "height": 1000
        },
        "id": "fQoKk7iuu9Gy",
        "outputId": "874b33d8-2800-4116-a1cb-52a4c4175761"
      },
      "execution_count": 10,
      "outputs": [
        {
          "output_type": "display_data",
          "data": {
            "text/plain": [
              "\n",
              "Call:\n",
              "lm(formula = mh_scale ~ ., data = df)\n",
              "\n",
              "Residuals:\n",
              "     Min       1Q   Median       3Q      Max \n",
              "-0.83938 -0.22465 -0.01863  0.23212  1.10726 \n",
              "\n",
              "Coefficients: (1 not defined because of singularities)\n",
              "                     Estimate Std. Error t value Pr(>|t|)    \n",
              "(Intercept)        -0.5979019  0.3670354  -1.629  0.10512    \n",
              "gpa_thresh3_0      -0.0036003  0.0672708  -0.054  0.95738    \n",
              "role_family         0.1473053  0.1797306   0.820  0.41357    \n",
              "role_friend        -0.0594325  0.1261710  -0.471  0.63820    \n",
              "role_sigother       0.0880479  0.1711096   0.515  0.60751    \n",
              "role_other         -0.1367111  0.2186966  -0.625  0.53271    \n",
              "has_mother         -0.1104907  0.0728643  -1.516  0.13124    \n",
              "has_father         -0.0068061  0.0674305  -0.101  0.91972    \n",
              "stem_notstem        0.0307099  0.0607972   0.505  0.61411    \n",
              "edu.r_count         0.0306913  0.0583295   0.526  0.59944    \n",
              "edu.i_count        -0.0944747  0.0407721  -2.317  0.02166 *  \n",
              "emo.r_count         0.0287147  0.0348921   0.823  0.41166    \n",
              "emo.i_count         0.0453802  0.0395337   1.148  0.25259    \n",
              "has_r.edu.family   -0.1455518  0.2078325  -0.700  0.48466    \n",
              "has_i.edu.family    0.0779403  0.2136460   0.365  0.71570    \n",
              "has_r.emo.family    0.0382735  0.1641418   0.233  0.81590    \n",
              "has_i.emo.family   -0.0493621  0.1173849  -0.421  0.67463    \n",
              "has_r.edu.friend    0.1294073  0.1910548   0.677  0.49910    \n",
              "has_i.edu.friend   -0.1395493  0.2021609  -0.690  0.49093    \n",
              "has_r.emo.friend   -0.0369927  0.1502675  -0.246  0.80583    \n",
              "has_i.emo.friend           NA         NA      NA       NA    \n",
              "has_r.edu.so       -0.0270748  0.1479309  -0.183  0.85499    \n",
              "has_i.edu.so        0.1651037  0.1574374   1.049  0.29577    \n",
              "has_r.emo.so       -0.0881942  0.1811120  -0.487  0.62690    \n",
              "has_i.emo.so       -0.0577426  0.2381683  -0.242  0.80872    \n",
              "has_r.edu.other     0.7262721  0.5484340   1.324  0.18715    \n",
              "has_i.edu.other    -0.0741557  0.5962954  -0.124  0.90117    \n",
              "has_r.emo.other     0.0386667  0.3647893   0.106  0.91571    \n",
              "has_i.emo.other     0.1155921  0.3183202   0.363  0.71695    \n",
              "prime_count         0.0150380  0.0647964   0.232  0.81675    \n",
              "max.eduhelp        -0.0004353  0.0213445  -0.020  0.98375    \n",
              "max2.eduhelp        0.0026739  0.0128518   0.208  0.83543    \n",
              "max.emohelp         0.0568811  0.0729449   0.780  0.43658    \n",
              "max2.emohelp        0.0131481  0.0182641   0.720  0.47256    \n",
              "max.eduhelp.close   0.0073078  0.0174609   0.419  0.67608    \n",
              "max.emohelp.close  -0.0583294  0.0688937  -0.847  0.39835    \n",
              "n4.closeness       -0.0286920  0.0431376  -0.665  0.50685    \n",
              "n3.closeness       -0.0247239  0.0461089  -0.536  0.59250    \n",
              "n2orless.closeness -0.0085269  0.0407948  -0.209  0.83468    \n",
              "race               -0.0235942  0.0405333  -0.582  0.56126    \n",
              "acpers             -0.0481351  0.0334631  -1.438  0.15210    \n",
              "colearn            -0.0244798  0.0432597  -0.566  0.57220    \n",
              "hours              -0.0005082  0.0027203  -0.187  0.85202    \n",
              "covid_mh            0.0474479  0.0165496   2.867  0.00466 ** \n",
              "covid_iso          -0.0083117  0.0140071  -0.593  0.55369    \n",
              "covid_edu           0.0120439  0.0136506   0.882  0.37883    \n",
              "ptsd_score          0.0255480  0.0021502  11.882  < 2e-16 ***\n",
              "trauma_sum          0.0293049  0.0149074   1.966  0.05091 .  \n",
              "ss_friend          -0.0020226  0.0353178  -0.057  0.95440    \n",
              "ss_family          -0.0202968  0.0306306  -0.663  0.50844    \n",
              "ss_sigother         0.0031220  0.0321677   0.097  0.92279    \n",
              "ss_community        0.0605441  0.0352992   1.715  0.08809 .  \n",
              "age                 0.0045745  0.0026758   1.710  0.08913 .  \n",
              "first_gen           0.0844869  0.0848911   0.995  0.32100    \n",
              "---\n",
              "Signif. codes:  0 ‘***’ 0.001 ‘**’ 0.01 ‘*’ 0.05 ‘.’ 0.1 ‘ ’ 1\n",
              "\n",
              "Residual standard error: 0.3833 on 174 degrees of freedom\n",
              "Multiple R-squared:  0.6841,\tAdjusted R-squared:  0.5897 \n",
              "F-statistic: 7.247 on 52 and 174 DF,  p-value: < 2.2e-16\n"
            ]
          },
          "metadata": {}
        }
      ]
    },
    {
      "cell_type": "code",
      "source": [
        "set.seed(2024)\n",
        "df <- read.csv('nonfirstgen.csv') # Change file\n",
        "df$first_gen <- NULL # Change variable (don't include subgroup variable)\n",
        "rownames(df) <- df$record_id\n",
        "df$record_id <- NULL\n",
        "model <- lm(mh_scale ~ ., data=df)\n",
        "summary(model)"
      ],
      "metadata": {
        "colab": {
          "base_uri": "https://localhost:8080/",
          "height": 1000
        },
        "id": "_r3uSeKTweL4",
        "outputId": "868c4834-e6d0-4d91-99a6-8c60e3bf9ff6"
      },
      "execution_count": 12,
      "outputs": [
        {
          "output_type": "display_data",
          "data": {
            "text/plain": [
              "\n",
              "Call:\n",
              "lm(formula = mh_scale ~ ., data = df)\n",
              "\n",
              "Residuals:\n",
              "    Min      1Q  Median      3Q     Max \n",
              "-0.8123 -0.2585 -0.0408  0.2495  1.2955 \n",
              "\n",
              "Coefficients: (1 not defined because of singularities)\n",
              "                     Estimate Std. Error t value Pr(>|t|)    \n",
              "(Intercept)        -0.4038188  0.3746214  -1.078   0.2824    \n",
              "gpa_thresh3_0      -0.0608512  0.0664425  -0.916   0.3609    \n",
              "role_family        -0.0677983  0.1753935  -0.387   0.6995    \n",
              "role_friend         0.0290130  0.1196741   0.242   0.8087    \n",
              "role_sigother       0.2610789  0.1721445   1.517   0.1310    \n",
              "role_other         -0.4053474  0.2321739  -1.746   0.0824 .  \n",
              "has_mother         -0.0427586  0.0773718  -0.553   0.5811    \n",
              "has_father          0.0660694  0.0664591   0.994   0.3214    \n",
              "stem_notstem        0.0066750  0.0577172   0.116   0.9080    \n",
              "edu.r_count         0.0694154  0.0557137   1.246   0.2143    \n",
              "edu.i_count        -0.0890641  0.0372474  -2.391   0.0177 *  \n",
              "emo.r_count         0.0471518  0.0328650   1.435   0.1530    \n",
              "emo.i_count        -0.0132977  0.0376093  -0.354   0.7240    \n",
              "has_r.edu.family    0.1371942  0.1974522   0.695   0.4880    \n",
              "has_i.edu.family   -0.0106166  0.2273248  -0.047   0.9628    \n",
              "has_r.emo.family    0.0153784  0.1810394   0.085   0.9324    \n",
              "has_i.emo.family    0.1156361  0.1204270   0.960   0.3381    \n",
              "has_r.edu.friend   -0.1801563  0.1754928  -1.027   0.3059    \n",
              "has_i.edu.friend   -0.0371037  0.2098118  -0.177   0.8598    \n",
              "has_r.emo.friend    0.0188369  0.1652957   0.114   0.9094    \n",
              "has_i.emo.friend           NA         NA      NA       NA    \n",
              "has_r.edu.so        0.0113476  0.1479070   0.077   0.9389    \n",
              "has_i.edu.so        0.2199647  0.1717939   1.280   0.2019    \n",
              "has_r.emo.so        0.0885590  0.1933832   0.458   0.6475    \n",
              "has_i.emo.so       -0.5010015  0.2197080  -2.280   0.0237 *  \n",
              "has_r.edu.other     0.1752148  0.5052188   0.347   0.7291    \n",
              "has_i.edu.other     0.2632454  0.7062928   0.373   0.7098    \n",
              "has_r.emo.other    -0.0095553  0.3116912  -0.031   0.9756    \n",
              "has_i.emo.other     0.5889004  0.3087067   1.908   0.0579 .  \n",
              "prime_count        -0.0393093  0.0616699  -0.637   0.5246    \n",
              "gender             -0.0401577  0.0539177  -0.745   0.4573    \n",
              "max.eduhelp         0.0005317  0.0207532   0.026   0.9796    \n",
              "max2.eduhelp       -0.0051052  0.0124139  -0.411   0.6813    \n",
              "max.emohelp        -0.0192424  0.0545545  -0.353   0.7247    \n",
              "max2.emohelp        0.0144958  0.0188268   0.770   0.4423    \n",
              "max.eduhelp.close   0.0016760  0.0172680   0.097   0.9228    \n",
              "max.emohelp.close  -0.0054590  0.0502881  -0.109   0.9137    \n",
              "n4.closeness        0.0180010  0.0427246   0.421   0.6740    \n",
              "n3.closeness        0.0084212  0.0450888   0.187   0.8520    \n",
              "n2orless.closeness  0.0074302  0.0382492   0.194   0.8462    \n",
              "race                0.0358567  0.0373386   0.960   0.3381    \n",
              "acpers             -0.0232869  0.0313968  -0.742   0.4592    \n",
              "colearn            -0.0170993  0.0442469  -0.386   0.6996    \n",
              "hours              -0.0012631  0.0026982  -0.468   0.6402    \n",
              "covid_mh            0.0263704  0.0159141   1.657   0.0991 .  \n",
              "covid_iso          -0.0043947  0.0136563  -0.322   0.7479    \n",
              "covid_edu           0.0167078  0.0142572   1.172   0.2427    \n",
              "ptsd_score          0.0259282  0.0020079  12.913   <2e-16 ***\n",
              "trauma_sum          0.0285861  0.0150148   1.904   0.0584 .  \n",
              "ss_friend          -0.0023430  0.0344195  -0.068   0.9458    \n",
              "ss_family           0.0137695  0.0299492   0.460   0.6462    \n",
              "ss_sigother        -0.0348040  0.0307575  -1.132   0.2592    \n",
              "ss_community        0.0586087  0.0365169   1.605   0.1101    \n",
              "age                 0.0050728  0.0026007   1.951   0.0525 .  \n",
              "---\n",
              "Signif. codes:  0 ‘***’ 0.001 ‘**’ 0.01 ‘*’ 0.05 ‘.’ 0.1 ‘ ’ 1\n",
              "\n",
              "Residual standard error: 0.4003 on 196 degrees of freedom\n",
              "Multiple R-squared:  0.6532,\tAdjusted R-squared:  0.5612 \n",
              "F-statistic: 7.099 on 52 and 196 DF,  p-value: < 2.2e-16\n"
            ]
          },
          "metadata": {}
        }
      ]
    },
    {
      "cell_type": "code",
      "source": [
        "set.seed(2024)\n",
        "df <- read.csv('ages21_24.csv') # Change file\n",
        "df$age <- NULL # Change variable (don't include subgroup variable)\n",
        "rownames(df) <- df$record_id\n",
        "df$record_id <- NULL\n",
        "model <- lm(mh_scale ~ ., data=df)\n",
        "summary(model)"
      ],
      "metadata": {
        "colab": {
          "base_uri": "https://localhost:8080/",
          "height": 1000
        },
        "id": "KMTn6RI4w6lB",
        "outputId": "3cad3ac7-eb16-4e6e-b2fd-8d2c7606be13"
      },
      "execution_count": 17,
      "outputs": [
        {
          "output_type": "display_data",
          "data": {
            "text/plain": [
              "\n",
              "Call:\n",
              "lm(formula = mh_scale ~ ., data = df)\n",
              "\n",
              "Residuals:\n",
              "     Min       1Q   Median       3Q      Max \n",
              "-0.48274 -0.11939 -0.00245  0.11925  0.85611 \n",
              "\n",
              "Coefficients: (2 not defined because of singularities)\n",
              "                     Estimate Std. Error t value Pr(>|t|)    \n",
              "(Intercept)        -8.450e-02  8.304e-01  -0.102   0.9195    \n",
              "gpa_thresh3_0      -1.937e-01  1.032e-01  -1.877   0.0678 .  \n",
              "role_family         1.546e-01  2.911e-01   0.531   0.5984    \n",
              "role_friend        -7.833e-02  2.535e-01  -0.309   0.7589    \n",
              "role_sigother       7.975e-01  4.257e-01   1.873   0.0683 .  \n",
              "role_other         -1.126e+00  5.615e-01  -2.006   0.0516 .  \n",
              "has_mother         -4.053e-02  1.264e-01  -0.321   0.7501    \n",
              "has_father         -1.592e-01  1.263e-01  -1.261   0.2147    \n",
              "stem_notstem        1.875e-01  1.020e-01   1.838   0.0735 .  \n",
              "edu.r_count         1.604e-01  9.325e-02   1.720   0.0932 .  \n",
              "edu.i_count        -1.456e-01  7.255e-02  -2.007   0.0515 .  \n",
              "emo.r_count         2.727e-02  6.208e-02   0.439   0.6628    \n",
              "emo.i_count         2.467e-02  6.488e-02   0.380   0.7058    \n",
              "has_r.edu.family   -3.826e-01  2.916e-01  -1.312   0.1970    \n",
              "has_i.edu.family    3.208e-02  3.550e-01   0.090   0.9284    \n",
              "has_r.emo.family    3.728e-01  3.419e-01   1.090   0.2821    \n",
              "has_i.emo.family   -5.012e-02  2.025e-01  -0.248   0.8058    \n",
              "has_r.edu.friend    1.440e-01  2.645e-01   0.545   0.5890    \n",
              "has_i.edu.friend    1.003e-01  3.489e-01   0.287   0.7754    \n",
              "has_r.emo.friend   -3.434e-01  3.328e-01  -1.032   0.3083    \n",
              "has_i.emo.friend           NA         NA      NA       NA    \n",
              "has_r.edu.so        1.149e-01  2.592e-01   0.443   0.6599    \n",
              "has_i.edu.so        1.769e-01  2.799e-01   0.632   0.5311    \n",
              "has_r.emo.so       -9.760e-02  3.399e-01  -0.287   0.7755    \n",
              "has_i.emo.so       -6.248e-01  5.596e-01  -1.116   0.2709    \n",
              "has_r.edu.other     4.399e-01  6.948e-01   0.633   0.5303    \n",
              "has_i.edu.other            NA         NA      NA       NA    \n",
              "has_r.emo.other     3.870e-01  7.060e-01   0.548   0.5867    \n",
              "has_i.emo.other     1.431e+00  7.510e-01   1.905   0.0640 .  \n",
              "prime_count        -4.454e-02  9.716e-02  -0.458   0.6492    \n",
              "gender             -1.963e-01  1.027e-01  -1.911   0.0632 .  \n",
              "max.eduhelp        -2.876e-02  3.400e-02  -0.846   0.4027    \n",
              "max2.eduhelp        1.058e-02  2.253e-02   0.470   0.6412    \n",
              "max.emohelp         1.768e-01  7.766e-02   2.276   0.0283 *  \n",
              "max2.emohelp        6.611e-02  3.982e-02   1.660   0.1047    \n",
              "max.eduhelp.close   9.614e-03  2.892e-02   0.332   0.7413    \n",
              "max.emohelp.close  -1.831e-01  7.555e-02  -2.423   0.0200 *  \n",
              "n4.closeness       -1.318e-01  7.544e-02  -1.748   0.0882 .  \n",
              "n3.closeness       -1.090e-01  8.378e-02  -1.301   0.2008    \n",
              "n2orless.closeness -8.030e-02  6.500e-02  -1.235   0.2239    \n",
              "race                6.450e-03  7.386e-02   0.087   0.9309    \n",
              "acpers              2.416e-02  5.774e-02   0.418   0.6779    \n",
              "colearn            -3.415e-03  6.937e-02  -0.049   0.9610    \n",
              "hours               2.264e-03  5.303e-03   0.427   0.6718    \n",
              "covid_mh            3.891e-02  2.680e-02   1.452   0.1544    \n",
              "covid_iso          -3.475e-02  2.531e-02  -1.373   0.1774    \n",
              "covid_edu           3.661e-02  2.507e-02   1.461   0.1520    \n",
              "ptsd_score          2.694e-02  3.878e-03   6.946 2.23e-08 ***\n",
              "trauma_sum          7.366e-05  2.567e-02   0.003   0.9977    \n",
              "ss_friend           2.447e-02  7.008e-02   0.349   0.7287    \n",
              "ss_family          -1.824e-02  5.717e-02  -0.319   0.7513    \n",
              "ss_sigother        -3.342e-02  6.199e-02  -0.539   0.5928    \n",
              "ss_community        2.215e-03  6.803e-02   0.033   0.9742    \n",
              "first_gen          -1.085e-02  1.353e-01  -0.080   0.9365    \n",
              "---\n",
              "Signif. codes:  0 ‘***’ 0.001 ‘**’ 0.01 ‘*’ 0.05 ‘.’ 0.1 ‘ ’ 1\n",
              "\n",
              "Residual standard error: 0.3474 on 40 degrees of freedom\n",
              "Multiple R-squared:  0.8782,\tAdjusted R-squared:  0.723 \n",
              "F-statistic: 5.656 on 51 and 40 DF,  p-value: 6.016e-08\n"
            ]
          },
          "metadata": {}
        }
      ]
    },
    {
      "cell_type": "code",
      "source": [
        "set.seed(2024)\n",
        "df <- read.csv('asian.csv') # Change file\n",
        "df$race <- NULL # Change variable (don't include subgroup variable)\n",
        "rownames(df) <- df$record_id\n",
        "df$record_id <- NULL\n",
        "model <- lm(mh_scale ~ ., data=df)\n",
        "summary(model)"
      ],
      "metadata": {
        "colab": {
          "base_uri": "https://localhost:8080/",
          "height": 1000
        },
        "id": "bRfR4_i3xrR_",
        "outputId": "8204a146-24ce-4494-9fdd-ab1cc9d68855"
      },
      "execution_count": 21,
      "outputs": [
        {
          "output_type": "display_data",
          "data": {
            "text/plain": [
              "\n",
              "Call:\n",
              "lm(formula = mh_scale ~ ., data = df)\n",
              "\n",
              "Residuals:\n",
              "     Min       1Q   Median       3Q      Max \n",
              "-0.76832 -0.22010 -0.00309  0.23341  1.36714 \n",
              "\n",
              "Coefficients: (2 not defined because of singularities)\n",
              "                    Estimate Std. Error t value Pr(>|t|)    \n",
              "(Intercept)         0.334453   0.646025   0.518   0.6065    \n",
              "gpa_thresh3_0      -0.133237   0.120621  -1.105   0.2736    \n",
              "role_family         0.026140   0.343794   0.076   0.9396    \n",
              "role_friend        -0.044915   0.240008  -0.187   0.8522    \n",
              "role_sigother       0.038677   0.324640   0.119   0.9056    \n",
              "role_other         -0.048828   0.446739  -0.109   0.9133    \n",
              "has_mother         -0.058300   0.122069  -0.478   0.6346    \n",
              "has_father          0.008783   0.125297   0.070   0.9443    \n",
              "stem_notstem        0.088553   0.122728   0.722   0.4733    \n",
              "edu.r_count         0.092219   0.120935   0.763   0.4486    \n",
              "edu.i_count        -0.150772   0.090174  -1.672   0.0996 .  \n",
              "emo.r_count        -0.012612   0.072729  -0.173   0.8629    \n",
              "emo.i_count         0.014243   0.072574   0.196   0.8451    \n",
              "has_r.edu.family    0.031292   0.429614   0.073   0.9422    \n",
              "has_i.edu.family   -0.131366   0.355888  -0.369   0.7133    \n",
              "has_r.emo.family   -0.225329   0.337522  -0.668   0.5069    \n",
              "has_i.emo.family    0.032985   0.211338   0.156   0.8765    \n",
              "has_r.edu.friend   -0.395590   0.373063  -1.060   0.2931    \n",
              "has_i.edu.friend    0.037451   0.337950   0.111   0.9121    \n",
              "has_r.emo.friend    0.319547   0.339489   0.941   0.3502    \n",
              "has_i.emo.friend          NA         NA      NA       NA    \n",
              "has_r.edu.so        0.009886   0.343632   0.029   0.9771    \n",
              "has_i.edu.so        0.493861   0.325952   1.515   0.1348    \n",
              "has_r.emo.so       -0.160050   0.316294  -0.506   0.6146    \n",
              "has_i.emo.so       -0.011608   0.417170  -0.028   0.9779    \n",
              "has_r.edu.other     0.506011   0.717080   0.706   0.4830    \n",
              "has_i.edu.other           NA         NA      NA       NA    \n",
              "has_r.emo.other     1.059416   0.845055   1.254   0.2147    \n",
              "has_i.emo.other    -0.354539   0.736013  -0.482   0.6317    \n",
              "prime_count         0.101403   0.133408   0.760   0.4501    \n",
              "gender             -0.111032   0.112808  -0.984   0.3288    \n",
              "max.eduhelp        -0.023268   0.053442  -0.435   0.6648    \n",
              "max2.eduhelp       -0.029172   0.024361  -1.197   0.2357    \n",
              "max.emohelp         0.007068   0.091739   0.077   0.9388    \n",
              "max2.emohelp        0.011925   0.035446   0.336   0.7377    \n",
              "max.eduhelp.close   0.040698   0.050095   0.812   0.4197    \n",
              "max.emohelp.close  -0.031232   0.082517  -0.378   0.7064    \n",
              "n4.closeness        0.028747   0.077479   0.371   0.7119    \n",
              "n3.closeness        0.029939   0.081752   0.366   0.7154    \n",
              "n2orless.closeness  0.022092   0.080362   0.275   0.7843    \n",
              "acpers             -0.051055   0.060369  -0.846   0.4010    \n",
              "colearn            -0.085005   0.089650  -0.948   0.3467    \n",
              "hours              -0.005584   0.004935  -1.132   0.2622    \n",
              "covid_mh            0.028532   0.032227   0.885   0.3794    \n",
              "covid_iso          -0.020592   0.026346  -0.782   0.4374    \n",
              "covid_edu          -0.014802   0.029217  -0.507   0.6142    \n",
              "ptsd_score          0.028923   0.003940   7.341  5.5e-10 ***\n",
              "trauma_sum          0.030201   0.026670   1.132   0.2618    \n",
              "ss_friend          -0.008158   0.071301  -0.114   0.9093    \n",
              "ss_family          -0.016059   0.057578  -0.279   0.7812    \n",
              "ss_sigother        -0.024855   0.070114  -0.354   0.7242    \n",
              "ss_community        0.040835   0.070680   0.578   0.5655    \n",
              "age                 0.012131   0.005500   2.206   0.0311 *  \n",
              "first_gen          -0.002776   0.152512  -0.018   0.9855    \n",
              "---\n",
              "Signif. codes:  0 ‘***’ 0.001 ‘**’ 0.01 ‘*’ 0.05 ‘.’ 0.1 ‘ ’ 1\n",
              "\n",
              "Residual standard error: 0.4576 on 62 degrees of freedom\n",
              "Multiple R-squared:  0.7104,\tAdjusted R-squared:  0.4723 \n",
              "F-statistic: 2.983 on 51 and 62 DF,  p-value: 2.543e-05\n"
            ]
          },
          "metadata": {}
        }
      ]
    },
    {
      "cell_type": "code",
      "source": [],
      "metadata": {
        "id": "SvrVutc03FSd"
      },
      "execution_count": null,
      "outputs": []
    }
  ]
}