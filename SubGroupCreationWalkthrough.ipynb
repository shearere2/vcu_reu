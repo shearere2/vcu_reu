{
  "nbformat": 4,
  "nbformat_minor": 0,
  "metadata": {
    "colab": {
      "provenance": [],
      "authorship_tag": "ABX9TyPZXfZFyimsPiQmDNKDipcd",
      "include_colab_link": true
    },
    "kernelspec": {
      "name": "python3",
      "display_name": "Python 3"
    },
    "language_info": {
      "name": "python"
    }
  },
  "cells": [
    {
      "cell_type": "markdown",
      "metadata": {
        "id": "view-in-github",
        "colab_type": "text"
      },
      "source": [
        "<a href=\"https://colab.research.google.com/github/shearere2/vcu_reu/blob/main/SubGroupCreationWalkthrough.ipynb\" target=\"_parent\"><img src=\"https://colab.research.google.com/assets/colab-badge.svg\" alt=\"Open In Colab\"/></a>"
      ]
    },
    {
      "cell_type": "code",
      "execution_count": null,
      "metadata": {
        "id": "ASpZLTPXmZF5"
      },
      "outputs": [],
      "source": [
        "import pandas as pd"
      ]
    },
    {
      "cell_type": "code",
      "source": [
        "df = pd.read_csv('numeric_MHTree.csv') # Read in our original imputed numeric data (gpa threshold <2.5 - We should change it to 3.0 today maybe but not yet)"
      ],
      "metadata": {
        "id": "qe1-cXhnmeYj"
      },
      "execution_count": null,
      "outputs": []
    },
    {
      "cell_type": "code",
      "source": [
        "black_latin_other = df.loc[df['gender']==1] # Selects just rows with race value of 1 (represents black/latinx)"
      ],
      "metadata": {
        "id": "rwrBjts0mlnS"
      },
      "execution_count": null,
      "outputs": []
    },
    {
      "cell_type": "code",
      "source": [
        "black_latin_other = pd.concat([black_latin_other, df.loc[df['race']==3]], axis=0, join='outer')\n",
        "# Concatenates the black/latinx from the above cell with the 'other' (3) race response rows from the original df"
      ],
      "metadata": {
        "id": "jhsTmQjJZ--2"
      },
      "execution_count": null,
      "outputs": []
    },
    {
      "cell_type": "code",
      "source": [
        "black_latin_other.to_csv('black_latin_other.csv') # Outputs it to a csv"
      ],
      "metadata": {
        "id": "eHKzA-_oaBAZ"
      },
      "execution_count": null,
      "outputs": []
    },
    {
      "cell_type": "markdown",
      "source": [
        "At this point, you need to download the outputted csv, (left of screen in folder icon) and then go to your R file for a subgroup. You should make a copy of the R file (not this file) for every subgroup you do."
      ],
      "metadata": {
        "id": "SXpOz1Zkam3P"
      }
    },
    {
      "cell_type": "code",
      "source": [],
      "metadata": {
        "id": "WyZMoBdOa6PV"
      },
      "execution_count": null,
      "outputs": []
    }
  ]
}