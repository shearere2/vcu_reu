{
  "nbformat": 4,
  "nbformat_minor": 0,
  "metadata": {
    "colab": {
      "provenance": [],
      "authorship_tag": "ABX9TyOH/NGLJm4ki7+vGFRw8le8",
      "include_colab_link": true
    },
    "kernelspec": {
      "name": "ir",
      "display_name": "R"
    },
    "language_info": {
      "name": "R"
    }
  },
  "cells": [
    {
      "cell_type": "markdown",
      "metadata": {
        "id": "view-in-github",
        "colab_type": "text"
      },
      "source": [
        "<a href=\"https://colab.research.google.com/github/shearere2/vcu_reu/blob/main/AgeGBM_R.ipynb\" target=\"_parent\"><img src=\"https://colab.research.google.com/assets/colab-badge.svg\" alt=\"Open In Colab\"/></a>"
      ]
    },
    {
      "cell_type": "code",
      "execution_count": 24,
      "metadata": {
        "colab": {
          "base_uri": "https://localhost:8080/"
        },
        "id": "gmbIgZMr-eYu",
        "outputId": "87a3686b-0b14-44b4-ab40-acf3618501ad"
      },
      "outputs": [
        {
          "output_type": "stream",
          "name": "stderr",
          "text": [
            "Installing packages into ‘/usr/local/lib/R/site-library’\n",
            "(as ‘lib’ is unspecified)\n",
            "\n",
            "also installing the dependencies ‘Formula’, ‘Rcpp’, ‘RcppEigen’\n",
            "\n",
            "\n"
          ]
        }
      ],
      "source": [
        "install.packages(c('gbm','estimatr'))"
      ]
    },
    {
      "cell_type": "code",
      "source": [
        "library(gbm)\n",
        "library(estimatr)"
      ],
      "metadata": {
        "id": "KoRmhnN0-uPZ"
      },
      "execution_count": 25,
      "outputs": []
    },
    {
      "cell_type": "markdown",
      "source": [
        "18 <= x < 20"
      ],
      "metadata": {
        "id": "BQ2-hkEuCi0s"
      }
    },
    {
      "cell_type": "code",
      "source": [
        "df <- read.csv('ages18_20.csv')\n",
        "dim(df)"
      ],
      "metadata": {
        "colab": {
          "base_uri": "https://localhost:8080/",
          "height": 34
        },
        "id": "-3n9AUS6-vB4",
        "outputId": "12b13377-17c2-4fb5-f81b-e7f3d86e2f86"
      },
      "execution_count": 37,
      "outputs": [
        {
          "output_type": "display_data",
          "data": {
            "text/html": [
              "<style>\n",
              ".list-inline {list-style: none; margin:0; padding: 0}\n",
              ".list-inline>li {display: inline-block}\n",
              ".list-inline>li:not(:last-child)::after {content: \"\\00b7\"; padding: 0 .5ex}\n",
              "</style>\n",
              "<ol class=list-inline><li>56</li><li>56</li></ol>\n"
            ],
            "text/markdown": "1. 56\n2. 56\n\n\n",
            "text/latex": "\\begin{enumerate*}\n\\item 56\n\\item 56\n\\end{enumerate*}\n",
            "text/plain": [
              "[1] 56 56"
            ]
          },
          "metadata": {}
        }
      ]
    },
    {
      "cell_type": "code",
      "source": [
        "g <- gbm(gpa ~ role_sigother + has_father + edu.r_count +\n",
        "      edu.i_count + emo.i_count +\n",
        "      prime_count +\n",
        "      max.eduhelp + max2.eduhelp +\n",
        "      max.eduhelp.close +\n",
        "      acpers + colearn + hours + covid_mh + covid_iso + covid_edu +\n",
        "      ptsd_score + trauma_sum + ss_family +\n",
        "      ss_sigother + ss_community, data = df, shrinkage=0.0005)\n",
        "df$gval <- predict(g, type='response')\n",
        "df$weights.ATE <- ifelse(df$gpa==1, 1/df$gval, 1/(1-df$gval))\n",
        "model <- lm_robust(mh_scale ~ gpa, data=df, weights=df$weights.ATE)\n",
        "summary(model)"
      ],
      "metadata": {
        "colab": {
          "base_uri": "https://localhost:8080/",
          "height": 321
        },
        "id": "oD2iF_FACbUC",
        "outputId": "83fe1291-1411-4b1b-9f8b-be6735cf2c49"
      },
      "execution_count": 38,
      "outputs": [
        {
          "output_type": "stream",
          "name": "stdout",
          "text": [
            "Distribution not specified, assuming bernoulli ...\n"
          ]
        },
        {
          "output_type": "stream",
          "name": "stderr",
          "text": [
            "Using 100 trees...\n",
            "\n",
            "\n"
          ]
        },
        {
          "output_type": "display_data",
          "data": {
            "text/plain": [
              "\n",
              "Call:\n",
              "lm_robust(formula = mh_scale ~ gpa, data = df, weights = df$weights.ATE)\n",
              "\n",
              "Weighted, Standard error type:  HC2 \n",
              "\n",
              "Coefficients:\n",
              "            Estimate Std. Error t value  Pr(>|t|) CI Lower CI Upper DF\n",
              "(Intercept)   0.9613     0.1227   7.834 1.828e-10   0.7153   1.2073 54\n",
              "gpa          -0.2709     0.1706  -1.588 1.181e-01  -0.6130   0.0711 54\n",
              "\n",
              "Multiple R-squared:  0.04438 ,\tAdjusted R-squared:  0.02668 \n",
              "F-statistic: 2.522 on 1 and 54 DF,  p-value: 0.1181"
            ]
          },
          "metadata": {}
        }
      ]
    },
    {
      "cell_type": "markdown",
      "source": [
        "20 <= x <= 22"
      ],
      "metadata": {
        "id": "VlZAt89zCnhD"
      }
    },
    {
      "cell_type": "code",
      "source": [
        "df <- read.csv('ages20_22.csv')\n",
        "dim(df)"
      ],
      "metadata": {
        "colab": {
          "base_uri": "https://localhost:8080/",
          "height": 34
        },
        "id": "6XZu-ghrADa7",
        "outputId": "9e70431d-b23d-46ac-f4ad-307192a12476"
      },
      "execution_count": 39,
      "outputs": [
        {
          "output_type": "display_data",
          "data": {
            "text/html": [
              "<style>\n",
              ".list-inline {list-style: none; margin:0; padding: 0}\n",
              ".list-inline>li {display: inline-block}\n",
              ".list-inline>li:not(:last-child)::after {content: \"\\00b7\"; padding: 0 .5ex}\n",
              "</style>\n",
              "<ol class=list-inline><li>99</li><li>56</li></ol>\n"
            ],
            "text/markdown": "1. 99\n2. 56\n\n\n",
            "text/latex": "\\begin{enumerate*}\n\\item 99\n\\item 56\n\\end{enumerate*}\n",
            "text/plain": [
              "[1] 99 56"
            ]
          },
          "metadata": {}
        }
      ]
    },
    {
      "cell_type": "code",
      "source": [
        "g <- gbm(gpa ~ role_sigother + has_father + edu.r_count +\n",
        "      edu.i_count + emo.i_count +\n",
        "      prime_count +\n",
        "      max.eduhelp + max2.eduhelp +\n",
        "      max.eduhelp.close +\n",
        "      acpers + colearn + hours + covid_mh + covid_iso + covid_edu +\n",
        "      ptsd_score + trauma_sum + ss_family +\n",
        "      ss_sigother + ss_community, data = df, shrinkage=0.0005)\n",
        "df$gval <- predict(g, type='response')\n",
        "df$weights.ATE <- ifelse(df$gpa==1, 1/df$gval, 1/(1-df$gval))\n",
        "model <- lm_robust(mh_scale ~ gpa, data=df, weights=df$weights.ATE)\n",
        "summary(model)"
      ],
      "metadata": {
        "colab": {
          "base_uri": "https://localhost:8080/",
          "height": 321
        },
        "id": "mHkoSX7yC25s",
        "outputId": "0342b335-9e89-48e6-fc2c-a653ee16cf5a"
      },
      "execution_count": 40,
      "outputs": [
        {
          "output_type": "stream",
          "name": "stdout",
          "text": [
            "Distribution not specified, assuming bernoulli ...\n"
          ]
        },
        {
          "output_type": "stream",
          "name": "stderr",
          "text": [
            "Using 100 trees...\n",
            "\n",
            "\n"
          ]
        },
        {
          "output_type": "display_data",
          "data": {
            "text/plain": [
              "\n",
              "Call:\n",
              "lm_robust(formula = mh_scale ~ gpa, data = df, weights = df$weights.ATE)\n",
              "\n",
              "Weighted, Standard error type:  HC2 \n",
              "\n",
              "Coefficients:\n",
              "            Estimate Std. Error t value  Pr(>|t|) CI Lower CI Upper DF\n",
              "(Intercept)   0.9327     0.1172   7.955 3.342e-12   0.7000    1.165 97\n",
              "gpa          -0.1637     0.1414  -1.158 2.498e-01  -0.4444    0.117 97\n",
              "\n",
              "Multiple R-squared:  0.01506 ,\tAdjusted R-squared:  0.004906 \n",
              "F-statistic:  1.34 on 1 and 97 DF,  p-value: 0.2498"
            ]
          },
          "metadata": {}
        }
      ]
    },
    {
      "cell_type": "markdown",
      "source": [
        "22 < x <= 63"
      ],
      "metadata": {
        "id": "TAJTBqa7Cp5o"
      }
    },
    {
      "cell_type": "code",
      "source": [
        "df <- read.csv('ages22_63.csv')\n",
        "dim(df)"
      ],
      "metadata": {
        "colab": {
          "base_uri": "https://localhost:8080/",
          "height": 34
        },
        "id": "ERZv_a-HAJIe",
        "outputId": "2e68c1cb-de08-4601-b2a7-b1598db3f95b"
      },
      "execution_count": 41,
      "outputs": [
        {
          "output_type": "display_data",
          "data": {
            "text/html": [
              "<style>\n",
              ".list-inline {list-style: none; margin:0; padding: 0}\n",
              ".list-inline>li {display: inline-block}\n",
              ".list-inline>li:not(:last-child)::after {content: \"\\00b7\"; padding: 0 .5ex}\n",
              "</style>\n",
              "<ol class=list-inline><li>60</li><li>56</li></ol>\n"
            ],
            "text/markdown": "1. 60\n2. 56\n\n\n",
            "text/latex": "\\begin{enumerate*}\n\\item 60\n\\item 56\n\\end{enumerate*}\n",
            "text/plain": [
              "[1] 60 56"
            ]
          },
          "metadata": {}
        }
      ]
    },
    {
      "cell_type": "code",
      "source": [
        "g <- gbm(gpa ~ role_sigother + has_father + edu.r_count +\n",
        "      edu.i_count + emo.i_count +\n",
        "      prime_count +\n",
        "      max.eduhelp + max2.eduhelp +\n",
        "      max.eduhelp.close +\n",
        "      acpers + colearn + hours + covid_mh + covid_iso + covid_edu +\n",
        "      ptsd_score + trauma_sum + ss_family +\n",
        "      ss_sigother + ss_community, data = df, shrinkage=0.0005)\n",
        "df$gval <- predict(g, type='response')\n",
        "df$weights.ATE <- ifelse(df$gpa==1, 1/df$gval, 1/(1-df$gval))\n",
        "model <- lm_robust(mh_scale ~ gpa, data=df, weights=df$weights.ATE)\n",
        "summary(model)"
      ],
      "metadata": {
        "colab": {
          "base_uri": "https://localhost:8080/",
          "height": 321
        },
        "id": "Vr52bfs4-5IV",
        "outputId": "df9a707d-956b-43bf-b2e5-17cb4f130405"
      },
      "execution_count": 42,
      "outputs": [
        {
          "output_type": "stream",
          "name": "stdout",
          "text": [
            "Distribution not specified, assuming bernoulli ...\n"
          ]
        },
        {
          "output_type": "stream",
          "name": "stderr",
          "text": [
            "Using 100 trees...\n",
            "\n",
            "\n"
          ]
        },
        {
          "output_type": "display_data",
          "data": {
            "text/plain": [
              "\n",
              "Call:\n",
              "lm_robust(formula = mh_scale ~ gpa, data = df, weights = df$weights.ATE)\n",
              "\n",
              "Weighted, Standard error type:  HC2 \n",
              "\n",
              "Coefficients:\n",
              "            Estimate Std. Error  t value  Pr(>|t|) CI Lower CI Upper DF\n",
              "(Intercept)  0.78055     0.1080  7.22438 1.230e-09   0.5643   0.9968 58\n",
              "gpa         -0.01317     0.1465 -0.08989 9.287e-01  -0.3064   0.2801 58\n",
              "\n",
              "Multiple R-squared:  0.0001394 ,\tAdjusted R-squared:  -0.0171 \n",
              "F-statistic: 0.008081 on 1 and 58 DF,  p-value: 0.9287"
            ]
          },
          "metadata": {}
        }
      ]
    },
    {
      "cell_type": "code",
      "source": [],
      "metadata": {
        "id": "i3Fp8ovnC7om"
      },
      "execution_count": null,
      "outputs": []
    }
  ]
}