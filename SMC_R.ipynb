{
  "nbformat": 4,
  "nbformat_minor": 0,
  "metadata": {
    "colab": {
      "provenance": [],
      "authorship_tag": "ABX9TyP64HITBpkf1nBu/qlrTs1b",
      "include_colab_link": true
    },
    "kernelspec": {
      "name": "ir",
      "display_name": "R"
    },
    "language_info": {
      "name": "R"
    }
  },
  "cells": [
    {
      "cell_type": "markdown",
      "metadata": {
        "id": "view-in-github",
        "colab_type": "text"
      },
      "source": [
        "<a href=\"https://colab.research.google.com/github/shearere2/vcu_reu/blob/main/SMC_R.ipynb\" target=\"_parent\"><img src=\"https://colab.research.google.com/assets/colab-badge.svg\" alt=\"Open In Colab\"/></a>"
      ]
    },
    {
      "cell_type": "code",
      "source": [
        "install.packages('psych')"
      ],
      "metadata": {
        "colab": {
          "base_uri": "https://localhost:8080/"
        },
        "id": "g5XTGtR-1O7O",
        "outputId": "ba23b041-1fd3-430f-d1c2-281fac4e2045"
      },
      "execution_count": 1,
      "outputs": [
        {
          "output_type": "stream",
          "name": "stderr",
          "text": [
            "Installing package into ‘/usr/local/lib/R/site-library’\n",
            "(as ‘lib’ is unspecified)\n",
            "\n",
            "also installing the dependencies ‘mnormt’, ‘GPArotation’\n",
            "\n",
            "\n"
          ]
        }
      ]
    },
    {
      "cell_type": "code",
      "source": [
        "library(psych)"
      ],
      "metadata": {
        "id": "mpQZXePD1dnI"
      },
      "execution_count": 2,
      "outputs": []
    },
    {
      "cell_type": "code",
      "execution_count": 3,
      "metadata": {
        "id": "VyVaGjoM01-H"
      },
      "outputs": [],
      "source": [
        "df <- read.csv('numeric_MHTree.csv')"
      ]
    },
    {
      "cell_type": "code",
      "source": [
        "rownames(df) <- df$record_id"
      ],
      "metadata": {
        "id": "iF9Bvy1666wQ"
      },
      "execution_count": 4,
      "outputs": []
    },
    {
      "cell_type": "code",
      "source": [
        "info <- psych::smc(df)"
      ],
      "metadata": {
        "id": "b-68R_wm2Htk"
      },
      "execution_count": 5,
      "outputs": []
    },
    {
      "cell_type": "code",
      "source": [
        "info"
      ],
      "metadata": {
        "colab": {
          "base_uri": "https://localhost:8080/",
          "height": 329
        },
        "id": "9-D-1Gcu6SFz",
        "outputId": "6eaf903a-6844-4468-c7aa-3e04d7d445aa"
      },
      "execution_count": 6,
      "outputs": [
        {
          "output_type": "display_data",
          "data": {
            "text/html": [
              "<style>\n",
              ".dl-inline {width: auto; margin:0; padding: 0}\n",
              ".dl-inline>dt, .dl-inline>dd {float: none; width: auto; display: inline-block}\n",
              ".dl-inline>dt::after {content: \":\\0020\"; padding-right: .5ex}\n",
              ".dl-inline>dt:not(:first-of-type) {padding-left: .5ex}\n",
              "</style><dl class=dl-inline><dt>record_id</dt><dd>0.317302596350312</dd><dt>role_family</dt><dd>0.680208658711044</dd><dt>role_friend</dt><dd>0.684673002760928</dd><dt>role_sigother</dt><dd>0.923735892140465</dd><dt>role_other</dt><dd>0.774811113026339</dd><dt>has_mother</dt><dd>0.436171232588991</dd><dt>has_father</dt><dd>0.439148560953963</dd><dt>stem_notstem</dt><dd>0.193207321118613</dd><dt>edu.r_count</dt><dd>0.879464245838893</dd><dt>edu.i_count</dt><dd>0.804348921018048</dd><dt>emo.r_count</dt><dd>0.776308141635478</dd><dt>emo.i_count</dt><dd>0.819624968512093</dd><dt>has_r.edu.family</dt><dd>0.903157251078448</dd><dt>has_i.edu.family</dt><dd>0.927907349042756</dd><dt>has_r.emo.family</dt><dd>0.907157417363359</dd><dt>has_i.emo.family</dt><dd>0.775392046357857</dd><dt>has_r.edu.friend</dt><dd>0.873664075359459</dd><dt>has_i.edu.friend</dt><dd>0.914701913186373</dd><dt>has_r.emo.friend</dt><dd>0.554180107508819</dd><dt>has_i.emo.friend</dt><dd>0.554180107508821</dd><dt>has_r.edu.so</dt><dd>0.813044132808747</dd><dt>has_i.edu.so</dt><dd>0.883977914072306</dd><dt>has_r.emo.so</dt><dd>0.91842911539275</dd><dt>has_i.emo.so</dt><dd>0.951151563142745</dd><dt>has_r.edu.other</dt><dd>0.719653266289211</dd><dt>has_i.edu.other</dt><dd>0.845866847654359</dd><dt>has_r.emo.other</dt><dd>0.797964252679847</dd><dt>has_i.emo.other</dt><dd>0.812107023785456</dd><dt>prime_count</dt><dd>0.892077679498637</dd><dt>gender</dt><dd>0.204710037040352</dd><dt>max.eduhelp</dt><dd>0.816011883121783</dd><dt>max2.eduhelp</dt><dd>0.711767682383186</dd><dt>max.emohelp</dt><dd>0.916374349747418</dd><dt>max2.emohelp</dt><dd>0.728375142236312</dd><dt>max.eduhelp.close</dt><dd>0.802168357492029</dd><dt>max.emohelp.close</dt><dd>0.917888925611078</dd><dt>n4.closeness</dt><dd>0.841946936644304</dd><dt>n3.closeness</dt><dd>0.717038820375826</dd><dt>n2orless.closeness</dt><dd>0.722704742349576</dd><dt>race</dt><dd>0.185263030949838</dd><dt>gpa</dt><dd>0.284322133165323</dd><dt>acpers</dt><dd>0.335279773821057</dd><dt>colearn</dt><dd>0.340222892100373</dd><dt>hours</dt><dd>0.502079417036642</dd><dt>covid_mh</dt><dd>0.57446138433522</dd><dt>covid_iso</dt><dd>0.482956912565128</dd><dt>covid_edu</dt><dd>0.442438286522084</dd><dt>ptsd_score</dt><dd>0.724281671447614</dd><dt>trauma_sum</dt><dd>0.438140453765842</dd><dt>mh_scale</dt><dd>0.61463233767554</dd><dt>ss_friend</dt><dd>0.601637367728414</dd><dt>ss_family</dt><dd>0.551752191236333</dd><dt>ss_sigother</dt><dd>0.600834738517328</dd><dt>ss_community</dt><dd>0.482909974316214</dd><dt>age</dt><dd>0.281154573001056</dd></dl>\n"
            ],
            "text/markdown": "record_id\n:   0.317302596350312role_family\n:   0.680208658711044role_friend\n:   0.684673002760928role_sigother\n:   0.923735892140465role_other\n:   0.774811113026339has_mother\n:   0.436171232588991has_father\n:   0.439148560953963stem_notstem\n:   0.193207321118613edu.r_count\n:   0.879464245838893edu.i_count\n:   0.804348921018048emo.r_count\n:   0.776308141635478emo.i_count\n:   0.819624968512093has_r.edu.family\n:   0.903157251078448has_i.edu.family\n:   0.927907349042756has_r.emo.family\n:   0.907157417363359has_i.emo.family\n:   0.775392046357857has_r.edu.friend\n:   0.873664075359459has_i.edu.friend\n:   0.914701913186373has_r.emo.friend\n:   0.554180107508819has_i.emo.friend\n:   0.554180107508821has_r.edu.so\n:   0.813044132808747has_i.edu.so\n:   0.883977914072306has_r.emo.so\n:   0.91842911539275has_i.emo.so\n:   0.951151563142745has_r.edu.other\n:   0.719653266289211has_i.edu.other\n:   0.845866847654359has_r.emo.other\n:   0.797964252679847has_i.emo.other\n:   0.812107023785456prime_count\n:   0.892077679498637gender\n:   0.204710037040352max.eduhelp\n:   0.816011883121783max2.eduhelp\n:   0.711767682383186max.emohelp\n:   0.916374349747418max2.emohelp\n:   0.728375142236312max.eduhelp.close\n:   0.802168357492029max.emohelp.close\n:   0.917888925611078n4.closeness\n:   0.841946936644304n3.closeness\n:   0.717038820375826n2orless.closeness\n:   0.722704742349576race\n:   0.185263030949838gpa\n:   0.284322133165323acpers\n:   0.335279773821057colearn\n:   0.340222892100373hours\n:   0.502079417036642covid_mh\n:   0.57446138433522covid_iso\n:   0.482956912565128covid_edu\n:   0.442438286522084ptsd_score\n:   0.724281671447614trauma_sum\n:   0.438140453765842mh_scale\n:   0.61463233767554ss_friend\n:   0.601637367728414ss_family\n:   0.551752191236333ss_sigother\n:   0.600834738517328ss_community\n:   0.482909974316214age\n:   0.281154573001056\n\n",
            "text/latex": "\\begin{description*}\n\\item[record\\textbackslash{}\\_id] 0.317302596350312\n\\item[role\\textbackslash{}\\_family] 0.680208658711044\n\\item[role\\textbackslash{}\\_friend] 0.684673002760928\n\\item[role\\textbackslash{}\\_sigother] 0.923735892140465\n\\item[role\\textbackslash{}\\_other] 0.774811113026339\n\\item[has\\textbackslash{}\\_mother] 0.436171232588991\n\\item[has\\textbackslash{}\\_father] 0.439148560953963\n\\item[stem\\textbackslash{}\\_notstem] 0.193207321118613\n\\item[edu.r\\textbackslash{}\\_count] 0.879464245838893\n\\item[edu.i\\textbackslash{}\\_count] 0.804348921018048\n\\item[emo.r\\textbackslash{}\\_count] 0.776308141635478\n\\item[emo.i\\textbackslash{}\\_count] 0.819624968512093\n\\item[has\\textbackslash{}\\_r.edu.family] 0.903157251078448\n\\item[has\\textbackslash{}\\_i.edu.family] 0.927907349042756\n\\item[has\\textbackslash{}\\_r.emo.family] 0.907157417363359\n\\item[has\\textbackslash{}\\_i.emo.family] 0.775392046357857\n\\item[has\\textbackslash{}\\_r.edu.friend] 0.873664075359459\n\\item[has\\textbackslash{}\\_i.edu.friend] 0.914701913186373\n\\item[has\\textbackslash{}\\_r.emo.friend] 0.554180107508819\n\\item[has\\textbackslash{}\\_i.emo.friend] 0.554180107508821\n\\item[has\\textbackslash{}\\_r.edu.so] 0.813044132808747\n\\item[has\\textbackslash{}\\_i.edu.so] 0.883977914072306\n\\item[has\\textbackslash{}\\_r.emo.so] 0.91842911539275\n\\item[has\\textbackslash{}\\_i.emo.so] 0.951151563142745\n\\item[has\\textbackslash{}\\_r.edu.other] 0.719653266289211\n\\item[has\\textbackslash{}\\_i.edu.other] 0.845866847654359\n\\item[has\\textbackslash{}\\_r.emo.other] 0.797964252679847\n\\item[has\\textbackslash{}\\_i.emo.other] 0.812107023785456\n\\item[prime\\textbackslash{}\\_count] 0.892077679498637\n\\item[gender] 0.204710037040352\n\\item[max.eduhelp] 0.816011883121783\n\\item[max2.eduhelp] 0.711767682383186\n\\item[max.emohelp] 0.916374349747418\n\\item[max2.emohelp] 0.728375142236312\n\\item[max.eduhelp.close] 0.802168357492029\n\\item[max.emohelp.close] 0.917888925611078\n\\item[n4.closeness] 0.841946936644304\n\\item[n3.closeness] 0.717038820375826\n\\item[n2orless.closeness] 0.722704742349576\n\\item[race] 0.185263030949838\n\\item[gpa] 0.284322133165323\n\\item[acpers] 0.335279773821057\n\\item[colearn] 0.340222892100373\n\\item[hours] 0.502079417036642\n\\item[covid\\textbackslash{}\\_mh] 0.57446138433522\n\\item[covid\\textbackslash{}\\_iso] 0.482956912565128\n\\item[covid\\textbackslash{}\\_edu] 0.442438286522084\n\\item[ptsd\\textbackslash{}\\_score] 0.724281671447614\n\\item[trauma\\textbackslash{}\\_sum] 0.438140453765842\n\\item[mh\\textbackslash{}\\_scale] 0.61463233767554\n\\item[ss\\textbackslash{}\\_friend] 0.601637367728414\n\\item[ss\\textbackslash{}\\_family] 0.551752191236333\n\\item[ss\\textbackslash{}\\_sigother] 0.600834738517328\n\\item[ss\\textbackslash{}\\_community] 0.482909974316214\n\\item[age] 0.281154573001056\n\\end{description*}\n",
            "text/plain": [
              "         record_id        role_family        role_friend      role_sigother \n",
              "         0.3173026          0.6802087          0.6846730          0.9237359 \n",
              "        role_other         has_mother         has_father       stem_notstem \n",
              "         0.7748111          0.4361712          0.4391486          0.1932073 \n",
              "       edu.r_count        edu.i_count        emo.r_count        emo.i_count \n",
              "         0.8794642          0.8043489          0.7763081          0.8196250 \n",
              "  has_r.edu.family   has_i.edu.family   has_r.emo.family   has_i.emo.family \n",
              "         0.9031573          0.9279073          0.9071574          0.7753920 \n",
              "  has_r.edu.friend   has_i.edu.friend   has_r.emo.friend   has_i.emo.friend \n",
              "         0.8736641          0.9147019          0.5541801          0.5541801 \n",
              "      has_r.edu.so       has_i.edu.so       has_r.emo.so       has_i.emo.so \n",
              "         0.8130441          0.8839779          0.9184291          0.9511516 \n",
              "   has_r.edu.other    has_i.edu.other    has_r.emo.other    has_i.emo.other \n",
              "         0.7196533          0.8458668          0.7979643          0.8121070 \n",
              "       prime_count             gender        max.eduhelp       max2.eduhelp \n",
              "         0.8920777          0.2047100          0.8160119          0.7117677 \n",
              "       max.emohelp       max2.emohelp  max.eduhelp.close  max.emohelp.close \n",
              "         0.9163743          0.7283751          0.8021684          0.9178889 \n",
              "      n4.closeness       n3.closeness n2orless.closeness               race \n",
              "         0.8419469          0.7170388          0.7227047          0.1852630 \n",
              "               gpa             acpers            colearn              hours \n",
              "         0.2843221          0.3352798          0.3402229          0.5020794 \n",
              "          covid_mh          covid_iso          covid_edu         ptsd_score \n",
              "         0.5744614          0.4829569          0.4424383          0.7242817 \n",
              "        trauma_sum           mh_scale          ss_friend          ss_family \n",
              "         0.4381405          0.6146323          0.6016374          0.5517522 \n",
              "       ss_sigother       ss_community                age \n",
              "         0.6008347          0.4829100          0.2811546 "
            ]
          },
          "metadata": {}
        }
      ]
    },
    {
      "cell_type": "code",
      "source": [],
      "metadata": {
        "id": "2awUEsmk6jLI"
      },
      "execution_count": null,
      "outputs": []
    }
  ]
}